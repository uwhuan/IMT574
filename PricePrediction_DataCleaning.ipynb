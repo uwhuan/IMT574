{
 "cells": [
  {
   "cell_type": "code",
   "execution_count": 51,
   "metadata": {},
   "outputs": [],
   "source": [
    "import pandas as pd \n",
    "import matplotlib.pyplot as plt\n",
    "from sklearn.cluster import KMeans\n",
    "from sklearn.preprocessing import StandardScaler\n",
    "import seaborn as sns\n",
    "from sklearn.model_selection import train_test_split\n",
    "from sklearn import preprocessing\n",
    "import statsmodels.api as sm\n",
    "\n"
   ]
  },
  {
   "cell_type": "markdown",
   "metadata": {},
   "source": [
    "# Problem: Stayzilla Listing Room Price Prediction"
   ]
  },
  {
   "cell_type": "code",
   "execution_count": 354,
   "metadata": {},
   "outputs": [],
   "source": [
    "# load the data \n",
    "data = pd.read_csv('stayzilla_com-travel_sample.csv') # original sample data with more columns\n",
    "\n",
    "data1 = pd.read_csv('stayzilla_rough_cleaned.csv') # rough cleaned data "
   ]
  },
  {
   "cell_type": "markdown",
   "metadata": {},
   "source": [
    "# Data Processing "
   ]
  },
  {
   "cell_type": "code",
   "execution_count": 305,
   "metadata": {
    "scrolled": true
   },
   "outputs": [
    {
     "data": {
      "text/html": [
       "<div>\n",
       "<style scoped>\n",
       "    .dataframe tbody tr th:only-of-type {\n",
       "        vertical-align: middle;\n",
       "    }\n",
       "\n",
       "    .dataframe tbody tr th {\n",
       "        vertical-align: top;\n",
       "    }\n",
       "\n",
       "    .dataframe thead th {\n",
       "        text-align: right;\n",
       "    }\n",
       "</style>\n",
       "<table border=\"1\" class=\"dataframe\">\n",
       "  <thead>\n",
       "    <tr style=\"text-align: right;\">\n",
       "      <th></th>\n",
       "      <th>additional_info</th>\n",
       "      <th>amenities</th>\n",
       "      <th>check_in_date</th>\n",
       "      <th>check_out_date</th>\n",
       "      <th>city</th>\n",
       "      <th>country</th>\n",
       "      <th>crawl_date</th>\n",
       "      <th>description</th>\n",
       "      <th>highlight_value</th>\n",
       "      <th>hotel_star_rating</th>\n",
       "      <th>...</th>\n",
       "      <th>query_time_stamp</th>\n",
       "      <th>room_price</th>\n",
       "      <th>room_types</th>\n",
       "      <th>search_term</th>\n",
       "      <th>service_value</th>\n",
       "      <th>similar_hotel</th>\n",
       "      <th>sitename</th>\n",
       "      <th>things_to_do</th>\n",
       "      <th>things_to_note</th>\n",
       "      <th>uniq_id</th>\n",
       "    </tr>\n",
       "  </thead>\n",
       "  <tbody>\n",
       "    <tr>\n",
       "      <th>0</th>\n",
       "      <td>Acceptance Rate:100 percent|Response Time:&lt; 6 hours</td>\n",
       "      <td>Newspaper</td>\n",
       "      <td>04-08-2016</td>\n",
       "      <td>05-08-2016</td>\n",
       "      <td>Kalimpong</td>\n",
       "      <td>India</td>\n",
       "      <td>2016-07-20</td>\n",
       "      <td>Sangsey Valley Resort is Located at the wonderful location of upper delo icchey dara gaon .Delo Hill is an extended nature park with very well mai...</td>\n",
       "      <td>NaN</td>\n",
       "      <td>NaN</td>\n",
       "      <td>...</td>\n",
       "      <td>2016-07-20 10:59:55 +0000</td>\n",
       "      <td>3167per night incl. tax</td>\n",
       "      <td>3 Bedded Room</td>\n",
       "      <td>NaN</td>\n",
       "      <td>Not Verified</td>\n",
       "      <td>NaN</td>\n",
       "      <td>www.stayzilla.com</td>\n",
       "      <td>NaN</td>\n",
       "      <td>All taxes.|Complimentary Breakfast, Lunch and Dinner.</td>\n",
       "      <td>52a63c632d90923f7f0c394a79dce191</td>\n",
       "    </tr>\n",
       "    <tr>\n",
       "      <th>1</th>\n",
       "      <td>Acceptance Rate:100 percent|Response Time:&lt; 6 hours</td>\n",
       "      <td>Parking|AC</td>\n",
       "      <td>04-08-2016</td>\n",
       "      <td>05-08-2016</td>\n",
       "      <td>Kanpur</td>\n",
       "      <td>India</td>\n",
       "      <td>2016-07-20</td>\n",
       "      <td>What should you know? Enjoy unmatched service at affordable prices at Amantran Hotel. Laundry, doctor-on-call, car parking, and a travel desk for ...</td>\n",
       "      <td>NaN</td>\n",
       "      <td>NaN</td>\n",
       "      <td>...</td>\n",
       "      <td>2016-07-20 10:59:55 +0000</td>\n",
       "      <td>815per night incl. tax</td>\n",
       "      <td>Double Non-A/C Rooms</td>\n",
       "      <td>NaN</td>\n",
       "      <td>Not Verified</td>\n",
       "      <td>Hotel Mangalam|Hotel Maha Roopa Palace</td>\n",
       "      <td>www.stayzilla.com</td>\n",
       "      <td>NaN</td>\n",
       "      <td>Kindly Note:|This Tariff is not applicable for long weekends, Government Holidays and festival period.</td>\n",
       "      <td>49ad3256fc231a4c9fdb6f6f2cc00d16</td>\n",
       "    </tr>\n",
       "    <tr>\n",
       "      <th>2</th>\n",
       "      <td>Acceptance Rate:100 percent|Response Time:&lt; 6 hours</td>\n",
       "      <td>Pickup &amp; Drop|Parking|AC</td>\n",
       "      <td>04-08-2016</td>\n",
       "      <td>05-08-2016</td>\n",
       "      <td>Jodhpur</td>\n",
       "      <td>India</td>\n",
       "      <td>2016-07-20</td>\n",
       "      <td>What should you know? A budget hotel, this accommodation facility is located in the heart of Jodhpur City and is easily accessible from all major ...</td>\n",
       "      <td>NaN</td>\n",
       "      <td>NaN</td>\n",
       "      <td>...</td>\n",
       "      <td>2016-07-20 10:59:55 +0000</td>\n",
       "      <td>1624per night incl. tax</td>\n",
       "      <td>Deluxe AC Double</td>\n",
       "      <td>NaN</td>\n",
       "      <td>Not Verified</td>\n",
       "      <td>Gouri Heritage Haveli|The Regent Hotel|Vista Rooms at Khaas Bagh|Hotel Guru International</td>\n",
       "      <td>www.stayzilla.com</td>\n",
       "      <td>NaN</td>\n",
       "      <td>All taxes.|Complimentary Tea.</td>\n",
       "      <td>8b5952e578717e20b311846f7aab031f</td>\n",
       "    </tr>\n",
       "    <tr>\n",
       "      <th>3</th>\n",
       "      <td>Acceptance Rate:100 percent|Response Time:&lt; 6 hours</td>\n",
       "      <td>WiFi|Newspaper|Pickup &amp; Drop|Gym|Parking|AC</td>\n",
       "      <td>04-08-2016</td>\n",
       "      <td>05-08-2016</td>\n",
       "      <td>Jalpaiguri</td>\n",
       "      <td>India</td>\n",
       "      <td>2016-07-20</td>\n",
       "      <td>What should you know? The Riverwood Forest Retreats is part of the Dooars in North Bengal and set amidst the mountains of the foothills of the Him...</td>\n",
       "      <td>NaN</td>\n",
       "      <td>NaN</td>\n",
       "      <td>...</td>\n",
       "      <td>2016-07-20 10:59:55 +0000</td>\n",
       "      <td>3509per night incl. tax</td>\n",
       "      <td>Premium Single A/c</td>\n",
       "      <td>NaN</td>\n",
       "      <td>Not Verified</td>\n",
       "      <td>NaN</td>\n",
       "      <td>www.stayzilla.com</td>\n",
       "      <td>NaN</td>\n",
       "      <td>All taxes|Complimentary Breakfast|Kindly Note:|Extra Bed will be provided at additional charges that has to be paid to the hotel management at the...</td>\n",
       "      <td>032d715cabef6d4633e753de416929a8</td>\n",
       "    </tr>\n",
       "    <tr>\n",
       "      <th>4</th>\n",
       "      <td>Acceptance Rate:100 percent|Response Time:&lt; 6 hours</td>\n",
       "      <td>Newspaper|AC</td>\n",
       "      <td>04-08-2016</td>\n",
       "      <td>05-08-2016</td>\n",
       "      <td>Kanpur</td>\n",
       "      <td>India</td>\n",
       "      <td>2016-07-20</td>\n",
       "      <td>What should you know? Located at a walking distance from the South X Mall, Hotel Vijay Inter Continental provides a wide range of services to its ...</td>\n",
       "      <td>NaN</td>\n",
       "      <td>NaN</td>\n",
       "      <td>...</td>\n",
       "      <td>2016-07-20 10:59:55 +0000</td>\n",
       "      <td>5802per night incl. tax</td>\n",
       "      <td>Deluxe AC Double</td>\n",
       "      <td>NaN</td>\n",
       "      <td>Not Verified</td>\n",
       "      <td>Hotel Royal Cliff</td>\n",
       "      <td>www.stayzilla.com</td>\n",
       "      <td>NaN</td>\n",
       "      <td>Complimentary Breakfast.|Complimentary WiFi.|Complimentary Tea/Coffee maker in the room.|Service charge 10%|Kindly Note:|This Tariff is not applic...</td>\n",
       "      <td>ed546591dba770faae0ec3edadb0fcde</td>\n",
       "    </tr>\n",
       "  </tbody>\n",
       "</table>\n",
       "<p>5 rows × 33 columns</p>\n",
       "</div>"
      ],
      "text/plain": [
       "                                       additional_info  \\\n",
       "0  Acceptance Rate:100 percent|Response Time:< 6 hours   \n",
       "1  Acceptance Rate:100 percent|Response Time:< 6 hours   \n",
       "2  Acceptance Rate:100 percent|Response Time:< 6 hours   \n",
       "3  Acceptance Rate:100 percent|Response Time:< 6 hours   \n",
       "4  Acceptance Rate:100 percent|Response Time:< 6 hours   \n",
       "\n",
       "                                     amenities check_in_date check_out_date  \\\n",
       "0                                    Newspaper    04-08-2016     05-08-2016   \n",
       "1                                   Parking|AC    04-08-2016     05-08-2016   \n",
       "2                     Pickup & Drop|Parking|AC    04-08-2016     05-08-2016   \n",
       "3  WiFi|Newspaper|Pickup & Drop|Gym|Parking|AC    04-08-2016     05-08-2016   \n",
       "4                                 Newspaper|AC    04-08-2016     05-08-2016   \n",
       "\n",
       "         city country  crawl_date  \\\n",
       "0   Kalimpong   India  2016-07-20   \n",
       "1      Kanpur   India  2016-07-20   \n",
       "2     Jodhpur   India  2016-07-20   \n",
       "3  Jalpaiguri   India  2016-07-20   \n",
       "4      Kanpur   India  2016-07-20   \n",
       "\n",
       "                                                                                                                                             description  \\\n",
       "0  Sangsey Valley Resort is Located at the wonderful location of upper delo icchey dara gaon .Delo Hill is an extended nature park with very well mai...   \n",
       "1  What should you know? Enjoy unmatched service at affordable prices at Amantran Hotel. Laundry, doctor-on-call, car parking, and a travel desk for ...   \n",
       "2  What should you know? A budget hotel, this accommodation facility is located in the heart of Jodhpur City and is easily accessible from all major ...   \n",
       "3  What should you know? The Riverwood Forest Retreats is part of the Dooars in North Bengal and set amidst the mountains of the foothills of the Him...   \n",
       "4  What should you know? Located at a walking distance from the South X Mall, Hotel Vijay Inter Continental provides a wide range of services to its ...   \n",
       "\n",
       "  highlight_value  hotel_star_rating  ...           query_time_stamp  \\\n",
       "0             NaN                NaN  ...  2016-07-20 10:59:55 +0000   \n",
       "1             NaN                NaN  ...  2016-07-20 10:59:55 +0000   \n",
       "2             NaN                NaN  ...  2016-07-20 10:59:55 +0000   \n",
       "3             NaN                NaN  ...  2016-07-20 10:59:55 +0000   \n",
       "4             NaN                NaN  ...  2016-07-20 10:59:55 +0000   \n",
       "\n",
       "                room_price            room_types search_term  service_value  \\\n",
       "0  3167per night incl. tax         3 Bedded Room         NaN   Not Verified   \n",
       "1   815per night incl. tax  Double Non-A/C Rooms         NaN   Not Verified   \n",
       "2  1624per night incl. tax      Deluxe AC Double         NaN   Not Verified   \n",
       "3  3509per night incl. tax    Premium Single A/c         NaN   Not Verified   \n",
       "4  5802per night incl. tax      Deluxe AC Double         NaN   Not Verified   \n",
       "\n",
       "                                                                               similar_hotel  \\\n",
       "0                                                                                        NaN   \n",
       "1                                                     Hotel Mangalam|Hotel Maha Roopa Palace   \n",
       "2  Gouri Heritage Haveli|The Regent Hotel|Vista Rooms at Khaas Bagh|Hotel Guru International   \n",
       "3                                                                                        NaN   \n",
       "4                                                                          Hotel Royal Cliff   \n",
       "\n",
       "            sitename things_to_do  \\\n",
       "0  www.stayzilla.com          NaN   \n",
       "1  www.stayzilla.com          NaN   \n",
       "2  www.stayzilla.com          NaN   \n",
       "3  www.stayzilla.com          NaN   \n",
       "4  www.stayzilla.com          NaN   \n",
       "\n",
       "                                                                                                                                          things_to_note  \\\n",
       "0                                                                                                  All taxes.|Complimentary Breakfast, Lunch and Dinner.   \n",
       "1                                                 Kindly Note:|This Tariff is not applicable for long weekends, Government Holidays and festival period.   \n",
       "2                                                                                                                          All taxes.|Complimentary Tea.   \n",
       "3  All taxes|Complimentary Breakfast|Kindly Note:|Extra Bed will be provided at additional charges that has to be paid to the hotel management at the...   \n",
       "4  Complimentary Breakfast.|Complimentary WiFi.|Complimentary Tea/Coffee maker in the room.|Service charge 10%|Kindly Note:|This Tariff is not applic...   \n",
       "\n",
       "                            uniq_id  \n",
       "0  52a63c632d90923f7f0c394a79dce191  \n",
       "1  49ad3256fc231a4c9fdb6f6f2cc00d16  \n",
       "2  8b5952e578717e20b311846f7aab031f  \n",
       "3  032d715cabef6d4633e753de416929a8  \n",
       "4  ed546591dba770faae0ec3edadb0fcde  \n",
       "\n",
       "[5 rows x 33 columns]"
      ]
     },
     "execution_count": 305,
     "metadata": {},
     "output_type": "execute_result"
    }
   ],
   "source": [
    "# inspect the data\n",
    "data.shape\n",
    "data.head()"
   ]
  },
  {
   "cell_type": "code",
   "execution_count": 306,
   "metadata": {
    "scrolled": true
   },
   "outputs": [
    {
     "data": {
      "text/html": [
       "<div>\n",
       "<style scoped>\n",
       "    .dataframe tbody tr th:only-of-type {\n",
       "        vertical-align: middle;\n",
       "    }\n",
       "\n",
       "    .dataframe tbody tr th {\n",
       "        vertical-align: top;\n",
       "    }\n",
       "\n",
       "    .dataframe thead th {\n",
       "        text-align: right;\n",
       "    }\n",
       "</style>\n",
       "<table border=\"1\" class=\"dataframe\">\n",
       "  <thead>\n",
       "    <tr style=\"text-align: right;\">\n",
       "      <th></th>\n",
       "      <th>additional_info</th>\n",
       "      <th>amenities</th>\n",
       "      <th>check_in_date</th>\n",
       "      <th>check_out_date</th>\n",
       "      <th>city</th>\n",
       "      <th>country</th>\n",
       "      <th>crawl_date</th>\n",
       "      <th>description</th>\n",
       "      <th>highlight_value</th>\n",
       "      <th>hotel_star_rating</th>\n",
       "      <th>...</th>\n",
       "      <th>query_time_stamp</th>\n",
       "      <th>room_price</th>\n",
       "      <th>room_types</th>\n",
       "      <th>search_term</th>\n",
       "      <th>service_value</th>\n",
       "      <th>similar_hotel</th>\n",
       "      <th>sitename</th>\n",
       "      <th>things_to_do</th>\n",
       "      <th>things_to_note</th>\n",
       "      <th>uniq_id</th>\n",
       "    </tr>\n",
       "  </thead>\n",
       "  <tbody>\n",
       "    <tr>\n",
       "      <th>1202</th>\n",
       "      <td>~ All Taxes.~ Complimentary Bed Tea.~ Complimentary WiFi.</td>\n",
       "      <td>Restaurent | Business Center | Wifi | Swimming Pool | Credit Card | Laundry | Gym | Free Newspaper | Car Parking</td>\n",
       "      <td>06/01/2016</td>\n",
       "      <td>09/01/2016</td>\n",
       "      <td>Mandi</td>\n",
       "      <td>NaN</td>\n",
       "      <td>NaN</td>\n",
       "      <td>NaN</td>\n",
       "      <td>What should you know?\\n Midway resort, as the name suggests, is situated in Mandi Valley that falls between Chandigarh-Manali and Shimla-Manali Hi...</td>\n",
       "      <td>0.0</td>\n",
       "      <td>...</td>\n",
       "      <td>2015-12-30 15:21:16 +0000</td>\n",
       "      <td>NaN</td>\n",
       "      <td>Deluxe Room Non Ac | Deluxe Room Ac | Super Deluxe Room Ac | Family Suite Ac | Extra Bed</td>\n",
       "      <td>Mandi</td>\n",
       "      <td>Laundry | Free Newspaper | Parking</td>\n",
       "      <td>NaN</td>\n",
       "      <td>stayzilla</td>\n",
       "      <td>Restaurant | Swimming Pool | Health Club</td>\n",
       "      <td>NaN</td>\n",
       "      <td>8cdac0cb8c7c71a1731370750b5448f0</td>\n",
       "    </tr>\n",
       "    <tr>\n",
       "      <th>1203</th>\n",
       "      <td>~ All Taxes</td>\n",
       "      <td>Wifi | Laundry | Car Parking</td>\n",
       "      <td>06/01/2016</td>\n",
       "      <td>09/01/2016</td>\n",
       "      <td>Bhilwara</td>\n",
       "      <td>NaN</td>\n",
       "      <td>NaN</td>\n",
       "      <td>NaN</td>\n",
       "      <td>What should you know?\\n A budget hotel that offers two categories of rooms namely deluxe and luxury, Hotel City Plaza provides basic amenities to ...</td>\n",
       "      <td>0.0</td>\n",
       "      <td>...</td>\n",
       "      <td>2015-12-30 15:21:16 +0000</td>\n",
       "      <td>NaN</td>\n",
       "      <td>Deluxe Double | Luxury Double | Extra Bed</td>\n",
       "      <td>Bhilwara</td>\n",
       "      <td>Laundry | Parking | 24 hour check in | 24 hour check out</td>\n",
       "      <td>NaN</td>\n",
       "      <td>stayzilla</td>\n",
       "      <td>NaN</td>\n",
       "      <td>NaN</td>\n",
       "      <td>d091b4973071cbc2559c0db555db80f3</td>\n",
       "    </tr>\n",
       "    <tr>\n",
       "      <th>1204</th>\n",
       "      <td>Kindly Note ~ Hotel doesn't have Restaurants in the premises.</td>\n",
       "      <td>Laundry | Car Parking</td>\n",
       "      <td>06/01/2016</td>\n",
       "      <td>09/01/2016</td>\n",
       "      <td>Gandhinagar</td>\n",
       "      <td>NaN</td>\n",
       "      <td>NaN</td>\n",
       "      <td>NaN</td>\n",
       "      <td>What should you know?\\n Hotel Shreeji boasts of 11 spacious and well-appointed rooms which are air-conditioned. The hotel provides Airport and Rai...</td>\n",
       "      <td>0.0</td>\n",
       "      <td>...</td>\n",
       "      <td>2015-12-30 15:21:16 +0000</td>\n",
       "      <td>NaN</td>\n",
       "      <td>Double Non A/c Room | Double A/c Room | Extra Bed</td>\n",
       "      <td>Gandhinagar</td>\n",
       "      <td>Laundry | Parking</td>\n",
       "      <td>NaN</td>\n",
       "      <td>stayzilla</td>\n",
       "      <td>NaN</td>\n",
       "      <td>NaN</td>\n",
       "      <td>9fb6e2266ea09509d668195b1250eed1</td>\n",
       "    </tr>\n",
       "    <tr>\n",
       "      <th>1205</th>\n",
       "      <td>~ All taxes.~ Complimentary WiFi. And Bed Tea; Coffee And News Paper.~ Complimentary Pickup And Drop From Bus Stand.</td>\n",
       "      <td>Wifi | Credit Card | Laundry | Free Newspaper | Car Parking</td>\n",
       "      <td>06/01/2016</td>\n",
       "      <td>09/01/2016</td>\n",
       "      <td>Uttarkashi</td>\n",
       "      <td>NaN</td>\n",
       "      <td>NaN</td>\n",
       "      <td>NaN</td>\n",
       "      <td>NaN</td>\n",
       "      <td>0.0</td>\n",
       "      <td>...</td>\n",
       "      <td>2015-12-30 15:21:16 +0000</td>\n",
       "      <td>NaN</td>\n",
       "      <td>Double Non A/c Room | Deluxe Non A/c Double | Deluxe A/c Double | Extra Bed</td>\n",
       "      <td>Uttarkashi</td>\n",
       "      <td>Laundry | Free Newspaper | Parking | 24 hour check in | 24 hour check out</td>\n",
       "      <td>NaN</td>\n",
       "      <td>stayzilla</td>\n",
       "      <td>NaN</td>\n",
       "      <td>NaN</td>\n",
       "      <td>6376a5202298fb78e0f9954a85b8a45c</td>\n",
       "    </tr>\n",
       "    <tr>\n",
       "      <th>1206</th>\n",
       "      <td>NaN</td>\n",
       "      <td>Bar/Pub | Wifi | Laundry | Free Newspaper</td>\n",
       "      <td>06/01/2016</td>\n",
       "      <td>09/01/2016</td>\n",
       "      <td>Goa</td>\n",
       "      <td>NaN</td>\n",
       "      <td>NaN</td>\n",
       "      <td>NaN</td>\n",
       "      <td>NaN</td>\n",
       "      <td>0.0</td>\n",
       "      <td>...</td>\n",
       "      <td>2015-12-30 15:21:16 +0000</td>\n",
       "      <td>NaN</td>\n",
       "      <td>Duplex Upstairs Hut Double | Duplex Downstairs Hut Double | Extra Bed</td>\n",
       "      <td>Goa Velha</td>\n",
       "      <td>Laundry | Free Newspaper</td>\n",
       "      <td>NaN</td>\n",
       "      <td>stayzilla</td>\n",
       "      <td>Bar</td>\n",
       "      <td>NaN</td>\n",
       "      <td>8d1913cb412923244fb6c5c333a3d8d1</td>\n",
       "    </tr>\n",
       "  </tbody>\n",
       "</table>\n",
       "<p>5 rows × 33 columns</p>\n",
       "</div>"
      ],
      "text/plain": [
       "                                                                                                           additional_info  \\\n",
       "1202                                                             ~ All Taxes.~ Complimentary Bed Tea.~ Complimentary WiFi.   \n",
       "1203                                                                                                           ~ All Taxes   \n",
       "1204                                                         Kindly Note ~ Hotel doesn't have Restaurants in the premises.   \n",
       "1205  ~ All taxes.~ Complimentary WiFi. And Bed Tea; Coffee And News Paper.~ Complimentary Pickup And Drop From Bus Stand.   \n",
       "1206                                                                                                                   NaN   \n",
       "\n",
       "                                                                                                             amenities  \\\n",
       "1202  Restaurent | Business Center | Wifi | Swimming Pool | Credit Card | Laundry | Gym | Free Newspaper | Car Parking   \n",
       "1203                                                                                      Wifi | Laundry | Car Parking   \n",
       "1204                                                                                             Laundry | Car Parking   \n",
       "1205                                                       Wifi | Credit Card | Laundry | Free Newspaper | Car Parking   \n",
       "1206                                                                         Bar/Pub | Wifi | Laundry | Free Newspaper   \n",
       "\n",
       "     check_in_date check_out_date         city country crawl_date description  \\\n",
       "1202    06/01/2016     09/01/2016        Mandi     NaN        NaN         NaN   \n",
       "1203    06/01/2016     09/01/2016     Bhilwara     NaN        NaN         NaN   \n",
       "1204    06/01/2016     09/01/2016  Gandhinagar     NaN        NaN         NaN   \n",
       "1205    06/01/2016     09/01/2016   Uttarkashi     NaN        NaN         NaN   \n",
       "1206    06/01/2016     09/01/2016          Goa     NaN        NaN         NaN   \n",
       "\n",
       "                                                                                                                                            highlight_value  \\\n",
       "1202  What should you know?\\n Midway resort, as the name suggests, is situated in Mandi Valley that falls between Chandigarh-Manali and Shimla-Manali Hi...   \n",
       "1203  What should you know?\\n A budget hotel that offers two categories of rooms namely deluxe and luxury, Hotel City Plaza provides basic amenities to ...   \n",
       "1204  What should you know?\\n Hotel Shreeji boasts of 11 spacious and well-appointed rooms which are air-conditioned. The hotel provides Airport and Rai...   \n",
       "1205                                                                                                                                                    NaN   \n",
       "1206                                                                                                                                                    NaN   \n",
       "\n",
       "      hotel_star_rating  ...           query_time_stamp room_price  \\\n",
       "1202                0.0  ...  2015-12-30 15:21:16 +0000        NaN   \n",
       "1203                0.0  ...  2015-12-30 15:21:16 +0000        NaN   \n",
       "1204                0.0  ...  2015-12-30 15:21:16 +0000        NaN   \n",
       "1205                0.0  ...  2015-12-30 15:21:16 +0000        NaN   \n",
       "1206                0.0  ...  2015-12-30 15:21:16 +0000        NaN   \n",
       "\n",
       "                                                                                    room_types  \\\n",
       "1202  Deluxe Room Non Ac | Deluxe Room Ac | Super Deluxe Room Ac | Family Suite Ac | Extra Bed   \n",
       "1203                                                 Deluxe Double | Luxury Double | Extra Bed   \n",
       "1204                                         Double Non A/c Room | Double A/c Room | Extra Bed   \n",
       "1205               Double Non A/c Room | Deluxe Non A/c Double | Deluxe A/c Double | Extra Bed   \n",
       "1206                     Duplex Upstairs Hut Double | Duplex Downstairs Hut Double | Extra Bed   \n",
       "\n",
       "      search_term  \\\n",
       "1202        Mandi   \n",
       "1203     Bhilwara   \n",
       "1204  Gandhinagar   \n",
       "1205   Uttarkashi   \n",
       "1206    Goa Velha   \n",
       "\n",
       "                                                                  service_value  \\\n",
       "1202                                         Laundry | Free Newspaper | Parking   \n",
       "1203                   Laundry | Parking | 24 hour check in | 24 hour check out   \n",
       "1204                                                          Laundry | Parking   \n",
       "1205  Laundry | Free Newspaper | Parking | 24 hour check in | 24 hour check out   \n",
       "1206                                                   Laundry | Free Newspaper   \n",
       "\n",
       "      similar_hotel   sitename                              things_to_do  \\\n",
       "1202            NaN  stayzilla  Restaurant | Swimming Pool | Health Club   \n",
       "1203            NaN  stayzilla                                       NaN   \n",
       "1204            NaN  stayzilla                                       NaN   \n",
       "1205            NaN  stayzilla                                       NaN   \n",
       "1206            NaN  stayzilla                                       Bar   \n",
       "\n",
       "     things_to_note                           uniq_id  \n",
       "1202            NaN  8cdac0cb8c7c71a1731370750b5448f0  \n",
       "1203            NaN  d091b4973071cbc2559c0db555db80f3  \n",
       "1204            NaN  9fb6e2266ea09509d668195b1250eed1  \n",
       "1205            NaN  6376a5202298fb78e0f9954a85b8a45c  \n",
       "1206            NaN  8d1913cb412923244fb6c5c333a3d8d1  \n",
       "\n",
       "[5 rows x 33 columns]"
      ]
     },
     "execution_count": 306,
     "metadata": {},
     "output_type": "execute_result"
    }
   ],
   "source": [
    "data.tail()"
   ]
  },
  {
   "cell_type": "code",
   "execution_count": 307,
   "metadata": {
    "collapsed": true
   },
   "outputs": [
    {
     "name": "stdout",
     "output_type": "stream",
     "text": [
      "<class 'pandas.core.frame.DataFrame'>\n",
      "RangeIndex: 1207 entries, 0 to 1206\n",
      "Data columns (total 33 columns):\n",
      " #   Column             Non-Null Count  Dtype  \n",
      "---  ------             --------------  -----  \n",
      " 0   additional_info    1203 non-null   object \n",
      " 1   amenities          1154 non-null   object \n",
      " 2   check_in_date      1207 non-null   object \n",
      " 3   check_out_date     1207 non-null   object \n",
      " 4   city               1207 non-null   object \n",
      " 5   country            1139 non-null   object \n",
      " 6   crawl_date         1139 non-null   object \n",
      " 7   description        919 non-null    object \n",
      " 8   highlight_value    52 non-null     object \n",
      " 9   hotel_star_rating  68 non-null     float64\n",
      " 10  image_count        985 non-null    float64\n",
      " 11  image_urls         947 non-null    object \n",
      " 12  internet           68 non-null     object \n",
      " 13  landmark           68 non-null     object \n",
      " 14  latitude           1207 non-null   float64\n",
      " 15  longitude          1207 non-null   float64\n",
      " 16  occupancy          1139 non-null   object \n",
      " 17  pageurl            1207 non-null   object \n",
      " 18  property_address   1207 non-null   object \n",
      " 19  property_id        1207 non-null   int64  \n",
      " 20  property_name      1207 non-null   object \n",
      " 21  property_type      1207 non-null   object \n",
      " 22  qts                1139 non-null   object \n",
      " 23  query_time_stamp   1207 non-null   object \n",
      " 24  room_price         1139 non-null   object \n",
      " 25  room_types         1207 non-null   object \n",
      " 26  search_term        68 non-null     object \n",
      " 27  service_value      1206 non-null   object \n",
      " 28  similar_hotel      825 non-null    object \n",
      " 29  sitename           1207 non-null   object \n",
      " 30  things_to_do       40 non-null     object \n",
      " 31  things_to_note     977 non-null    object \n",
      " 32  uniq_id            1207 non-null   object \n",
      "dtypes: float64(4), int64(1), object(28)\n",
      "memory usage: 311.3+ KB\n"
     ]
    }
   ],
   "source": [
    "data.info()"
   ]
  },
  {
   "cell_type": "code",
   "execution_count": 308,
   "metadata": {
    "scrolled": true
   },
   "outputs": [
    {
     "data": {
      "text/plain": [
       "additional_info         4\n",
       "amenities              53\n",
       "check_in_date           0\n",
       "check_out_date          0\n",
       "city                    0\n",
       "country                68\n",
       "crawl_date             68\n",
       "description           288\n",
       "highlight_value      1155\n",
       "hotel_star_rating    1139\n",
       "image_count           222\n",
       "image_urls            260\n",
       "internet             1139\n",
       "landmark             1139\n",
       "latitude                0\n",
       "longitude               0\n",
       "occupancy              68\n",
       "pageurl                 0\n",
       "property_address        0\n",
       "property_id             0\n",
       "property_name           0\n",
       "property_type           0\n",
       "qts                    68\n",
       "query_time_stamp        0\n",
       "room_price             68\n",
       "room_types              0\n",
       "search_term          1139\n",
       "service_value           1\n",
       "similar_hotel         382\n",
       "sitename                0\n",
       "things_to_do         1167\n",
       "things_to_note        230\n",
       "uniq_id                 0\n",
       "dtype: int64"
      ]
     },
     "execution_count": 308,
     "metadata": {},
     "output_type": "execute_result"
    }
   ],
   "source": [
    "# check missing values\n",
    "data.isnull().sum()"
   ]
  },
  {
   "cell_type": "markdown",
   "metadata": {},
   "source": [
    "For the purpose of modeling, we will use the features that could affect the property price to a certain degree and are not sustaintially missing. We will not use features that are not obviously relevant to price prediction such as  `property_name`, nor features that has many missing values. <br>"
   ]
  },
  {
   "cell_type": "code",
   "execution_count": 500,
   "metadata": {},
   "outputs": [],
   "source": [
    "# extract possible features  \n",
    "features = ['additional_info', 'city', 'amenities', 'description' , 'image_count', 'latitude', 'longitude', 'occupancy','property_id',\n",
    "           'property_type','room_price',  'room_types', 'service_value', 'similar_hotel', 'things_to_do']\n",
    "data0 = data[data.check_in_date == '04-08-2016'][['additional_info', 'city', 'amenities', 'description' , 'image_count', 'latitude', 'longitude', 'occupancy','property_id',\n",
    "           'property_type','room_price',  'room_types', 'service_value', 'similar_hotel', 'things_to_do']]\n",
    "\n",
    "# remove duplicated property id\n",
    "data0.drop_duplicates(subset=['property_id'], inplace=True)\n",
    "data1.drop_duplicates(subset=['property_id'], inplace=True)\n"
   ]
  },
  {
   "cell_type": "markdown",
   "metadata": {},
   "source": [
    "The sample dataset has 36 columns in total. After inspecting each column, we found the data in some columns is not equally available between two different check-in dates. We will use the data with check-in data on 04-08-2016 because it has a larger portion in total rows than the other check-in date. <br>\n"
   ]
  },
  {
   "cell_type": "code",
   "execution_count": 501,
   "metadata": {},
   "outputs": [
    {
     "data": {
      "text/plain": [
       "(1139, 15)"
      ]
     },
     "execution_count": 501,
     "metadata": {},
     "output_type": "execute_result"
    }
   ],
   "source": [
    "data0.shape"
   ]
  },
  {
   "cell_type": "markdown",
   "metadata": {},
   "source": [
    "# Feature engineering\n"
   ]
  },
  {
   "cell_type": "markdown",
   "metadata": {},
   "source": [
    "### Extract numerical values from categorical variables"
   ]
  },
  {
   "cell_type": "code",
   "execution_count": 502,
   "metadata": {},
   "outputs": [],
   "source": [
    "# three columns (i.e. amenities, room_type, things_to_note) may contain 'AC'/'WIFI' information\n",
    "# to determine if a property has wifi or AC, we compare all three columns to extract such information. \n",
    "combo = data0[['amenities', 'room_types', 'things_to_do']].fillna('')\n",
    "data0['combined'] = combo['amenities'] + ' ' + combo['room_types'] + ' ' + combo['things_to_do'] \n",
    "\n",
    "# add 'wifi' column if a property has wifi\n",
    "data0['wifi'] = data0.combined.apply(lambda x: 1 if 'wifi' in x.lower() else 0)\n",
    "\n",
    "# add 'ac' column if a property has ac\n",
    "data0['ac'] = data0.combined.apply(lambda x: 1 if 'ac' in x.lower() else 0)\n",
    "\n",
    "# add 'breakfast' column if a property has free breakfast\n",
    "data0['breakfast'] = data0.combined.apply(lambda x: 1 if 'breakfast' in x.lower() else 0)"
   ]
  },
  {
   "cell_type": "code",
   "execution_count": 503,
   "metadata": {},
   "outputs": [],
   "source": [
    "#  'num_amenities': transform 'amenities' into a numerical variable\n",
    "import re\n",
    "data0['num_amenities'] = data0['amenities'].apply(lambda x: [] if pd.isnull(x) else re.split(r'[/|&\\s]\\s*', x))\n",
    "data0['num_amenities'] = data0['num_amenities'].apply(lambda x: list(filter(None, x)))\n",
    "data0['num_amenities'] = data0['num_amenities'].apply(len)"
   ]
  },
  {
   "cell_type": "code",
   "execution_count": 504,
   "metadata": {},
   "outputs": [],
   "source": [
    "# 'num_descrption': count the number of words in a description, 0 if NaN \n",
    "data0['descr_len']= data0.description.apply(lambda x: 0 if pd.isnull(x) else len(x.split()))"
   ]
  },
  {
   "cell_type": "code",
   "execution_count": 505,
   "metadata": {},
   "outputs": [],
   "source": [
    "# convert 'room_type' to a binary variable 'deluxe': 1 if it contains the word 'deluxe' or ''Superior', else 0 \n",
    "data0.room_types = data0.room_types.apply(lambda x: x.lower())\n",
    "data0['deluxe'] = data0.room_types.apply(lambda x: 1 if ('deluxe' in x) or ('superior' in x) else 0)"
   ]
  },
  {
   "cell_type": "code",
   "execution_count": 506,
   "metadata": {},
   "outputs": [],
   "source": [
    "# 'num_similar_hotels': transform 'similar hotel' into numerical valye \n",
    "data0['num_simhotel'] = data0['similar_hotel'].apply(lambda x: [] if pd.isnull(x) else re.split(r'[/|&\\s]\\s*', x))\n",
    "data0['num_simhotel'] = data0['num_simhotel'].apply(lambda x: list(filter(None, x)))\n",
    "data0['num_simhotel'] = data0['num_simhotel'].apply(len)"
   ]
  },
  {
   "cell_type": "code",
   "execution_count": 507,
   "metadata": {},
   "outputs": [],
   "source": [
    "# 'service value': encode it to 1 if verified,  0 if not or NA\n",
    "data0['service_value'] = data0['service_value'].apply(lambda x: 1 if x == 'Verified' else 0)"
   ]
  },
  {
   "cell_type": "code",
   "execution_count": 544,
   "metadata": {},
   "outputs": [],
   "source": [
    "# split 'additional_info' to two columns: 'acceptance_rate' and 'response_time'\n",
    "infodf = data0.additional_info.str.split('|',1, expand=True)"
   ]
  },
  {
   "cell_type": "code",
   "execution_count": 509,
   "metadata": {},
   "outputs": [
    {
     "data": {
      "text/plain": [
       "array(['Acceptance Rate:100 percent', 'Acceptance Rate:60 percent',\n",
       "       'Response Time:22 minutes', 'Response Time:< 6 hours',\n",
       "       'Response Time:25 minutes', 'Acceptance Rate:0 percent',\n",
       "       'Response Time:7 minutes', 'Response Time:51 minutes',\n",
       "       'Response Time:1 minute', 'Acceptance Rate:50 percent',\n",
       "       'Response Time:14 minutes', 'Acceptance Rate:75 percent',\n",
       "       'Acceptance Rate:67 percent', 'Response Time:19 minutes',\n",
       "       'Response Time:36 minutes', 'Acceptance Rate:25 percent',\n",
       "       'Response Time:17 minutes', 'Response Time:34 minutes'],\n",
       "      dtype=object)"
      ]
     },
     "execution_count": 509,
     "metadata": {},
     "output_type": "execute_result"
    }
   ],
   "source": [
    "infodf.iloc[:,-2].unique()"
   ]
  },
  {
   "cell_type": "code",
   "execution_count": 545,
   "metadata": {
    "collapsed": true
   },
   "outputs": [
    {
     "data": {
      "text/plain": [
       "array(['Response Time:< 6 hours', 'Response Time:> 24 hours',\n",
       "       'Response Time:22 minutes', 'Response Time:25 minutes',\n",
       "       'Response Time:16 hours', 'Response Time:23 hours',\n",
       "       'Response Time:30 minutes', 'Response Time:21 hours',\n",
       "       'Response Time:7 minutes', 'Response Time:10 minutes',\n",
       "       'Response Time:26 minutes', 'Response Time:21 minutes',\n",
       "       'Response Time:18 hours', 'Response Time:46 minutes',\n",
       "       'Response Time:51 minutes', 'Response Time:1 minute',\n",
       "       'Response Time:11 hours', 'Response Time:14 minutes',\n",
       "       'Response Time:39 minutes', 'Response Time:10 hours',\n",
       "       'Response Time:6 hours', 'Response Time:13 hours',\n",
       "       'Response Time:9 minutes', 'Response Time:15 hours',\n",
       "       'Response Time:7 hours', 'Response Time:20 hours',\n",
       "       'Response Time:42 minutes', 'Response Time:19 minutes',\n",
       "       'Response Time:36 minutes', 'Response Time:47 minutes',\n",
       "       'Response Time:18 minutes', 'Response Time:12 hours',\n",
       "       'Response Time:19 hours', 'Response Time:32 minutes',\n",
       "       'Response Time:27 minutes', 'Response Time:17 minutes',\n",
       "       'Response Time:24 hours', 'Response Time:34 minutes',\n",
       "       'Response Time:57 minutes', 'Response Time:9 hours'], dtype=object)"
      ]
     },
     "execution_count": 545,
     "metadata": {},
     "output_type": "execute_result"
    }
   ],
   "source": [
    "# extract'acceptance rate' and 'response time'\n",
    "# 1. swap inconsistent acceptance and response time in the two columns\n",
    "for i in range(len(infodf)):\n",
    "    if 'Response' in infodf.iloc[i,-2]:\n",
    "        infodf.iloc[i,[-2,-1]] = infodf.iloc[i,[-1, -2]]\n",
    "infodf = infodf.rename(columns={0: \"acceptance_rate\", 1: \"response_time\"})\n",
    "infodf.iloc[:,-1].unique()"
   ]
  },
  {
   "cell_type": "code",
   "execution_count": 517,
   "metadata": {
    "collapsed": true
   },
   "outputs": [
    {
     "data": {
      "text/plain": [
       "array(['Acceptance Rate:100 percent', 'Acceptance Rate:60 percent',\n",
       "       'Acceptance Rate:57 percent', 'Acceptance Rate:0 percent',\n",
       "       'Acceptance Rate:50 percent', 'Acceptance Rate:56 percent',\n",
       "       'Acceptance Rate:33 percent', 'Acceptance Rate:67 percent',\n",
       "       'Acceptance Rate:75 percent', 'Acceptance Rate:25 percent',\n",
       "       'Acceptance Rate:78 percent'], dtype=object)"
      ]
     },
     "execution_count": 517,
     "metadata": {},
     "output_type": "execute_result"
    }
   ],
   "source": [
    "infodf.acceptance_rate.unique()"
   ]
  },
  {
   "cell_type": "code",
   "execution_count": 549,
   "metadata": {},
   "outputs": [],
   "source": [
    "infodf.acceptance_rate = infodf.acceptance_rate.apply(lambda x: int(re.findall(r'\\d+', x)[0]))\n",
    "infodf.response_time = infodf.response_time.apply(lambda x: int(re.findall(r'\\d+', x)[0]))"
   ]
  },
  {
   "cell_type": "code",
   "execution_count": 552,
   "metadata": {},
   "outputs": [],
   "source": [
    "# 2. group 'response time' into three categories: <= 6hr(0), 6-24 hr(1), >24 hr (2)\n",
    "infodf['response_label']= infodf.response_time.apply(lambda x: 0 if x <= 6 else(2 if x>24 else 1))"
   ]
  },
  {
   "cell_type": "markdown",
   "metadata": {},
   "source": [
    "### Encode categorical variable"
   ]
  },
  {
   "cell_type": "code",
   "execution_count": 418,
   "metadata": {},
   "outputs": [],
   "source": [
    "# encode 'property_type' \n",
    "from sklearn.preprocessing import OneHotEncoder\n",
    "encoder = OneHotEncoder()\n",
    "results = encoder.fit_transform(data0[['property_type']])\n",
    "property_type = pd.DataFrame(results.toarray(), columns=encoder.categories_)"
   ]
  },
  {
   "cell_type": "markdown",
   "metadata": {},
   "source": [
    "### Transform geolocation information to zones"
   ]
  },
  {
   "cell_type": "code",
   "execution_count": 558,
   "metadata": {
    "scrolled": true
   },
   "outputs": [
    {
     "name": "stdout",
     "output_type": "stream",
     "text": [
      "[2 0 3 ... 0 0 0]\n",
      "[[26.1236228  81.55766353]\n",
      " [13.14838039 77.46999232]\n",
      " [25.16267444 87.2750455 ]\n",
      " [28.39978587 75.58300457]]\n"
     ]
    },
    {
     "data": {
      "image/png": "[encoded data removed]",
      "text/plain": [
       "<Figure size 432x288 with 1 Axes>"
      ]
     },
     "metadata": {
      "needs_background": "light"
     },
     "output_type": "display_data"
    },
    {
     "data": {
      "image/png": "[encoded data removed]",
      "text/plain": [
       "<Figure size 432x288 with 1 Axes>"
      ]
     },
     "metadata": {
      "needs_background": "light"
     },
     "output_type": "display_data"
    }
   ],
   "source": [
    "# use KNN to cluster longtitude and latitude: by looking at the scatter plot, we think 4 clusters would be a good threshold  \n",
    "data0.plot.scatter(x='latitude', y='longitude')\n",
    "\n",
    "# K-means clustering\n",
    "X = data0[['latitude', 'longitude']]\n",
    "kmeans = KMeans(n_clusters=4)\n",
    "y_kmeans = kmeans.fit_predict(X) \n",
    "print(y_kmeans) \n",
    "centroids = kmeans.cluster_centers_\n",
    "print(centroids)\n",
    "plt.figure(figsize=(6,4))\n",
    "plt.scatter(X['latitude'], X['longitude'], c=y_kmeans, cmap='rainbow')\n",
    "plt.scatter(centroids[:,0], centroids[:,1], c='black', s=100)\n",
    "plt.show()\n",
    "\n",
    "# add labels back the data\n",
    "data0['zones'] = y_kmeans"
   ]
  },
  {
   "cell_type": "markdown",
   "metadata": {},
   "source": [
    "### Finalize selected features"
   ]
  },
  {
   "cell_type": "code",
   "execution_count": 559,
   "metadata": {},
   "outputs": [],
   "source": [
    "# select relevant features \n",
    "dfa = data1[['description', 'city', 'image_count', 'room_price', 'adult_occupancy', 'child_occupancy']]\n",
    "dfb = data0[['property_id', 'num_amenities', 'zones', 'descr_len','deluxe','num_simhotel', 'wifi','ac','breakfast', 'service_value']]\n",
    "dfc = infodf[['acceptance_rate', 'response_label']]\n",
    "property_type.columns = ['Apartment', 'Homestay', 'Hotel','House','Lodge', 'Resort', 'Spa', 'Villa' ]\n",
    "clean_data = pd.concat([dfa,dfb,dfc, property_type], axis=1)\n"
   ]
  },
  {
   "cell_type": "markdown",
   "metadata": {},
   "source": [
    "# Data cleaning"
   ]
  },
  {
   "cell_type": "code",
   "execution_count": 2,
   "metadata": {
    "scrolled": true
   },
   "outputs": [
    {
     "data": {
      "text/html": [
       "<div>\n",
       "<style scoped>\n",
       "    .dataframe tbody tr th:only-of-type {\n",
       "        vertical-align: middle;\n",
       "    }\n",
       "\n",
       "    .dataframe tbody tr th {\n",
       "        vertical-align: top;\n",
       "    }\n",
       "\n",
       "    .dataframe thead th {\n",
       "        text-align: right;\n",
       "    }\n",
       "</style>\n",
       "<table border=\"1\" class=\"dataframe\">\n",
       "  <thead>\n",
       "    <tr style=\"text-align: right;\">\n",
       "      <th></th>\n",
       "      <th>Unnamed: 0</th>\n",
       "      <th>description</th>\n",
       "      <th>city</th>\n",
       "      <th>image_count</th>\n",
       "      <th>room_price</th>\n",
       "      <th>adult_occupancy</th>\n",
       "      <th>child_occupancy</th>\n",
       "      <th>property_id</th>\n",
       "      <th>num_amenities</th>\n",
       "      <th>zones</th>\n",
       "      <th>...</th>\n",
       "      <th>acceptance_rate</th>\n",
       "      <th>response_label</th>\n",
       "      <th>Apartment</th>\n",
       "      <th>Homestay</th>\n",
       "      <th>Hotel</th>\n",
       "      <th>House</th>\n",
       "      <th>Lodge</th>\n",
       "      <th>Resort</th>\n",
       "      <th>Spa</th>\n",
       "      <th>Villa</th>\n",
       "    </tr>\n",
       "  </thead>\n",
       "  <tbody>\n",
       "    <tr>\n",
       "      <th>0</th>\n",
       "      <td>0</td>\n",
       "      <td>Sangsey Valley Resort is Located at the wonder...</td>\n",
       "      <td>Kalimpong</td>\n",
       "      <td>3.0</td>\n",
       "      <td>3167.0</td>\n",
       "      <td>3.0</td>\n",
       "      <td>2.0</td>\n",
       "      <td>67368.0</td>\n",
       "      <td>1.0</td>\n",
       "      <td>2.0</td>\n",
       "      <td>...</td>\n",
       "      <td>100.0</td>\n",
       "      <td>0.0</td>\n",
       "      <td>0.0</td>\n",
       "      <td>0.0</td>\n",
       "      <td>0.0</td>\n",
       "      <td>0.0</td>\n",
       "      <td>0.0</td>\n",
       "      <td>1.0</td>\n",
       "      <td>0.0</td>\n",
       "      <td>0.0</td>\n",
       "    </tr>\n",
       "    <tr>\n",
       "      <th>1</th>\n",
       "      <td>1</td>\n",
       "      <td>What should you know? Enjoy unmatched service ...</td>\n",
       "      <td>Kanpur</td>\n",
       "      <td>0.0</td>\n",
       "      <td>815.0</td>\n",
       "      <td>2.0</td>\n",
       "      <td>2.0</td>\n",
       "      <td>28733.0</td>\n",
       "      <td>2.0</td>\n",
       "      <td>0.0</td>\n",
       "      <td>...</td>\n",
       "      <td>100.0</td>\n",
       "      <td>0.0</td>\n",
       "      <td>0.0</td>\n",
       "      <td>0.0</td>\n",
       "      <td>1.0</td>\n",
       "      <td>0.0</td>\n",
       "      <td>0.0</td>\n",
       "      <td>0.0</td>\n",
       "      <td>0.0</td>\n",
       "      <td>0.0</td>\n",
       "    </tr>\n",
       "    <tr>\n",
       "      <th>2</th>\n",
       "      <td>2</td>\n",
       "      <td>What should you know? A budget hotel, this acc...</td>\n",
       "      <td>Jodhpur</td>\n",
       "      <td>18.0</td>\n",
       "      <td>1624.0</td>\n",
       "      <td>2.0</td>\n",
       "      <td>2.0</td>\n",
       "      <td>53742.0</td>\n",
       "      <td>4.0</td>\n",
       "      <td>3.0</td>\n",
       "      <td>...</td>\n",
       "      <td>100.0</td>\n",
       "      <td>0.0</td>\n",
       "      <td>0.0</td>\n",
       "      <td>0.0</td>\n",
       "      <td>1.0</td>\n",
       "      <td>0.0</td>\n",
       "      <td>0.0</td>\n",
       "      <td>0.0</td>\n",
       "      <td>0.0</td>\n",
       "      <td>0.0</td>\n",
       "    </tr>\n",
       "    <tr>\n",
       "      <th>3</th>\n",
       "      <td>3</td>\n",
       "      <td>What should you know? The Riverwood Forest Ret...</td>\n",
       "      <td>Jalpaiguri</td>\n",
       "      <td>9.0</td>\n",
       "      <td>3509.0</td>\n",
       "      <td>1.0</td>\n",
       "      <td>2.0</td>\n",
       "      <td>15468.0</td>\n",
       "      <td>7.0</td>\n",
       "      <td>2.0</td>\n",
       "      <td>...</td>\n",
       "      <td>100.0</td>\n",
       "      <td>0.0</td>\n",
       "      <td>0.0</td>\n",
       "      <td>0.0</td>\n",
       "      <td>1.0</td>\n",
       "      <td>0.0</td>\n",
       "      <td>0.0</td>\n",
       "      <td>0.0</td>\n",
       "      <td>0.0</td>\n",
       "      <td>0.0</td>\n",
       "    </tr>\n",
       "    <tr>\n",
       "      <th>4</th>\n",
       "      <td>4</td>\n",
       "      <td>What should you know? Located at a walking dis...</td>\n",
       "      <td>Kanpur</td>\n",
       "      <td>5.0</td>\n",
       "      <td>5802.0</td>\n",
       "      <td>2.0</td>\n",
       "      <td>2.0</td>\n",
       "      <td>47032.0</td>\n",
       "      <td>2.0</td>\n",
       "      <td>0.0</td>\n",
       "      <td>...</td>\n",
       "      <td>100.0</td>\n",
       "      <td>0.0</td>\n",
       "      <td>0.0</td>\n",
       "      <td>0.0</td>\n",
       "      <td>1.0</td>\n",
       "      <td>0.0</td>\n",
       "      <td>0.0</td>\n",
       "      <td>0.0</td>\n",
       "      <td>0.0</td>\n",
       "      <td>0.0</td>\n",
       "    </tr>\n",
       "  </tbody>\n",
       "</table>\n",
       "<p>5 rows × 27 columns</p>\n",
       "</div>"
      ],
      "text/plain": [
       "   Unnamed: 0                                        description        city  \\\n",
       "0           0  Sangsey Valley Resort is Located at the wonder...   Kalimpong   \n",
       "1           1  What should you know? Enjoy unmatched service ...      Kanpur   \n",
       "2           2  What should you know? A budget hotel, this acc...     Jodhpur   \n",
       "3           3  What should you know? The Riverwood Forest Ret...  Jalpaiguri   \n",
       "4           4  What should you know? Located at a walking dis...      Kanpur   \n",
       "\n",
       "   image_count  room_price  adult_occupancy  child_occupancy  property_id  \\\n",
       "0          3.0      3167.0              3.0              2.0      67368.0   \n",
       "1          0.0       815.0              2.0              2.0      28733.0   \n",
       "2         18.0      1624.0              2.0              2.0      53742.0   \n",
       "3          9.0      3509.0              1.0              2.0      15468.0   \n",
       "4          5.0      5802.0              2.0              2.0      47032.0   \n",
       "\n",
       "   num_amenities  zones  ...  acceptance_rate  response_label  Apartment  \\\n",
       "0            1.0    2.0  ...            100.0             0.0        0.0   \n",
       "1            2.0    0.0  ...            100.0             0.0        0.0   \n",
       "2            4.0    3.0  ...            100.0             0.0        0.0   \n",
       "3            7.0    2.0  ...            100.0             0.0        0.0   \n",
       "4            2.0    0.0  ...            100.0             0.0        0.0   \n",
       "\n",
       "   Homestay  Hotel  House  Lodge  Resort  Spa  Villa  \n",
       "0       0.0    0.0    0.0    0.0     1.0  0.0    0.0  \n",
       "1       0.0    1.0    0.0    0.0     0.0  0.0    0.0  \n",
       "2       0.0    1.0    0.0    0.0     0.0  0.0    0.0  \n",
       "3       0.0    1.0    0.0    0.0     0.0  0.0    0.0  \n",
       "4       0.0    1.0    0.0    0.0     0.0  0.0    0.0  \n",
       "\n",
       "[5 rows x 27 columns]"
      ]
     },
     "execution_count": 2,
     "metadata": {},
     "output_type": "execute_result"
    }
   ],
   "source": [
    "clean_data = pd.read_csv('stayzillaCleanFeatures.csv')\n",
    "clean_data.head()\n",
    "#clean_data.to_csv('stayzillaCleanFeatures.csv')"
   ]
  },
  {
   "cell_type": "code",
   "execution_count": 3,
   "metadata": {
    "scrolled": true
   },
   "outputs": [
    {
     "name": "stdout",
     "output_type": "stream",
     "text": [
      "<class 'pandas.core.frame.DataFrame'>\n",
      "RangeIndex: 1203 entries, 0 to 1202\n",
      "Data columns (total 27 columns):\n",
      " #   Column           Non-Null Count  Dtype  \n",
      "---  ------           --------------  -----  \n",
      " 0   Unnamed: 0       1203 non-null   int64  \n",
      " 1   description      919 non-null    object \n",
      " 2   city             1203 non-null   object \n",
      " 3   image_count      981 non-null    float64\n",
      " 4   room_price       1139 non-null   float64\n",
      " 5   adult_occupancy  1139 non-null   float64\n",
      " 6   child_occupancy  1139 non-null   float64\n",
      " 7   property_id      1139 non-null   float64\n",
      " 8   num_amenities    1139 non-null   float64\n",
      " 9   zones            1139 non-null   float64\n",
      " 10  descr_len        1139 non-null   float64\n",
      " 11  deluxe           1139 non-null   float64\n",
      " 12  num_simhotel     1139 non-null   float64\n",
      " 13  wifi             1139 non-null   float64\n",
      " 14  ac               1139 non-null   float64\n",
      " 15  breakfast        1139 non-null   float64\n",
      " 16  service_value    1139 non-null   float64\n",
      " 17  acceptance_rate  1139 non-null   float64\n",
      " 18  response_label   1139 non-null   float64\n",
      " 19  Apartment        1139 non-null   float64\n",
      " 20  Homestay         1139 non-null   float64\n",
      " 21  Hotel            1139 non-null   float64\n",
      " 22  House            1139 non-null   float64\n",
      " 23  Lodge            1139 non-null   float64\n",
      " 24  Resort           1139 non-null   float64\n",
      " 25  Spa              1139 non-null   float64\n",
      " 26  Villa            1139 non-null   float64\n",
      "dtypes: float64(24), int64(1), object(2)\n",
      "memory usage: 253.9+ KB\n"
     ]
    }
   ],
   "source": [
    "clean_data.info()"
   ]
  },
  {
   "cell_type": "code",
   "execution_count": 4,
   "metadata": {},
   "outputs": [],
   "source": [
    "# check missing values\n",
    "clean_data.isnull().sum()\n",
    "\n",
    "# remove missing values in target variable 'room_price'\n",
    "clean_data = clean_data.dropna(subset=['room_price'])\n",
    "\n",
    "# impute missing value in image_count as 0 \n",
    "clean_data.image_count = clean_data.image_count.fillna(0)"
   ]
  },
  {
   "cell_type": "code",
   "execution_count": 5,
   "metadata": {
    "scrolled": true
   },
   "outputs": [
    {
     "name": "stdout",
     "output_type": "stream",
     "text": [
      "missing value percentage: 0.19315188762071994\n"
     ]
    }
   ],
   "source": [
    "clean_data.isnull().sum()\n",
    "print('missing value percentage:', clean_data.description.isnull().sum()/clean_data.shape[0])"
   ]
  },
  {
   "cell_type": "markdown",
   "metadata": {},
   "source": [
    "* After imputation, the only missing values are texts in 'description' column. We will leave this for now as we would not feed this feature to the regression model. "
   ]
  },
  {
   "cell_type": "markdown",
   "metadata": {},
   "source": [
    "### Process text data \n",
    "* To take description text content into account, one possible feature would be the sentiment score for each description. It may be interesting to see if sentiment of a property description has effect on the price prediction "
   ]
  },
  {
   "cell_type": "code",
   "execution_count": 154,
   "metadata": {},
   "outputs": [
    {
     "data": {
      "text/plain": [
       "0.6619718309859155"
      ]
     },
     "execution_count": 154,
     "metadata": {},
     "output_type": "execute_result"
    }
   ],
   "source": [
    "test = clean_data.dropna()\n",
    "test.shape[0]/clean_data.shape[0]"
   ]
  },
  {
   "cell_type": "code",
   "execution_count": null,
   "metadata": {},
   "outputs": [],
   "source": [
    "textdata = clean_data[['description', 'property_id']] \n",
    "textdata['description'] = \n"
   ]
  },
  {
   "cell_type": "code",
   "execution_count": 155,
   "metadata": {
    "collapsed": true
   },
   "outputs": [
    {
     "data": {
      "text/html": [
       "<div>\n",
       "<style scoped>\n",
       "    .dataframe tbody tr th:only-of-type {\n",
       "        vertical-align: middle;\n",
       "    }\n",
       "\n",
       "    .dataframe tbody tr th {\n",
       "        vertical-align: top;\n",
       "    }\n",
       "\n",
       "    .dataframe thead th {\n",
       "        text-align: right;\n",
       "    }\n",
       "</style>\n",
       "<table border=\"1\" class=\"dataframe\">\n",
       "  <thead>\n",
       "    <tr style=\"text-align: right;\">\n",
       "      <th></th>\n",
       "      <th>description</th>\n",
       "      <th>property_id</th>\n",
       "    </tr>\n",
       "  </thead>\n",
       "  <tbody>\n",
       "    <tr>\n",
       "      <th>0</th>\n",
       "      <td>Sangsey Valley Resort is Located at the wonderful location of upper delo icchey dara gaon .Delo Hill is an extended nature park with very well mai...</td>\n",
       "      <td>67368.0</td>\n",
       "    </tr>\n",
       "    <tr>\n",
       "      <th>1</th>\n",
       "      <td>What should you know? Enjoy unmatched service at affordable prices at Amantran Hotel. Laundry, doctor-on-call, car parking, and a travel desk for ...</td>\n",
       "      <td>28733.0</td>\n",
       "    </tr>\n",
       "    <tr>\n",
       "      <th>2</th>\n",
       "      <td>What should you know? A budget hotel, this accommodation facility is located in the heart of Jodhpur City and is easily accessible from all major ...</td>\n",
       "      <td>53742.0</td>\n",
       "    </tr>\n",
       "    <tr>\n",
       "      <th>3</th>\n",
       "      <td>What should you know? The Riverwood Forest Retreats is part of the Dooars in North Bengal and set amidst the mountains of the foothills of the Him...</td>\n",
       "      <td>15468.0</td>\n",
       "    </tr>\n",
       "    <tr>\n",
       "      <th>4</th>\n",
       "      <td>What should you know? Located at a walking distance from the South X Mall, Hotel Vijay Inter Continental provides a wide range of services to its ...</td>\n",
       "      <td>47032.0</td>\n",
       "    </tr>\n",
       "    <tr>\n",
       "      <th>...</th>\n",
       "      <td>...</td>\n",
       "      <td>...</td>\n",
       "    </tr>\n",
       "    <tr>\n",
       "      <th>1134</th>\n",
       "      <td>What should you know? Hotel Sky High is part of a budget group of hotels that offer stylish interiors and modern facilities. Amenities include spa...</td>\n",
       "      <td>31659.0</td>\n",
       "    </tr>\n",
       "    <tr>\n",
       "      <th>1135</th>\n",
       "      <td>What should you know? Saubhagya Inn is situated on Station Road. This 3 star hotel provides facilities like 24-hour front desk, travel counter, ba...</td>\n",
       "      <td>25517.0</td>\n",
       "    </tr>\n",
       "    <tr>\n",
       "      <th>1136</th>\n",
       "      <td>What should you know? Located at a walkable distance from the Manak Nagar Railway station, Hotel Mohan has a total of 68 AC rooms that are categor...</td>\n",
       "      <td>789.0</td>\n",
       "    </tr>\n",
       "    <tr>\n",
       "      <th>1137</th>\n",
       "      <td>What should you know? Situated 13 km away from the Chaudhary Charan Singh International Airport, Hotel Manglam offers rooms at reasonable rates. G...</td>\n",
       "      <td>13628.0</td>\n",
       "    </tr>\n",
       "    <tr>\n",
       "      <th>1138</th>\n",
       "      <td>What should you know? Hotel Anant attempts to give you a perfect getaway from the busy world. This lodge boasts of 31 AC and non-AC rooms that com...</td>\n",
       "      <td>31401.0</td>\n",
       "    </tr>\n",
       "  </tbody>\n",
       "</table>\n",
       "<p>919 rows × 2 columns</p>\n",
       "</div>"
      ],
      "text/plain": [
       "                                                                                                                                                description  \\\n",
       "0     Sangsey Valley Resort is Located at the wonderful location of upper delo icchey dara gaon .Delo Hill is an extended nature park with very well mai...   \n",
       "1     What should you know? Enjoy unmatched service at affordable prices at Amantran Hotel. Laundry, doctor-on-call, car parking, and a travel desk for ...   \n",
       "2     What should you know? A budget hotel, this accommodation facility is located in the heart of Jodhpur City and is easily accessible from all major ...   \n",
       "3     What should you know? The Riverwood Forest Retreats is part of the Dooars in North Bengal and set amidst the mountains of the foothills of the Him...   \n",
       "4     What should you know? Located at a walking distance from the South X Mall, Hotel Vijay Inter Continental provides a wide range of services to its ...   \n",
       "...                                                                                                                                                     ...   \n",
       "1134  What should you know? Hotel Sky High is part of a budget group of hotels that offer stylish interiors and modern facilities. Amenities include spa...   \n",
       "1135  What should you know? Saubhagya Inn is situated on Station Road. This 3 star hotel provides facilities like 24-hour front desk, travel counter, ba...   \n",
       "1136  What should you know? Located at a walkable distance from the Manak Nagar Railway station, Hotel Mohan has a total of 68 AC rooms that are categor...   \n",
       "1137  What should you know? Situated 13 km away from the Chaudhary Charan Singh International Airport, Hotel Manglam offers rooms at reasonable rates. G...   \n",
       "1138  What should you know? Hotel Anant attempts to give you a perfect getaway from the busy world. This lodge boasts of 31 AC and non-AC rooms that com...   \n",
       "\n",
       "      property_id  \n",
       "0         67368.0  \n",
       "1         28733.0  \n",
       "2         53742.0  \n",
       "3         15468.0  \n",
       "4         47032.0  \n",
       "...           ...  \n",
       "1134      31659.0  \n",
       "1135      25517.0  \n",
       "1136        789.0  \n",
       "1137      13628.0  \n",
       "1138      31401.0  \n",
       "\n",
       "[919 rows x 2 columns]"
      ]
     },
     "execution_count": 155,
     "metadata": {},
     "output_type": "execute_result"
    }
   ],
   "source": [
    "pd.set_option('max_colwidth',150)\n",
    "import re, string\n",
    "\n",
    "textdata = clean_data[['description', 'property_id']].dropna()\n",
    "\n",
    "def clean_text(text):\n",
    "    '''Make text lowercase, remove text in square brackets, remove punctuation and remove words containing numbers.'''\n",
    "    text = text.lower() # make all text to lowercase\n",
    "    text = re.sub('\\[.*?\\]', '', text) # getting rid of data in brackets.  \n",
    "    text = re.sub('[%s]' % re.escape(string.punctuation), '', text) #get rid of punctuation marks\n",
    "    text = re.sub('\\w*\\d\\w*', '', text) #\\d all digits, \\w alphanumeric. Get rid of words containing numbers\n",
    "    text = re.sub('[‘’“”…]', '', text)\n",
    "    text = re.sub('\\n', '', text)\n",
    "    return text\n",
    "\n",
    "text_clean = pd.DataFrame(textdata.description.apply(lambda x: clean_text(x)))\n"
   ]
  },
  {
   "cell_type": "code",
   "execution_count": 364,
   "metadata": {},
   "outputs": [
    {
     "data": {
      "text/plain": [
       "0.0"
      ]
     },
     "execution_count": 364,
     "metadata": {},
     "output_type": "execute_result"
    }
   ],
   "source": [
    "t=''\n",
    "TextBlob(t).subjectivity"
   ]
  },
  {
   "cell_type": "code",
   "execution_count": 166,
   "metadata": {
    "collapsed": true
   },
   "outputs": [
    {
     "data": {
      "text/html": [
       "<div>\n",
       "<style scoped>\n",
       "    .dataframe tbody tr th:only-of-type {\n",
       "        vertical-align: middle;\n",
       "    }\n",
       "\n",
       "    .dataframe tbody tr th {\n",
       "        vertical-align: top;\n",
       "    }\n",
       "\n",
       "    .dataframe thead th {\n",
       "        text-align: right;\n",
       "    }\n",
       "</style>\n",
       "<table border=\"1\" class=\"dataframe\">\n",
       "  <thead>\n",
       "    <tr style=\"text-align: right;\">\n",
       "      <th></th>\n",
       "      <th>description</th>\n",
       "      <th>property_id</th>\n",
       "      <th>desc_polarity</th>\n",
       "      <th>desc_subjectivity</th>\n",
       "    </tr>\n",
       "  </thead>\n",
       "  <tbody>\n",
       "    <tr>\n",
       "      <th>0</th>\n",
       "      <td>Sangsey Valley Resort is Located at the wonderful location of upper delo icchey dara gaon .Delo Hill is an extended nature park with very well mai...</td>\n",
       "      <td>67368.0</td>\n",
       "      <td>0.377778</td>\n",
       "      <td>0.633333</td>\n",
       "    </tr>\n",
       "    <tr>\n",
       "      <th>1</th>\n",
       "      <td>What should you know? Enjoy unmatched service at affordable prices at Amantran Hotel. Laundry, doctor-on-call, car parking, and a travel desk for ...</td>\n",
       "      <td>28733.0</td>\n",
       "      <td>0.240000</td>\n",
       "      <td>0.580000</td>\n",
       "    </tr>\n",
       "    <tr>\n",
       "      <th>2</th>\n",
       "      <td>What should you know? A budget hotel, this accommodation facility is located in the heart of Jodhpur City and is easily accessible from all major ...</td>\n",
       "      <td>53742.0</td>\n",
       "      <td>0.221845</td>\n",
       "      <td>0.370714</td>\n",
       "    </tr>\n",
       "    <tr>\n",
       "      <th>3</th>\n",
       "      <td>What should you know? The Riverwood Forest Retreats is part of the Dooars in North Bengal and set amidst the mountains of the foothills of the Him...</td>\n",
       "      <td>15468.0</td>\n",
       "      <td>0.366667</td>\n",
       "      <td>0.388889</td>\n",
       "    </tr>\n",
       "    <tr>\n",
       "      <th>4</th>\n",
       "      <td>What should you know? Located at a walking distance from the South X Mall, Hotel Vijay Inter Continental provides a wide range of services to its ...</td>\n",
       "      <td>47032.0</td>\n",
       "      <td>0.083333</td>\n",
       "      <td>0.508333</td>\n",
       "    </tr>\n",
       "    <tr>\n",
       "      <th>...</th>\n",
       "      <td>...</td>\n",
       "      <td>...</td>\n",
       "      <td>...</td>\n",
       "      <td>...</td>\n",
       "    </tr>\n",
       "    <tr>\n",
       "      <th>1134</th>\n",
       "      <td>What should you know? Hotel Sky High is part of a budget group of hotels that offer stylish interiors and modern facilities. Amenities include spa...</td>\n",
       "      <td>31659.0</td>\n",
       "      <td>0.187965</td>\n",
       "      <td>0.447749</td>\n",
       "    </tr>\n",
       "    <tr>\n",
       "      <th>1135</th>\n",
       "      <td>What should you know? Saubhagya Inn is situated on Station Road. This 3 star hotel provides facilities like 24-hour front desk, travel counter, ba...</td>\n",
       "      <td>25517.0</td>\n",
       "      <td>0.190625</td>\n",
       "      <td>0.621875</td>\n",
       "    </tr>\n",
       "    <tr>\n",
       "      <th>1136</th>\n",
       "      <td>What should you know? Located at a walkable distance from the Manak Nagar Railway station, Hotel Mohan has a total of 68 AC rooms that are categor...</td>\n",
       "      <td>789.0</td>\n",
       "      <td>0.065278</td>\n",
       "      <td>0.497222</td>\n",
       "    </tr>\n",
       "    <tr>\n",
       "      <th>1137</th>\n",
       "      <td>What should you know? Situated 13 km away from the Chaudhary Charan Singh International Airport, Hotel Manglam offers rooms at reasonable rates. G...</td>\n",
       "      <td>13628.0</td>\n",
       "      <td>0.175000</td>\n",
       "      <td>0.262500</td>\n",
       "    </tr>\n",
       "    <tr>\n",
       "      <th>1138</th>\n",
       "      <td>What should you know? Hotel Anant attempts to give you a perfect getaway from the busy world. This lodge boasts of 31 AC and non-AC rooms that com...</td>\n",
       "      <td>31401.0</td>\n",
       "      <td>0.407143</td>\n",
       "      <td>0.592857</td>\n",
       "    </tr>\n",
       "  </tbody>\n",
       "</table>\n",
       "<p>919 rows × 4 columns</p>\n",
       "</div>"
      ],
      "text/plain": [
       "                                                                                                                                                description  \\\n",
       "0     Sangsey Valley Resort is Located at the wonderful location of upper delo icchey dara gaon .Delo Hill is an extended nature park with very well mai...   \n",
       "1     What should you know? Enjoy unmatched service at affordable prices at Amantran Hotel. Laundry, doctor-on-call, car parking, and a travel desk for ...   \n",
       "2     What should you know? A budget hotel, this accommodation facility is located in the heart of Jodhpur City and is easily accessible from all major ...   \n",
       "3     What should you know? The Riverwood Forest Retreats is part of the Dooars in North Bengal and set amidst the mountains of the foothills of the Him...   \n",
       "4     What should you know? Located at a walking distance from the South X Mall, Hotel Vijay Inter Continental provides a wide range of services to its ...   \n",
       "...                                                                                                                                                     ...   \n",
       "1134  What should you know? Hotel Sky High is part of a budget group of hotels that offer stylish interiors and modern facilities. Amenities include spa...   \n",
       "1135  What should you know? Saubhagya Inn is situated on Station Road. This 3 star hotel provides facilities like 24-hour front desk, travel counter, ba...   \n",
       "1136  What should you know? Located at a walkable distance from the Manak Nagar Railway station, Hotel Mohan has a total of 68 AC rooms that are categor...   \n",
       "1137  What should you know? Situated 13 km away from the Chaudhary Charan Singh International Airport, Hotel Manglam offers rooms at reasonable rates. G...   \n",
       "1138  What should you know? Hotel Anant attempts to give you a perfect getaway from the busy world. This lodge boasts of 31 AC and non-AC rooms that com...   \n",
       "\n",
       "      property_id  desc_polarity  desc_subjectivity  \n",
       "0         67368.0       0.377778           0.633333  \n",
       "1         28733.0       0.240000           0.580000  \n",
       "2         53742.0       0.221845           0.370714  \n",
       "3         15468.0       0.366667           0.388889  \n",
       "4         47032.0       0.083333           0.508333  \n",
       "...           ...            ...                ...  \n",
       "1134      31659.0       0.187965           0.447749  \n",
       "1135      25517.0       0.190625           0.621875  \n",
       "1136        789.0       0.065278           0.497222  \n",
       "1137      13628.0       0.175000           0.262500  \n",
       "1138      31401.0       0.407143           0.592857  \n",
       "\n",
       "[919 rows x 4 columns]"
      ]
     },
     "execution_count": 166,
     "metadata": {},
     "output_type": "execute_result"
    }
   ],
   "source": [
    "# get polarity score and subjectivity score using TextBlob\n",
    "from textblob import TextBlob \n",
    "\n",
    "textdata['desc_polarity'] = text_clean.description.apply(lambda x: TextBlob(x).polarity)\n",
    "textdata['desc_subjectivity'] = text_clean.description.apply(lambda x: TextBlob(x).subjectivity)\n",
    "\n",
    "# attach the scores to original cleaned data set \n",
    "textdata"
   ]
  },
  {
   "cell_type": "markdown",
   "metadata": {},
   "source": [
    "# Visual EDA"
   ]
  },
  {
   "cell_type": "code",
   "execution_count": 237,
   "metadata": {},
   "outputs": [],
   "source": [
    "# price_data = clean_data\n",
    "# price_data.to_csv('priceData.csv')\n",
    "price_data = pd.read_csv(\"priceData.csv\")"
   ]
  },
  {
   "cell_type": "code",
   "execution_count": 239,
   "metadata": {},
   "outputs": [],
   "source": [
    "# combined = pd.read_csv('stayzilla_combined_clean.csv')\n",
    "alldata = pd.concat([price_data, combined[['Newspaper', 'Parking', 'Card Payment', 'Elevator', 'Pickup & Drop',\n",
    "       'Veg Only', 'Bar', 'Laundry']]], axis=1)\n",
    "alldata = alldata.drop(columns='property_id')"
   ]
  },
  {
   "cell_type": "code",
   "execution_count": 233,
   "metadata": {},
   "outputs": [
    {
     "data": {
      "text/plain": [
       "(4532.537313432836, -159.46268656716438)"
      ]
     },
     "execution_count": 233,
     "metadata": {},
     "output_type": "execute_result"
    }
   ],
   "source": [
    "from scipy.stats import iqr\n",
    "1.5*iqr(price_data.room_price) + price_data.room_price.mean(),  price_data.room_price.mean() - 1.5*iqr(price_data.room_price) "
   ]
  },
  {
   "cell_type": "code",
   "execution_count": 286,
   "metadata": {},
   "outputs": [
    {
     "data": {
      "text/plain": [
       "<matplotlib.axes._subplots.AxesSubplot at 0x7f997dcb1c10>"
      ]
     },
     "execution_count": 286,
     "metadata": {},
     "output_type": "execute_result"
    },
    {
     "data": {
      "image/png": "[encoded data removed]",
      "text/plain": [
       "<Figure size 720x432 with 1 Axes>"
      ]
     },
     "metadata": {
      "needs_background": "light"
     },
     "output_type": "display_data"
    }
   ],
   "source": [
    "# check the room price outliner \n",
    "sns.boxplot(x=\"zones\", y=\"room_price\", data=price_data)"
   ]
  },
  {
   "cell_type": "code",
   "execution_count": 302,
   "metadata": {},
   "outputs": [
    {
     "data": {
      "text/plain": [
       "<matplotlib.axes._subplots.AxesSubplot at 0x7f9981d56450>"
      ]
     },
     "execution_count": 302,
     "metadata": {},
     "output_type": "execute_result"
    },
    {
     "data": {
      "image/png": "[encoded data removed]",
      "text/plain": [
       "<Figure size 720x432 with 1 Axes>"
      ]
     },
     "metadata": {
      "needs_background": "light"
     },
     "output_type": "display_data"
    }
   ],
   "source": [
    "# remove price higher than $20000 or less than $10\n",
    "# clean_data = clean_data[(clean_data.room_price < 20000) & (clean_data.room_price > 10)]\n",
    "# further remove outlier: price higher than $4000 or less than $10\n",
    "# train_data = price_data[(price_data.room_price < 4536) & (price_data.room_price > 0)]\n",
    "train_data = price_data[(price_data.room_price < 4536) & (price_data.room_price > 0)]\n",
    "train_data = train_data.drop(columns=['property_id', 'city'])\n",
    "\n",
    "sns.boxplot(x=\"zones\", y=\"room_price\", data=train_data)"
   ]
  },
  {
   "cell_type": "code",
   "execution_count": 295,
   "metadata": {},
   "outputs": [
    {
     "data": {
      "text/plain": [
       "array([[<matplotlib.axes._subplots.AxesSubplot object at 0x7f997dcb1cd0>,\n",
       "        <matplotlib.axes._subplots.AxesSubplot object at 0x7f9980472250>,\n",
       "        <matplotlib.axes._subplots.AxesSubplot object at 0x7f99805d7490>,\n",
       "        <matplotlib.axes._subplots.AxesSubplot object at 0x7f99805f39d0>,\n",
       "        <matplotlib.axes._subplots.AxesSubplot object at 0x7f9980629f50>],\n",
       "       [<matplotlib.axes._subplots.AxesSubplot object at 0x7f998066a510>,\n",
       "        <matplotlib.axes._subplots.AxesSubplot object at 0x7f998069eb10>,\n",
       "        <matplotlib.axes._subplots.AxesSubplot object at 0x7f99806d4fd0>,\n",
       "        <matplotlib.axes._subplots.AxesSubplot object at 0x7f99806e0050>,\n",
       "        <matplotlib.axes._subplots.AxesSubplot object at 0x7f99807176d0>],\n",
       "       [<matplotlib.axes._subplots.AxesSubplot object at 0x7f998078f110>,\n",
       "        <matplotlib.axes._subplots.AxesSubplot object at 0x7f99807c4690>,\n",
       "        <matplotlib.axes._subplots.AxesSubplot object at 0x7f99807fac10>,\n",
       "        <matplotlib.axes._subplots.AxesSubplot object at 0x7f998083c1d0>,\n",
       "        <matplotlib.axes._subplots.AxesSubplot object at 0x7f9980872750>],\n",
       "       [<matplotlib.axes._subplots.AxesSubplot object at 0x7f99808a8cd0>,\n",
       "        <matplotlib.axes._subplots.AxesSubplot object at 0x7f99808eb290>,\n",
       "        <matplotlib.axes._subplots.AxesSubplot object at 0x7f9980920810>,\n",
       "        <matplotlib.axes._subplots.AxesSubplot object at 0x7f9980955d90>,\n",
       "        <matplotlib.axes._subplots.AxesSubplot object at 0x7f9980999350>],\n",
       "       [<matplotlib.axes._subplots.AxesSubplot object at 0x7f99809cc8d0>,\n",
       "        <matplotlib.axes._subplots.AxesSubplot object at 0x7f9980a03e50>,\n",
       "        <matplotlib.axes._subplots.AxesSubplot object at 0x7f9980a45410>,\n",
       "        <matplotlib.axes._subplots.AxesSubplot object at 0x7f9980a7a990>,\n",
       "        <matplotlib.axes._subplots.AxesSubplot object at 0x7f9980ab3f10>]],\n",
       "      dtype=object)"
      ]
     },
     "execution_count": 295,
     "metadata": {},
     "output_type": "execute_result"
    },
    {
     "data": {
      "image/png": "[encoded data removed]",
      "text/plain": [
       "<Figure size 1152x864 with 25 Axes>"
      ]
     },
     "metadata": {
      "needs_background": "light"
     },
     "output_type": "display_data"
    }
   ],
   "source": [
    "\n",
    "train_data.iloc[:,2:].hist(figsize=(16,12))"
   ]
  },
  {
   "cell_type": "code",
   "execution_count": 220,
   "metadata": {},
   "outputs": [
    {
     "data": {
      "image/png": "[encoded data removed]",
      "text/plain": [
       "<Figure size 864x648 with 2 Axes>"
      ]
     },
     "metadata": {
      "needs_background": "light"
     },
     "output_type": "display_data"
    }
   ],
   "source": [
    "# check the correlation \n",
    "corrmat = train_data.iloc[:, 1:-8].corr()\n",
    "f, ax = plt.subplots(figsize=(12, 9))\n",
    "sns.heatmap(corrmat, vmax=.8, square=True, cmap=\"YlGnBu\");"
   ]
  },
  {
   "cell_type": "code",
   "execution_count": 297,
   "metadata": {},
   "outputs": [],
   "source": [
    "curatedFeatures = ['room_price', 'image_count', 'adult_occupancy',\n",
    "       'child_occupancy', 'num_amenities', 'zones', 'descr_len', 'deluxe',\n",
    "       'num_simhotel', 'wifi', 'ac', 'Hotel',\n",
    "       'House']\n",
    "train_lean = train_data[curatedFeatures]"
   ]
  },
  {
   "cell_type": "markdown",
   "metadata": {},
   "source": [
    "# Prediction"
   ]
  },
  {
   "cell_type": "code",
   "execution_count": 319,
   "metadata": {},
   "outputs": [
    {
     "data": {
      "text/plain": [
       "Index(['Unnamed: 0', 'room_price', 'image_count', 'adult_occupancy',\n",
       "       'child_occupancy', 'num_amenities', 'zones', 'descr_len', 'deluxe',\n",
       "       'num_simhotel', 'wifi', 'ac', 'breakfast', 'service_value',\n",
       "       'acceptance_rate', 'response_label', 'Apartment', 'Homestay', 'Hotel',\n",
       "       'House', 'Lodge', 'Resort', 'Spa', 'Villa'],\n",
       "      dtype='object')"
      ]
     },
     "execution_count": 319,
     "metadata": {},
     "output_type": "execute_result"
    }
   ],
   "source": [
    "train_data.columns"
   ]
  },
  {
   "cell_type": "markdown",
   "metadata": {},
   "source": [
    "## Linear regression using Gradien descent  "
   ]
  },
  {
   "cell_type": "code",
   "execution_count": 321,
   "metadata": {},
   "outputs": [],
   "source": [
    "# fit all features \n",
    "X = preprocessing.scale(train_data.iloc[:,2:])\n",
    "X = sm.add_constant(X)\n",
    "y = train_data.iloc[:,1]\n",
    "y = y.to_numpy()\n",
    "y = np.expand_dims(y, axis=1)\n",
    "X_train,X_test,y_train,y_test = train_test_split(X,y,test_size=0.3)\n"
   ]
  },
  {
   "cell_type": "code",
   "execution_count": 324,
   "metadata": {},
   "outputs": [
    {
     "name": "stdout",
     "output_type": "stream",
     "text": [
      "The cost is increasing. Try reducing alpha.\n",
      "Completed in 116 iterations.\n"
     ]
    }
   ],
   "source": [
    "# define a gradient descent function \n",
    "def grad_descent(X, y, alpha, epsilon):\n",
    "    iteration = [0]\n",
    "    i = 0\n",
    "    theta = np.ones(shape=(X.shape[1], 1))\n",
    "    \n",
    "    # X = X + np.array([1,0])\n",
    "    \n",
    "    cost = [np.transpose(X @ theta - y) @ (X @ theta - y)]\n",
    "    delta = 1\n",
    "    while (delta>epsilon):\n",
    "        \n",
    "        theta = theta - alpha*((np.transpose(X)) @ (X @ theta - y))\n",
    "        cost_val = (np.transpose(X @ theta - y)) @ (X @ theta - y)\n",
    "        cost.append(cost_val)\n",
    "        delta = abs(cost[i+1]-cost[i])\n",
    "        if ((cost[i+1]-cost[i]) > 0):\n",
    "            print(\"The cost is increasing. Try reducing alpha.\")\n",
    "            break\n",
    "        iteration.append(i)\n",
    "        i += 1\n",
    "        \n",
    "    print(\"Completed in %d iterations.\" %(i))\n",
    "    return theta, cost \n",
    "\n",
    "\n",
    "# get the theta\n",
    "\n",
    "theta1, cost_hist1 = grad_descent(X = X_train, y=y_train, alpha=0.0005, epsilon = 10**-10)\n",
    "#theta = result[0]\n",
    "#print(theta)"
   ]
  },
  {
   "cell_type": "code",
   "execution_count": 325,
   "metadata": {},
   "outputs": [
    {
     "data": {
      "text/plain": [
       "Text(0.5, 1.0, 'Convergence of gradient descent')"
      ]
     },
     "execution_count": 325,
     "metadata": {},
     "output_type": "execute_result"
    },
    {
     "data": {
      "image/png": "[encoded data removed]",
      "text/plain": [
       "<Figure size 720x432 with 1 Axes>"
      ]
     },
     "metadata": {
      "needs_background": "light"
     },
     "output_type": "display_data"
    }
   ],
   "source": [
    "import matplotlib.pyplot as plt\n",
    "plt.plot(range(1, len(cost_hist1)), [cost_hist1[i][0][0] for i in range(1, len(cost_hist1))], color ='blue')\n",
    "plt.rcParams[\"figure.figsize\"] = (10,6)\n",
    "plt.grid()\n",
    "plt.xlabel(\"Number of iterations\")\n",
    "plt.ylabel(\"cost \")\n",
    "plt.title(\"Convergence of gradient descent\")"
   ]
  },
  {
   "cell_type": "code",
   "execution_count": 113,
   "metadata": {
    "collapsed": true
   },
   "outputs": [
    {
     "name": "stdout",
     "output_type": "stream",
     "text": [
      "The cost is increasing. Try reducing alpha.\n",
      "Completed in 1 iterations.\n"
     ]
    },
    {
     "ename": "ValueError",
     "evalue": "too many values to unpack (expected 2)",
     "output_type": "error",
     "traceback": [
      "\u001b[0;31m---------------------------------------------------------------------------\u001b[0m",
      "\u001b[0;31mValueError\u001b[0m                                Traceback (most recent call last)",
      "\u001b[0;32m<ipython-input-113-3f9fcc4d1a71>\u001b[0m in \u001b[0;36m<module>\u001b[0;34m\u001b[0m\n\u001b[1;32m      1\u001b[0m \u001b[0malpha\u001b[0m \u001b[0;34m=\u001b[0m \u001b[0;36m0.002\u001b[0m\u001b[0;34m\u001b[0m\u001b[0;34m\u001b[0m\u001b[0m\n\u001b[0;32m----> 2\u001b[0;31m \u001b[0mtheta2\u001b[0m\u001b[0;34m,\u001b[0m \u001b[0mcost_hist2\u001b[0m \u001b[0;34m=\u001b[0m \u001b[0mgrad_descent\u001b[0m\u001b[0;34m(\u001b[0m\u001b[0mX\u001b[0m \u001b[0;34m=\u001b[0m \u001b[0mX_train\u001b[0m\u001b[0;34m,\u001b[0m \u001b[0my\u001b[0m\u001b[0;34m=\u001b[0m\u001b[0my_train\u001b[0m\u001b[0;34m,\u001b[0m \u001b[0malpha\u001b[0m\u001b[0;34m=\u001b[0m\u001b[0malpha\u001b[0m\u001b[0;34m,\u001b[0m \u001b[0mepsilon\u001b[0m \u001b[0;34m=\u001b[0m \u001b[0;36m10\u001b[0m\u001b[0;34m**\u001b[0m\u001b[0;34m-\u001b[0m\u001b[0;36m10\u001b[0m\u001b[0;34m)\u001b[0m\u001b[0;34m\u001b[0m\u001b[0;34m\u001b[0m\u001b[0m\n\u001b[0m\u001b[1;32m      3\u001b[0m \u001b[0;34m\u001b[0m\u001b[0m\n\u001b[1;32m      4\u001b[0m \u001b[0malpha\u001b[0m \u001b[0;34m=\u001b[0m \u001b[0;36m0.003\u001b[0m\u001b[0;34m\u001b[0m\u001b[0;34m\u001b[0m\u001b[0m\n\u001b[1;32m      5\u001b[0m \u001b[0mtheta3\u001b[0m\u001b[0;34m,\u001b[0m \u001b[0mcost_hist3\u001b[0m \u001b[0;34m=\u001b[0m \u001b[0mgrad_descent\u001b[0m\u001b[0;34m(\u001b[0m\u001b[0mX\u001b[0m \u001b[0;34m=\u001b[0m \u001b[0mX_train\u001b[0m\u001b[0;34m,\u001b[0m \u001b[0my\u001b[0m\u001b[0;34m=\u001b[0m\u001b[0my_train\u001b[0m\u001b[0;34m,\u001b[0m \u001b[0malpha\u001b[0m\u001b[0;34m=\u001b[0m\u001b[0malpha\u001b[0m\u001b[0;34m,\u001b[0m \u001b[0mepsilon\u001b[0m \u001b[0;34m=\u001b[0m \u001b[0;36m10\u001b[0m\u001b[0;34m**\u001b[0m\u001b[0;34m-\u001b[0m\u001b[0;36m10\u001b[0m\u001b[0;34m)\u001b[0m\u001b[0;34m\u001b[0m\u001b[0;34m\u001b[0m\u001b[0m\n",
      "\u001b[0;31mValueError\u001b[0m: too many values to unpack (expected 2)"
     ]
    }
   ],
   "source": [
    "# alpha = 0.00101\n",
    "# theta2, cost_hist2 = grad_descent(X = X_train, y=y_train, alpha=alpha, epsilon = 10**-10)\n",
    "\n",
    "# alpha = 0.0014\n",
    "# theta3, cost_hist3 = grad_descent(X = X_train, y=y_train, alpha=alpha, epsilon = 10**-10)\n",
    "\n",
    "# alpha = 0.0016\n",
    "# theta4, cost_hist4 = grad_descent(X = X_train, y=y_train, alpha=alpha, epsilon = 10**-10)\n",
    "\n",
    "# plt.plot(range(1, len(cost_hist1)), [cost_hist1[i][0][0] for i in range(1, len(cost_hist1))], color ='blue', label = 'alpha = 0.0012')\n",
    "# plt.plot(range(1, len(cost_hist2)), [cost_hist1[i][0][0] for i in range(1, len(cost_hist2))], color ='green', label = 'alpha = 0.0014')\n",
    "# plt.plot(range(1, len(cost_hist3)), [cost_hist1[i][0][0] for i in range(1, len(cost_hist3))], color ='yellow', label = 'alpha = 0.0016')\n",
    "# plt.plot(range(1, len(cost_hist4)), [cost_hist1[i][0][0] for i in range(1, len(cost_hist4))], color ='red', label = 'alpha = 0.004')\n",
    "\n",
    "\n",
    "# plt.rcParams[\"figure.figsize\"] = (10,6)\n",
    "# plt.grid()\n",
    "# plt.xlabel(\"Number of iterations\")\n",
    "# plt.ylabel(\"cost (J)\")\n",
    "# plt.title(\"Effect of Learning Rate On Convergence of Gradient Descent\")\n",
    "# plt.legend()"
   ]
  },
  {
   "cell_type": "code",
   "execution_count": 326,
   "metadata": {},
   "outputs": [],
   "source": [
    "# test model \n",
    "y_hat = X_test.dot(theta1)"
   ]
  },
  {
   "cell_type": "code",
   "execution_count": 328,
   "metadata": {},
   "outputs": [
    {
     "data": {
      "image/png": "[encoded data removed]",
      "text/plain": [
       "<Figure size 720x432 with 1 Axes>"
      ]
     },
     "metadata": {
      "needs_background": "light"
     },
     "output_type": "display_data"
    }
   ],
   "source": [
    "# plot to see the prediction results \n",
    "plt.figure()\n",
    "plt.scatter(x=list(range(0, len(y_hat))),y= y_hat, color='red', alpha=0.5, label='y_hat')         \n",
    "plt.scatter(x=list(range(0, len(y_test))), y=y_test, color='blue', alpha=0.5, label='y_test')\n",
    "plt.xlabel(\"Nth test data\")\n",
    "plt.ylabel('Room price')\n",
    "plt.title(\"Predicted values v.s. Test values\")\n",
    "plt.legend()\n",
    "plt.show()"
   ]
  },
  {
   "cell_type": "code",
   "execution_count": 329,
   "metadata": {},
   "outputs": [
    {
     "data": {
      "text/plain": [
       "754067.4347897796"
      ]
     },
     "execution_count": 329,
     "metadata": {},
     "output_type": "execute_result"
    }
   ],
   "source": [
    "# evaluate MSE\n",
    "from sklearn.metrics import mean_squared_error \n",
    "y_true = y_test # Y_true = Y (original values) \n",
    "y_pred = y_hat # Y_pred = Y' \n",
    "# Calculation of Mean Squared Error (MSE) \n",
    "GD_testMSE = mean_squared_error(y_true,y_pred) \n",
    "\n",
    "y_hat_train = X_train.dot(theta1)\n",
    "y_true = y_train # Y_true = Y (original values) \n",
    "y_pred = y_hat_train # Y_pred = Y' \n",
    "# Calculation of Mean Squared Error (MSE) \n",
    "GD_trainMSE = mean_squared_error(y_true,y_pred) \n",
    "GD_testMSE"
   ]
  },
  {
   "cell_type": "code",
   "execution_count": 330,
   "metadata": {},
   "outputs": [
    {
     "data": {
      "text/plain": [
       "0.2790116534538023"
      ]
     },
     "execution_count": 330,
     "metadata": {},
     "output_type": "execute_result"
    }
   ],
   "source": [
    "from sklearn.metrics import r2_score\n",
    "gd_r2 = r2_score(y_true, y_pred)\n",
    "gd_r2"
   ]
  },
  {
   "cell_type": "markdown",
   "metadata": {},
   "source": [
    "## Linear regression "
   ]
  },
  {
   "cell_type": "code",
   "execution_count": 235,
   "metadata": {},
   "outputs": [
    {
     "data": {
      "text/html": [
       "<div>\n",
       "<style scoped>\n",
       "    .dataframe tbody tr th:only-of-type {\n",
       "        vertical-align: middle;\n",
       "    }\n",
       "\n",
       "    .dataframe tbody tr th {\n",
       "        vertical-align: top;\n",
       "    }\n",
       "\n",
       "    .dataframe thead th {\n",
       "        text-align: right;\n",
       "    }\n",
       "</style>\n",
       "<table border=\"1\" class=\"dataframe\">\n",
       "  <thead>\n",
       "    <tr style=\"text-align: right;\">\n",
       "      <th></th>\n",
       "      <th>room_price</th>\n",
       "      <th>image_count</th>\n",
       "      <th>adult_occupancy</th>\n",
       "      <th>child_occupancy</th>\n",
       "      <th>property_id</th>\n",
       "      <th>num_amenities</th>\n",
       "      <th>zones</th>\n",
       "      <th>descr_len</th>\n",
       "      <th>deluxe</th>\n",
       "      <th>num_simhotel</th>\n",
       "      <th>...</th>\n",
       "      <th>acceptance_rate</th>\n",
       "      <th>response_label</th>\n",
       "      <th>Apartment</th>\n",
       "      <th>Homestay</th>\n",
       "      <th>Hotel</th>\n",
       "      <th>House</th>\n",
       "      <th>Lodge</th>\n",
       "      <th>Resort</th>\n",
       "      <th>Spa</th>\n",
       "      <th>Villa</th>\n",
       "    </tr>\n",
       "  </thead>\n",
       "  <tbody>\n",
       "    <tr>\n",
       "      <th>0</th>\n",
       "      <td>3167.0</td>\n",
       "      <td>3.0</td>\n",
       "      <td>3.0</td>\n",
       "      <td>2.0</td>\n",
       "      <td>67368.0</td>\n",
       "      <td>1.0</td>\n",
       "      <td>2.0</td>\n",
       "      <td>125.0</td>\n",
       "      <td>0.0</td>\n",
       "      <td>0.0</td>\n",
       "      <td>...</td>\n",
       "      <td>100.0</td>\n",
       "      <td>0.0</td>\n",
       "      <td>0.0</td>\n",
       "      <td>0.0</td>\n",
       "      <td>0.0</td>\n",
       "      <td>0.0</td>\n",
       "      <td>0.0</td>\n",
       "      <td>1.0</td>\n",
       "      <td>0.0</td>\n",
       "      <td>0.0</td>\n",
       "    </tr>\n",
       "    <tr>\n",
       "      <th>1</th>\n",
       "      <td>815.0</td>\n",
       "      <td>0.0</td>\n",
       "      <td>2.0</td>\n",
       "      <td>2.0</td>\n",
       "      <td>28733.0</td>\n",
       "      <td>2.0</td>\n",
       "      <td>0.0</td>\n",
       "      <td>103.0</td>\n",
       "      <td>0.0</td>\n",
       "      <td>6.0</td>\n",
       "      <td>...</td>\n",
       "      <td>100.0</td>\n",
       "      <td>0.0</td>\n",
       "      <td>0.0</td>\n",
       "      <td>0.0</td>\n",
       "      <td>1.0</td>\n",
       "      <td>0.0</td>\n",
       "      <td>0.0</td>\n",
       "      <td>0.0</td>\n",
       "      <td>0.0</td>\n",
       "      <td>0.0</td>\n",
       "    </tr>\n",
       "    <tr>\n",
       "      <th>2</th>\n",
       "      <td>1624.0</td>\n",
       "      <td>18.0</td>\n",
       "      <td>2.0</td>\n",
       "      <td>2.0</td>\n",
       "      <td>53742.0</td>\n",
       "      <td>4.0</td>\n",
       "      <td>3.0</td>\n",
       "      <td>106.0</td>\n",
       "      <td>1.0</td>\n",
       "      <td>14.0</td>\n",
       "      <td>...</td>\n",
       "      <td>100.0</td>\n",
       "      <td>0.0</td>\n",
       "      <td>0.0</td>\n",
       "      <td>0.0</td>\n",
       "      <td>1.0</td>\n",
       "      <td>0.0</td>\n",
       "      <td>0.0</td>\n",
       "      <td>0.0</td>\n",
       "      <td>0.0</td>\n",
       "      <td>0.0</td>\n",
       "    </tr>\n",
       "    <tr>\n",
       "      <th>3</th>\n",
       "      <td>3509.0</td>\n",
       "      <td>9.0</td>\n",
       "      <td>1.0</td>\n",
       "      <td>2.0</td>\n",
       "      <td>15468.0</td>\n",
       "      <td>7.0</td>\n",
       "      <td>2.0</td>\n",
       "      <td>126.0</td>\n",
       "      <td>0.0</td>\n",
       "      <td>0.0</td>\n",
       "      <td>...</td>\n",
       "      <td>100.0</td>\n",
       "      <td>0.0</td>\n",
       "      <td>0.0</td>\n",
       "      <td>0.0</td>\n",
       "      <td>1.0</td>\n",
       "      <td>0.0</td>\n",
       "      <td>0.0</td>\n",
       "      <td>0.0</td>\n",
       "      <td>0.0</td>\n",
       "      <td>0.0</td>\n",
       "    </tr>\n",
       "    <tr>\n",
       "      <th>5</th>\n",
       "      <td>1400.0</td>\n",
       "      <td>60.0</td>\n",
       "      <td>2.0</td>\n",
       "      <td>2.0</td>\n",
       "      <td>61528.0</td>\n",
       "      <td>5.0</td>\n",
       "      <td>3.0</td>\n",
       "      <td>103.0</td>\n",
       "      <td>1.0</td>\n",
       "      <td>12.0</td>\n",
       "      <td>...</td>\n",
       "      <td>100.0</td>\n",
       "      <td>0.0</td>\n",
       "      <td>0.0</td>\n",
       "      <td>0.0</td>\n",
       "      <td>1.0</td>\n",
       "      <td>0.0</td>\n",
       "      <td>0.0</td>\n",
       "      <td>0.0</td>\n",
       "      <td>0.0</td>\n",
       "      <td>0.0</td>\n",
       "    </tr>\n",
       "    <tr>\n",
       "      <th>...</th>\n",
       "      <td>...</td>\n",
       "      <td>...</td>\n",
       "      <td>...</td>\n",
       "      <td>...</td>\n",
       "      <td>...</td>\n",
       "      <td>...</td>\n",
       "      <td>...</td>\n",
       "      <td>...</td>\n",
       "      <td>...</td>\n",
       "      <td>...</td>\n",
       "      <td>...</td>\n",
       "      <td>...</td>\n",
       "      <td>...</td>\n",
       "      <td>...</td>\n",
       "      <td>...</td>\n",
       "      <td>...</td>\n",
       "      <td>...</td>\n",
       "      <td>...</td>\n",
       "      <td>...</td>\n",
       "      <td>...</td>\n",
       "      <td>...</td>\n",
       "    </tr>\n",
       "    <tr>\n",
       "      <th>1134</th>\n",
       "      <td>1736.0</td>\n",
       "      <td>5.0</td>\n",
       "      <td>1.0</td>\n",
       "      <td>2.0</td>\n",
       "      <td>31659.0</td>\n",
       "      <td>4.0</td>\n",
       "      <td>0.0</td>\n",
       "      <td>98.0</td>\n",
       "      <td>0.0</td>\n",
       "      <td>10.0</td>\n",
       "      <td>...</td>\n",
       "      <td>100.0</td>\n",
       "      <td>0.0</td>\n",
       "      <td>0.0</td>\n",
       "      <td>0.0</td>\n",
       "      <td>1.0</td>\n",
       "      <td>0.0</td>\n",
       "      <td>0.0</td>\n",
       "      <td>0.0</td>\n",
       "      <td>0.0</td>\n",
       "      <td>0.0</td>\n",
       "    </tr>\n",
       "    <tr>\n",
       "      <th>1135</th>\n",
       "      <td>2595.0</td>\n",
       "      <td>15.0</td>\n",
       "      <td>1.0</td>\n",
       "      <td>2.0</td>\n",
       "      <td>25517.0</td>\n",
       "      <td>1.0</td>\n",
       "      <td>0.0</td>\n",
       "      <td>147.0</td>\n",
       "      <td>0.0</td>\n",
       "      <td>14.0</td>\n",
       "      <td>...</td>\n",
       "      <td>100.0</td>\n",
       "      <td>0.0</td>\n",
       "      <td>0.0</td>\n",
       "      <td>0.0</td>\n",
       "      <td>1.0</td>\n",
       "      <td>0.0</td>\n",
       "      <td>0.0</td>\n",
       "      <td>0.0</td>\n",
       "      <td>0.0</td>\n",
       "      <td>0.0</td>\n",
       "    </tr>\n",
       "    <tr>\n",
       "      <th>1136</th>\n",
       "      <td>2267.0</td>\n",
       "      <td>13.0</td>\n",
       "      <td>1.0</td>\n",
       "      <td>2.0</td>\n",
       "      <td>789.0</td>\n",
       "      <td>1.0</td>\n",
       "      <td>0.0</td>\n",
       "      <td>119.0</td>\n",
       "      <td>1.0</td>\n",
       "      <td>12.0</td>\n",
       "      <td>...</td>\n",
       "      <td>100.0</td>\n",
       "      <td>0.0</td>\n",
       "      <td>0.0</td>\n",
       "      <td>0.0</td>\n",
       "      <td>1.0</td>\n",
       "      <td>0.0</td>\n",
       "      <td>0.0</td>\n",
       "      <td>0.0</td>\n",
       "      <td>0.0</td>\n",
       "      <td>0.0</td>\n",
       "    </tr>\n",
       "    <tr>\n",
       "      <th>1137</th>\n",
       "      <td>2446.0</td>\n",
       "      <td>16.0</td>\n",
       "      <td>1.0</td>\n",
       "      <td>2.0</td>\n",
       "      <td>13628.0</td>\n",
       "      <td>1.0</td>\n",
       "      <td>0.0</td>\n",
       "      <td>98.0</td>\n",
       "      <td>0.0</td>\n",
       "      <td>3.0</td>\n",
       "      <td>...</td>\n",
       "      <td>100.0</td>\n",
       "      <td>0.0</td>\n",
       "      <td>0.0</td>\n",
       "      <td>0.0</td>\n",
       "      <td>1.0</td>\n",
       "      <td>0.0</td>\n",
       "      <td>0.0</td>\n",
       "      <td>0.0</td>\n",
       "      <td>0.0</td>\n",
       "      <td>0.0</td>\n",
       "    </tr>\n",
       "    <tr>\n",
       "      <th>1138</th>\n",
       "      <td>463.0</td>\n",
       "      <td>10.0</td>\n",
       "      <td>1.0</td>\n",
       "      <td>2.0</td>\n",
       "      <td>31401.0</td>\n",
       "      <td>2.0</td>\n",
       "      <td>0.0</td>\n",
       "      <td>130.0</td>\n",
       "      <td>0.0</td>\n",
       "      <td>10.0</td>\n",
       "      <td>...</td>\n",
       "      <td>100.0</td>\n",
       "      <td>0.0</td>\n",
       "      <td>0.0</td>\n",
       "      <td>0.0</td>\n",
       "      <td>1.0</td>\n",
       "      <td>0.0</td>\n",
       "      <td>0.0</td>\n",
       "      <td>0.0</td>\n",
       "      <td>0.0</td>\n",
       "      <td>0.0</td>\n",
       "    </tr>\n",
       "  </tbody>\n",
       "</table>\n",
       "<p>1044 rows × 24 columns</p>\n",
       "</div>"
      ],
      "text/plain": [
       "      room_price  image_count  adult_occupancy  child_occupancy  property_id  \\\n",
       "0         3167.0          3.0              3.0              2.0      67368.0   \n",
       "1          815.0          0.0              2.0              2.0      28733.0   \n",
       "2         1624.0         18.0              2.0              2.0      53742.0   \n",
       "3         3509.0          9.0              1.0              2.0      15468.0   \n",
       "5         1400.0         60.0              2.0              2.0      61528.0   \n",
       "...          ...          ...              ...              ...          ...   \n",
       "1134      1736.0          5.0              1.0              2.0      31659.0   \n",
       "1135      2595.0         15.0              1.0              2.0      25517.0   \n",
       "1136      2267.0         13.0              1.0              2.0        789.0   \n",
       "1137      2446.0         16.0              1.0              2.0      13628.0   \n",
       "1138       463.0         10.0              1.0              2.0      31401.0   \n",
       "\n",
       "      num_amenities  zones  descr_len  deluxe  num_simhotel  ...  \\\n",
       "0               1.0    2.0      125.0     0.0           0.0  ...   \n",
       "1               2.0    0.0      103.0     0.0           6.0  ...   \n",
       "2               4.0    3.0      106.0     1.0          14.0  ...   \n",
       "3               7.0    2.0      126.0     0.0           0.0  ...   \n",
       "5               5.0    3.0      103.0     1.0          12.0  ...   \n",
       "...             ...    ...        ...     ...           ...  ...   \n",
       "1134            4.0    0.0       98.0     0.0          10.0  ...   \n",
       "1135            1.0    0.0      147.0     0.0          14.0  ...   \n",
       "1136            1.0    0.0      119.0     1.0          12.0  ...   \n",
       "1137            1.0    0.0       98.0     0.0           3.0  ...   \n",
       "1138            2.0    0.0      130.0     0.0          10.0  ...   \n",
       "\n",
       "      acceptance_rate  response_label  Apartment  Homestay  Hotel  House  \\\n",
       "0               100.0             0.0        0.0       0.0    0.0    0.0   \n",
       "1               100.0             0.0        0.0       0.0    1.0    0.0   \n",
       "2               100.0             0.0        0.0       0.0    1.0    0.0   \n",
       "3               100.0             0.0        0.0       0.0    1.0    0.0   \n",
       "5               100.0             0.0        0.0       0.0    1.0    0.0   \n",
       "...               ...             ...        ...       ...    ...    ...   \n",
       "1134            100.0             0.0        0.0       0.0    1.0    0.0   \n",
       "1135            100.0             0.0        0.0       0.0    1.0    0.0   \n",
       "1136            100.0             0.0        0.0       0.0    1.0    0.0   \n",
       "1137            100.0             0.0        0.0       0.0    1.0    0.0   \n",
       "1138            100.0             0.0        0.0       0.0    1.0    0.0   \n",
       "\n",
       "      Lodge  Resort  Spa  Villa  \n",
       "0       0.0     1.0  0.0    0.0  \n",
       "1       0.0     0.0  0.0    0.0  \n",
       "2       0.0     0.0  0.0    0.0  \n",
       "3       0.0     0.0  0.0    0.0  \n",
       "5       0.0     0.0  0.0    0.0  \n",
       "...     ...     ...  ...    ...  \n",
       "1134    0.0     0.0  0.0    0.0  \n",
       "1135    0.0     0.0  0.0    0.0  \n",
       "1136    0.0     0.0  0.0    0.0  \n",
       "1137    0.0     0.0  0.0    0.0  \n",
       "1138    0.0     0.0  0.0    0.0  \n",
       "\n",
       "[1044 rows x 24 columns]"
      ]
     },
     "execution_count": 235,
     "metadata": {},
     "output_type": "execute_result"
    }
   ],
   "source": [
    "train_data.iloc[:,2:]"
   ]
  },
  {
   "cell_type": "code",
   "execution_count": 304,
   "metadata": {
    "scrolled": true
   },
   "outputs": [
    {
     "data": {
      "text/html": [
       "<table class=\"simpletable\">\n",
       "<caption>OLS Regression Results</caption>\n",
       "<tr>\n",
       "  <th>Dep. Variable:</th>       <td>room_price</td>    <th>  R-squared:         </th> <td>   0.298</td> \n",
       "</tr>\n",
       "<tr>\n",
       "  <th>Model:</th>                   <td>OLS</td>       <th>  Adj. R-squared:    </th> <td>   0.277</td> \n",
       "</tr>\n",
       "<tr>\n",
       "  <th>Method:</th>             <td>Least Squares</td>  <th>  F-statistic:       </th> <td>   14.33</td> \n",
       "</tr>\n",
       "<tr>\n",
       "  <th>Date:</th>             <td>Sat, 06 Mar 2021</td> <th>  Prob (F-statistic):</th> <td>6.48e-42</td> \n",
       "</tr>\n",
       "<tr>\n",
       "  <th>Time:</th>                 <td>16:07:22</td>     <th>  Log-Likelihood:    </th> <td> -5943.2</td> \n",
       "</tr>\n",
       "<tr>\n",
       "  <th>No. Observations:</th>      <td>   730</td>      <th>  AIC:               </th> <td>1.193e+04</td>\n",
       "</tr>\n",
       "<tr>\n",
       "  <th>Df Residuals:</th>          <td>   708</td>      <th>  BIC:               </th> <td>1.203e+04</td>\n",
       "</tr>\n",
       "<tr>\n",
       "  <th>Df Model:</th>              <td>    21</td>      <th>                     </th>     <td> </td>    \n",
       "</tr>\n",
       "<tr>\n",
       "  <th>Covariance Type:</th>      <td>nonrobust</td>    <th>                     </th>     <td> </td>    \n",
       "</tr>\n",
       "</table>\n",
       "<table class=\"simpletable\">\n",
       "<tr>\n",
       "         <td></td>            <th>coef</th>     <th>std err</th>      <th>t</th>      <th>P>|t|</th>  <th>[0.025</th>    <th>0.975]</th>  \n",
       "</tr>\n",
       "<tr>\n",
       "  <th>const</th>           <td>  723.3803</td> <td>  220.393</td> <td>    3.282</td> <td> 0.001</td> <td>  290.678</td> <td> 1156.082</td>\n",
       "</tr>\n",
       "<tr>\n",
       "  <th>image_count</th>     <td>    2.9793</td> <td>    2.074</td> <td>    1.437</td> <td> 0.151</td> <td>   -1.092</td> <td>    7.051</td>\n",
       "</tr>\n",
       "<tr>\n",
       "  <th>adult_occupancy</th> <td>   30.5834</td> <td>   25.495</td> <td>    1.200</td> <td> 0.231</td> <td>  -19.472</td> <td>   80.639</td>\n",
       "</tr>\n",
       "<tr>\n",
       "  <th>child_occupancy</th> <td>   85.4633</td> <td>   68.061</td> <td>    1.256</td> <td> 0.210</td> <td>  -48.163</td> <td>  219.090</td>\n",
       "</tr>\n",
       "<tr>\n",
       "  <th>num_amenities</th>   <td>   -7.6096</td> <td>   18.899</td> <td>   -0.403</td> <td> 0.687</td> <td>  -44.715</td> <td>   29.496</td>\n",
       "</tr>\n",
       "<tr>\n",
       "  <th>zones</th>           <td>   49.0873</td> <td>   26.920</td> <td>    1.823</td> <td> 0.069</td> <td>   -3.765</td> <td>  101.939</td>\n",
       "</tr>\n",
       "<tr>\n",
       "  <th>descr_len</th>       <td>    2.5571</td> <td>    0.580</td> <td>    4.412</td> <td> 0.000</td> <td>    1.419</td> <td>    3.695</td>\n",
       "</tr>\n",
       "<tr>\n",
       "  <th>deluxe</th>          <td>  574.9003</td> <td>   78.424</td> <td>    7.331</td> <td> 0.000</td> <td>  420.929</td> <td>  728.871</td>\n",
       "</tr>\n",
       "<tr>\n",
       "  <th>num_simhotel</th>    <td>    0.8172</td> <td>    6.771</td> <td>    0.121</td> <td> 0.904</td> <td>  -12.477</td> <td>   14.111</td>\n",
       "</tr>\n",
       "<tr>\n",
       "  <th>wifi</th>            <td>  435.5348</td> <td>   82.887</td> <td>    5.255</td> <td> 0.000</td> <td>  272.800</td> <td>  598.269</td>\n",
       "</tr>\n",
       "<tr>\n",
       "  <th>ac</th>              <td> -355.6837</td> <td>   82.519</td> <td>   -4.310</td> <td> 0.000</td> <td> -517.694</td> <td> -193.673</td>\n",
       "</tr>\n",
       "<tr>\n",
       "  <th>breakfast</th>       <td>  239.8937</td> <td>  148.090</td> <td>    1.620</td> <td> 0.106</td> <td>  -50.855</td> <td>  530.643</td>\n",
       "</tr>\n",
       "<tr>\n",
       "  <th>service_value</th>   <td>  110.9376</td> <td>  132.519</td> <td>    0.837</td> <td> 0.403</td> <td> -149.240</td> <td>  371.116</td>\n",
       "</tr>\n",
       "<tr>\n",
       "  <th>acceptance_rate</th> <td>    2.5301</td> <td>    1.836</td> <td>    1.378</td> <td> 0.169</td> <td>   -1.075</td> <td>    6.135</td>\n",
       "</tr>\n",
       "<tr>\n",
       "  <th>response_label</th>  <td> -294.5186</td> <td>   96.513</td> <td>   -3.052</td> <td> 0.002</td> <td> -484.004</td> <td> -105.033</td>\n",
       "</tr>\n",
       "<tr>\n",
       "  <th>Apartment</th>       <td> 1040.9697</td> <td>  306.230</td> <td>    3.399</td> <td> 0.001</td> <td>  439.742</td> <td> 1642.197</td>\n",
       "</tr>\n",
       "<tr>\n",
       "  <th>Homestay</th>        <td> -360.4208</td> <td>  166.654</td> <td>   -2.163</td> <td> 0.031</td> <td> -687.615</td> <td>  -33.226</td>\n",
       "</tr>\n",
       "<tr>\n",
       "  <th>Hotel</th>           <td>  158.6910</td> <td>  101.863</td> <td>    1.558</td> <td> 0.120</td> <td>  -41.300</td> <td>  358.682</td>\n",
       "</tr>\n",
       "<tr>\n",
       "  <th>House</th>           <td> -418.2994</td> <td>  121.557</td> <td>   -3.441</td> <td> 0.001</td> <td> -656.954</td> <td> -179.645</td>\n",
       "</tr>\n",
       "<tr>\n",
       "  <th>Lodge</th>           <td> -505.7399</td> <td>  180.797</td> <td>   -2.797</td> <td> 0.005</td> <td> -860.703</td> <td> -150.777</td>\n",
       "</tr>\n",
       "<tr>\n",
       "  <th>Resort</th>          <td>  526.7810</td> <td>  178.871</td> <td>    2.945</td> <td> 0.003</td> <td>  175.600</td> <td>  877.962</td>\n",
       "</tr>\n",
       "<tr>\n",
       "  <th>Spa</th>             <td>   -5.6304</td> <td>  538.624</td> <td>   -0.010</td> <td> 0.992</td> <td>-1063.121</td> <td> 1051.860</td>\n",
       "</tr>\n",
       "<tr>\n",
       "  <th>Villa</th>           <td>  287.0292</td> <td>  257.065</td> <td>    1.117</td> <td> 0.265</td> <td> -217.671</td> <td>  791.730</td>\n",
       "</tr>\n",
       "</table>\n",
       "<table class=\"simpletable\">\n",
       "<tr>\n",
       "  <th>Omnibus:</th>       <td>70.228</td> <th>  Durbin-Watson:     </th> <td>   2.034</td>\n",
       "</tr>\n",
       "<tr>\n",
       "  <th>Prob(Omnibus):</th> <td> 0.000</td> <th>  Jarque-Bera (JB):  </th> <td>  88.728</td>\n",
       "</tr>\n",
       "<tr>\n",
       "  <th>Skew:</th>          <td> 0.805</td> <th>  Prob(JB):          </th> <td>5.41e-20</td>\n",
       "</tr>\n",
       "<tr>\n",
       "  <th>Kurtosis:</th>      <td> 3.571</td> <th>  Cond. No.          </th> <td>1.01e+18</td>\n",
       "</tr>\n",
       "</table><br/><br/>Notes:<br/>[1] Standard Errors assume that the covariance matrix of the errors is correctly specified.<br/>[2] The smallest eigenvalue is 1.25e-29. This might indicate that there are<br/>strong multicollinearity problems or that the design matrix is singular."
      ],
      "text/plain": [
       "<class 'statsmodels.iolib.summary.Summary'>\n",
       "\"\"\"\n",
       "                            OLS Regression Results                            \n",
       "==============================================================================\n",
       "Dep. Variable:             room_price   R-squared:                       0.298\n",
       "Model:                            OLS   Adj. R-squared:                  0.277\n",
       "Method:                 Least Squares   F-statistic:                     14.33\n",
       "Date:                Sat, 06 Mar 2021   Prob (F-statistic):           6.48e-42\n",
       "Time:                        16:07:22   Log-Likelihood:                -5943.2\n",
       "No. Observations:                 730   AIC:                         1.193e+04\n",
       "Df Residuals:                     708   BIC:                         1.203e+04\n",
       "Df Model:                          21                                         \n",
       "Covariance Type:            nonrobust                                         \n",
       "===================================================================================\n",
       "                      coef    std err          t      P>|t|      [0.025      0.975]\n",
       "-----------------------------------------------------------------------------------\n",
       "const             723.3803    220.393      3.282      0.001     290.678    1156.082\n",
       "image_count         2.9793      2.074      1.437      0.151      -1.092       7.051\n",
       "adult_occupancy    30.5834     25.495      1.200      0.231     -19.472      80.639\n",
       "child_occupancy    85.4633     68.061      1.256      0.210     -48.163     219.090\n",
       "num_amenities      -7.6096     18.899     -0.403      0.687     -44.715      29.496\n",
       "zones              49.0873     26.920      1.823      0.069      -3.765     101.939\n",
       "descr_len           2.5571      0.580      4.412      0.000       1.419       3.695\n",
       "deluxe            574.9003     78.424      7.331      0.000     420.929     728.871\n",
       "num_simhotel        0.8172      6.771      0.121      0.904     -12.477      14.111\n",
       "wifi              435.5348     82.887      5.255      0.000     272.800     598.269\n",
       "ac               -355.6837     82.519     -4.310      0.000    -517.694    -193.673\n",
       "breakfast         239.8937    148.090      1.620      0.106     -50.855     530.643\n",
       "service_value     110.9376    132.519      0.837      0.403    -149.240     371.116\n",
       "acceptance_rate     2.5301      1.836      1.378      0.169      -1.075       6.135\n",
       "response_label   -294.5186     96.513     -3.052      0.002    -484.004    -105.033\n",
       "Apartment        1040.9697    306.230      3.399      0.001     439.742    1642.197\n",
       "Homestay         -360.4208    166.654     -2.163      0.031    -687.615     -33.226\n",
       "Hotel             158.6910    101.863      1.558      0.120     -41.300     358.682\n",
       "House            -418.2994    121.557     -3.441      0.001    -656.954    -179.645\n",
       "Lodge            -505.7399    180.797     -2.797      0.005    -860.703    -150.777\n",
       "Resort            526.7810    178.871      2.945      0.003     175.600     877.962\n",
       "Spa                -5.6304    538.624     -0.010      0.992   -1063.121    1051.860\n",
       "Villa             287.0292    257.065      1.117      0.265    -217.671     791.730\n",
       "==============================================================================\n",
       "Omnibus:                       70.228   Durbin-Watson:                   2.034\n",
       "Prob(Omnibus):                  0.000   Jarque-Bera (JB):               88.728\n",
       "Skew:                           0.805   Prob(JB):                     5.41e-20\n",
       "Kurtosis:                       3.571   Cond. No.                     1.01e+18\n",
       "==============================================================================\n",
       "\n",
       "Notes:\n",
       "[1] Standard Errors assume that the covariance matrix of the errors is correctly specified.\n",
       "[2] The smallest eigenvalue is 1.25e-29. This might indicate that there are\n",
       "strong multicollinearity problems or that the design matrix is singular.\n",
       "\"\"\""
      ]
     },
     "execution_count": 304,
     "metadata": {},
     "output_type": "execute_result"
    }
   ],
   "source": [
    "# fit all features \n",
    "X = train_data.iloc[:,2:]\n",
    "X = sm.add_constant(X)\n",
    "y = train_data.iloc[:,1]\n",
    "X_train,X_test,y_train,y_test = train_test_split(X,y,test_size=0.3)\n",
    "\n",
    "lr_model = sm.OLS(y_train, X_train).fit()\n",
    "lr_model.summary()"
   ]
  },
  {
   "cell_type": "code",
   "execution_count": 267,
   "metadata": {},
   "outputs": [
    {
     "name": "stdout",
     "output_type": "stream",
     "text": [
      "Feature: 0, Score: 0.00000\n",
      "Feature: 1, Score: -0.90394\n",
      "Feature: 2, Score: 660.53992\n",
      "Feature: 3, Score: -1097.29625\n",
      "Feature: 4, Score: 349.43316\n",
      "Feature: 5, Score: -29.93573\n",
      "Feature: 6, Score: 5.18812\n",
      "Feature: 7, Score: 1004.57969\n",
      "Feature: 8, Score: -38.22263\n",
      "Feature: 9, Score: 829.39780\n",
      "Feature: 10, Score: -809.53771\n",
      "Feature: 11, Score: -2433.24395\n",
      "Feature: 12, Score: 565.62207\n",
      "Feature: 13, Score: 5.98908\n",
      "Feature: 14, Score: -572.89051\n",
      "Feature: 15, Score: 6883.16604\n",
      "Feature: 16, Score: -1491.63856\n",
      "Feature: 17, Score: -651.77349\n",
      "Feature: 18, Score: -1720.01034\n",
      "Feature: 19, Score: -2262.97539\n",
      "Feature: 20, Score: 1106.21015\n",
      "Feature: 21, Score: -1009.87539\n",
      "Feature: 22, Score: -853.10302\n",
      "Feature: 23, Score: 36.99746\n",
      "Feature: 24, Score: -790.30754\n",
      "Feature: 25, Score: -824.17189\n",
      "Feature: 26, Score: -722.34115\n",
      "Feature: 27, Score: -843.01738\n",
      "Feature: 28, Score: -909.99605\n",
      "Feature: 29, Score: -176.73111\n",
      "Feature: 30, Score: 0.00000\n"
     ]
    },
    {
     "data": {
      "image/png": "[encoded data removed]",
      "text/plain": [
       "<Figure size 720x432 with 1 Axes>"
      ]
     },
     "metadata": {
      "needs_background": "light"
     },
     "output_type": "display_data"
    }
   ],
   "source": [
    "# linear regression feature importance\n",
    "from sklearn.datasets import make_regression\n",
    "from sklearn.linear_model import LinearRegression\n",
    "from matplotlib import pyplot\n",
    "# define dataset\n",
    "# define the model\n",
    "model = LinearRegression()\n",
    "# fit the model\n",
    "model.fit(X_train, y_train)\n",
    "# get importance\n",
    "importance = model.coef_\n",
    "# summarize feature importance\n",
    "for i,v in enumerate(importance):\n",
    "    print('Feature: %0d, Score: %.5f' % (i,v))\n",
    "# plot feature importance\n",
    "pyplot.bar([x for x in range(len(importance))], importance)\n",
    "pyplot.show()"
   ]
  },
  {
   "cell_type": "code",
   "execution_count": 283,
   "metadata": {},
   "outputs": [
    {
     "data": {
      "text/html": [
       "<div>\n",
       "<style scoped>\n",
       "    .dataframe tbody tr th:only-of-type {\n",
       "        vertical-align: middle;\n",
       "    }\n",
       "\n",
       "    .dataframe tbody tr th {\n",
       "        vertical-align: top;\n",
       "    }\n",
       "\n",
       "    .dataframe thead th {\n",
       "        text-align: right;\n",
       "    }\n",
       "</style>\n",
       "<table border=\"1\" class=\"dataframe\">\n",
       "  <thead>\n",
       "    <tr style=\"text-align: right;\">\n",
       "      <th></th>\n",
       "      <th>breakfast</th>\n",
       "      <th>Apartment</th>\n",
       "      <th>Homestay</th>\n",
       "      <th>House</th>\n",
       "      <th>Lodge</th>\n",
       "    </tr>\n",
       "  </thead>\n",
       "  <tbody>\n",
       "    <tr>\n",
       "      <th>0</th>\n",
       "      <td>0.0</td>\n",
       "      <td>0.0</td>\n",
       "      <td>0.0</td>\n",
       "      <td>0.0</td>\n",
       "      <td>0.0</td>\n",
       "    </tr>\n",
       "    <tr>\n",
       "      <th>1</th>\n",
       "      <td>0.0</td>\n",
       "      <td>0.0</td>\n",
       "      <td>0.0</td>\n",
       "      <td>0.0</td>\n",
       "      <td>0.0</td>\n",
       "    </tr>\n",
       "    <tr>\n",
       "      <th>2</th>\n",
       "      <td>0.0</td>\n",
       "      <td>0.0</td>\n",
       "      <td>0.0</td>\n",
       "      <td>0.0</td>\n",
       "      <td>0.0</td>\n",
       "    </tr>\n",
       "    <tr>\n",
       "      <th>3</th>\n",
       "      <td>0.0</td>\n",
       "      <td>0.0</td>\n",
       "      <td>0.0</td>\n",
       "      <td>0.0</td>\n",
       "      <td>0.0</td>\n",
       "    </tr>\n",
       "    <tr>\n",
       "      <th>4</th>\n",
       "      <td>0.0</td>\n",
       "      <td>0.0</td>\n",
       "      <td>0.0</td>\n",
       "      <td>0.0</td>\n",
       "      <td>0.0</td>\n",
       "    </tr>\n",
       "    <tr>\n",
       "      <th>...</th>\n",
       "      <td>...</td>\n",
       "      <td>...</td>\n",
       "      <td>...</td>\n",
       "      <td>...</td>\n",
       "      <td>...</td>\n",
       "    </tr>\n",
       "    <tr>\n",
       "      <th>1134</th>\n",
       "      <td>0.0</td>\n",
       "      <td>0.0</td>\n",
       "      <td>0.0</td>\n",
       "      <td>0.0</td>\n",
       "      <td>0.0</td>\n",
       "    </tr>\n",
       "    <tr>\n",
       "      <th>1135</th>\n",
       "      <td>0.0</td>\n",
       "      <td>0.0</td>\n",
       "      <td>0.0</td>\n",
       "      <td>0.0</td>\n",
       "      <td>0.0</td>\n",
       "    </tr>\n",
       "    <tr>\n",
       "      <th>1136</th>\n",
       "      <td>0.0</td>\n",
       "      <td>0.0</td>\n",
       "      <td>0.0</td>\n",
       "      <td>0.0</td>\n",
       "      <td>0.0</td>\n",
       "    </tr>\n",
       "    <tr>\n",
       "      <th>1137</th>\n",
       "      <td>0.0</td>\n",
       "      <td>0.0</td>\n",
       "      <td>0.0</td>\n",
       "      <td>0.0</td>\n",
       "      <td>0.0</td>\n",
       "    </tr>\n",
       "    <tr>\n",
       "      <th>1138</th>\n",
       "      <td>0.0</td>\n",
       "      <td>0.0</td>\n",
       "      <td>0.0</td>\n",
       "      <td>0.0</td>\n",
       "      <td>0.0</td>\n",
       "    </tr>\n",
       "  </tbody>\n",
       "</table>\n",
       "<p>1139 rows × 5 columns</p>\n",
       "</div>"
      ],
      "text/plain": [
       "      breakfast  Apartment  Homestay  House  Lodge\n",
       "0           0.0        0.0       0.0    0.0    0.0\n",
       "1           0.0        0.0       0.0    0.0    0.0\n",
       "2           0.0        0.0       0.0    0.0    0.0\n",
       "3           0.0        0.0       0.0    0.0    0.0\n",
       "4           0.0        0.0       0.0    0.0    0.0\n",
       "...         ...        ...       ...    ...    ...\n",
       "1134        0.0        0.0       0.0    0.0    0.0\n",
       "1135        0.0        0.0       0.0    0.0    0.0\n",
       "1136        0.0        0.0       0.0    0.0    0.0\n",
       "1137        0.0        0.0       0.0    0.0    0.0\n",
       "1138        0.0        0.0       0.0    0.0    0.0\n",
       "\n",
       "[1139 rows x 5 columns]"
      ]
     },
     "execution_count": 283,
     "metadata": {},
     "output_type": "execute_result"
    }
   ],
   "source": [
    "X.iloc[:,np.r_[11, 15, 16, 18, 19]]"
   ]
  },
  {
   "cell_type": "code",
   "execution_count": 165,
   "metadata": {
    "scrolled": true
   },
   "outputs": [
    {
     "data": {
      "text/html": [
       "<table class=\"simpletable\">\n",
       "<caption>OLS Regression Results</caption>\n",
       "<tr>\n",
       "  <th>Dep. Variable:</th>       <td>room_price</td>    <th>  R-squared:         </th> <td>   0.236</td> \n",
       "</tr>\n",
       "<tr>\n",
       "  <th>Model:</th>                   <td>OLS</td>       <th>  Adj. R-squared:    </th> <td>   0.218</td> \n",
       "</tr>\n",
       "<tr>\n",
       "  <th>Method:</th>             <td>Least Squares</td>  <th>  F-statistic:       </th> <td>   13.42</td> \n",
       "</tr>\n",
       "<tr>\n",
       "  <th>Date:</th>             <td>Sat, 06 Mar 2021</td> <th>  Prob (F-statistic):</th> <td>1.28e-31</td> \n",
       "</tr>\n",
       "<tr>\n",
       "  <th>Time:</th>                 <td>12:26:42</td>     <th>  Log-Likelihood:    </th> <td> -5752.4</td> \n",
       "</tr>\n",
       "<tr>\n",
       "  <th>No. Observations:</th>      <td>   714</td>      <th>  AIC:               </th> <td>1.154e+04</td>\n",
       "</tr>\n",
       "<tr>\n",
       "  <th>Df Residuals:</th>          <td>   697</td>      <th>  BIC:               </th> <td>1.162e+04</td>\n",
       "</tr>\n",
       "<tr>\n",
       "  <th>Df Model:</th>              <td>    16</td>      <th>                     </th>     <td> </td>    \n",
       "</tr>\n",
       "<tr>\n",
       "  <th>Covariance Type:</th>      <td>nonrobust</td>    <th>                     </th>     <td> </td>    \n",
       "</tr>\n",
       "</table>\n",
       "<table class=\"simpletable\">\n",
       "<tr>\n",
       "         <td></td>            <th>coef</th>     <th>std err</th>      <th>t</th>      <th>P>|t|</th>  <th>[0.025</th>    <th>0.975]</th>  \n",
       "</tr>\n",
       "<tr>\n",
       "  <th>const</th>           <td>  997.7271</td> <td>  219.328</td> <td>    4.549</td> <td> 0.000</td> <td>  567.104</td> <td> 1428.350</td>\n",
       "</tr>\n",
       "<tr>\n",
       "  <th>image_count</th>     <td>   -0.7798</td> <td>    2.072</td> <td>   -0.376</td> <td> 0.707</td> <td>   -4.848</td> <td>    3.288</td>\n",
       "</tr>\n",
       "<tr>\n",
       "  <th>adult_occupancy</th> <td>   14.0550</td> <td>   22.675</td> <td>    0.620</td> <td> 0.536</td> <td>  -30.464</td> <td>   58.574</td>\n",
       "</tr>\n",
       "<tr>\n",
       "  <th>child_occupancy</th> <td>   97.7075</td> <td>   61.899</td> <td>    1.578</td> <td> 0.115</td> <td>  -23.824</td> <td>  219.239</td>\n",
       "</tr>\n",
       "<tr>\n",
       "  <th>num_amenities</th>   <td>  -10.2008</td> <td>   18.128</td> <td>   -0.563</td> <td> 0.574</td> <td>  -45.793</td> <td>   25.392</td>\n",
       "</tr>\n",
       "<tr>\n",
       "  <th>zones</th>           <td>   57.5293</td> <td>   24.203</td> <td>    2.377</td> <td> 0.018</td> <td>   10.009</td> <td>  105.049</td>\n",
       "</tr>\n",
       "<tr>\n",
       "  <th>descr_len</th>       <td>    2.6413</td> <td>    0.534</td> <td>    4.943</td> <td> 0.000</td> <td>    1.592</td> <td>    3.690</td>\n",
       "</tr>\n",
       "<tr>\n",
       "  <th>deluxe</th>          <td>  485.9947</td> <td>   72.214</td> <td>    6.730</td> <td> 0.000</td> <td>  344.212</td> <td>  627.778</td>\n",
       "</tr>\n",
       "<tr>\n",
       "  <th>num_simhotel</th>    <td>    9.7775</td> <td>    6.211</td> <td>    1.574</td> <td> 0.116</td> <td>   -2.417</td> <td>   21.972</td>\n",
       "</tr>\n",
       "<tr>\n",
       "  <th>wifi</th>            <td>  281.0904</td> <td>   79.140</td> <td>    3.552</td> <td> 0.000</td> <td>  125.710</td> <td>  436.471</td>\n",
       "</tr>\n",
       "<tr>\n",
       "  <th>ac</th>              <td> -295.9302</td> <td>   76.455</td> <td>   -3.871</td> <td> 0.000</td> <td> -446.039</td> <td> -145.821</td>\n",
       "</tr>\n",
       "<tr>\n",
       "  <th>breakfast</th>       <td>  216.7176</td> <td>  139.612</td> <td>    1.552</td> <td> 0.121</td> <td>  -57.393</td> <td>  490.829</td>\n",
       "</tr>\n",
       "<tr>\n",
       "  <th>service_value</th>   <td>   45.4484</td> <td>  111.965</td> <td>    0.406</td> <td> 0.685</td> <td> -174.382</td> <td>  265.278</td>\n",
       "</tr>\n",
       "<tr>\n",
       "  <th>acceptance_rate</th> <td>    0.0663</td> <td>    1.672</td> <td>    0.040</td> <td> 0.968</td> <td>   -3.216</td> <td>    3.348</td>\n",
       "</tr>\n",
       "<tr>\n",
       "  <th>response_label</th>  <td> -302.5562</td> <td>   90.932</td> <td>   -3.327</td> <td> 0.001</td> <td> -481.089</td> <td> -124.023</td>\n",
       "</tr>\n",
       "<tr>\n",
       "  <th>Hotel</th>           <td>   37.0546</td> <td>   91.584</td> <td>    0.405</td> <td> 0.686</td> <td> -142.759</td> <td>  216.868</td>\n",
       "</tr>\n",
       "<tr>\n",
       "  <th>House</th>           <td> -462.1834</td> <td>  114.228</td> <td>   -4.046</td> <td> 0.000</td> <td> -686.455</td> <td> -237.911</td>\n",
       "</tr>\n",
       "</table>\n",
       "<table class=\"simpletable\">\n",
       "<tr>\n",
       "  <th>Omnibus:</th>       <td>88.759</td> <th>  Durbin-Watson:     </th> <td>   2.070</td>\n",
       "</tr>\n",
       "<tr>\n",
       "  <th>Prob(Omnibus):</th> <td> 0.000</td> <th>  Jarque-Bera (JB):  </th> <td> 120.724</td>\n",
       "</tr>\n",
       "<tr>\n",
       "  <th>Skew:</th>          <td> 0.937</td> <th>  Prob(JB):          </th> <td>6.10e-27</td>\n",
       "</tr>\n",
       "<tr>\n",
       "  <th>Kurtosis:</th>      <td> 3.741</td> <th>  Cond. No.          </th> <td>1.05e+03</td>\n",
       "</tr>\n",
       "</table><br/><br/>Notes:<br/>[1] Standard Errors assume that the covariance matrix of the errors is correctly specified.<br/>[2] The condition number is large, 1.05e+03. This might indicate that there are<br/>strong multicollinearity or other numerical problems."
      ],
      "text/plain": [
       "<class 'statsmodels.iolib.summary.Summary'>\n",
       "\"\"\"\n",
       "                            OLS Regression Results                            \n",
       "==============================================================================\n",
       "Dep. Variable:             room_price   R-squared:                       0.236\n",
       "Model:                            OLS   Adj. R-squared:                  0.218\n",
       "Method:                 Least Squares   F-statistic:                     13.42\n",
       "Date:                Sat, 06 Mar 2021   Prob (F-statistic):           1.28e-31\n",
       "Time:                        12:26:42   Log-Likelihood:                -5752.4\n",
       "No. Observations:                 714   AIC:                         1.154e+04\n",
       "Df Residuals:                     697   BIC:                         1.162e+04\n",
       "Df Model:                          16                                         \n",
       "Covariance Type:            nonrobust                                         \n",
       "===================================================================================\n",
       "                      coef    std err          t      P>|t|      [0.025      0.975]\n",
       "-----------------------------------------------------------------------------------\n",
       "const             997.7271    219.328      4.549      0.000     567.104    1428.350\n",
       "image_count        -0.7798      2.072     -0.376      0.707      -4.848       3.288\n",
       "adult_occupancy    14.0550     22.675      0.620      0.536     -30.464      58.574\n",
       "child_occupancy    97.7075     61.899      1.578      0.115     -23.824     219.239\n",
       "num_amenities     -10.2008     18.128     -0.563      0.574     -45.793      25.392\n",
       "zones              57.5293     24.203      2.377      0.018      10.009     105.049\n",
       "descr_len           2.6413      0.534      4.943      0.000       1.592       3.690\n",
       "deluxe            485.9947     72.214      6.730      0.000     344.212     627.778\n",
       "num_simhotel        9.7775      6.211      1.574      0.116      -2.417      21.972\n",
       "wifi              281.0904     79.140      3.552      0.000     125.710     436.471\n",
       "ac               -295.9302     76.455     -3.871      0.000    -446.039    -145.821\n",
       "breakfast         216.7176    139.612      1.552      0.121     -57.393     490.829\n",
       "service_value      45.4484    111.965      0.406      0.685    -174.382     265.278\n",
       "acceptance_rate     0.0663      1.672      0.040      0.968      -3.216       3.348\n",
       "response_label   -302.5562     90.932     -3.327      0.001    -481.089    -124.023\n",
       "Hotel              37.0546     91.584      0.405      0.686    -142.759     216.868\n",
       "House            -462.1834    114.228     -4.046      0.000    -686.455    -237.911\n",
       "==============================================================================\n",
       "Omnibus:                       88.759   Durbin-Watson:                   2.070\n",
       "Prob(Omnibus):                  0.000   Jarque-Bera (JB):              120.724\n",
       "Skew:                           0.937   Prob(JB):                     6.10e-27\n",
       "Kurtosis:                       3.741   Cond. No.                     1.05e+03\n",
       "==============================================================================\n",
       "\n",
       "Notes:\n",
       "[1] Standard Errors assume that the covariance matrix of the errors is correctly specified.\n",
       "[2] The condition number is large, 1.05e+03. This might indicate that there are\n",
       "strong multicollinearity or other numerical problems.\n",
       "\"\"\""
      ]
     },
     "execution_count": 165,
     "metadata": {},
     "output_type": "execute_result"
    }
   ],
   "source": [
    "# # after checking, remove some non-essential features \n",
    "# X = train_data.iloc[:,np.r_[2:16,18:20]]\n",
    "# X = sm.add_constant(X)\n",
    "# y = train_data.iloc[:,1]\n",
    "# X_train,X_test,y_train,y_test = train_test_split(X,y,test_size=0.3)\n",
    "\n",
    "# lr_model = sm.OLS(y_train, X_train).fit()\n",
    "# lr_model.summary()"
   ]
  },
  {
   "cell_type": "markdown",
   "metadata": {},
   "source": [
    "* We first fit all relevant features to the linear regression model using statsmodel. The adjusted R2 only achieves 0.272. We then removed some non-essential features (eg. 'Spa', 'Villa', very few rows have 1 values), the R2 does not increase (0.218). \n",
    "* We then perform a Stepwise selection in R and it returns a model with 13 features, but the adjusted R2 is only 0.1746, less than models with more features. \n",
    "* For linear regression model, we will stick with all features."
   ]
  },
  {
   "cell_type": "code",
   "execution_count": 171,
   "metadata": {},
   "outputs": [
    {
     "name": "stdout",
     "output_type": "stream",
     "text": [
      "682249.1177142463 538005.910722023\n"
     ]
    }
   ],
   "source": [
    "# compute test MSE \n",
    "y_true = y_test # Y_true = Y (original values) \n",
    "y_pred = lr_model.predict(X_test) # Y_pred = Y' \n",
    "lr_testMSE = mean_squared_error(y_true,y_pred) \n",
    "\n",
    "# training mse\n",
    "y_true = y_train  \n",
    "y_pred = lr_model.predict(X_train) \n",
    "lr_trainMSE = mean_squared_error(y_true,y_pred) \n",
    "print(lr_testMSE, lr_trainMSE)"
   ]
  },
  {
   "cell_type": "markdown",
   "metadata": {},
   "source": [
    "* ### Try predict in per zone"
   ]
  },
  {
   "cell_type": "code",
   "execution_count": 184,
   "metadata": {},
   "outputs": [],
   "source": [
    "zone0 = train_data[train_data.zones==0].drop(columns='zones')\n",
    "zone1 = train_data[train_data.zones==1].drop(columns='zones')\n",
    "zone2 = train_data[train_data.zones==2].drop(columns='zones')\n",
    "zone3 = train_data[train_data.zones==3].drop(columns='zones')"
   ]
  },
  {
   "cell_type": "code",
   "execution_count": 187,
   "metadata": {
    "collapsed": true
   },
   "outputs": [
    {
     "name": "stderr",
     "output_type": "stream",
     "text": [
      "/Users/yajiezhu/opt/anaconda3/lib/python3.7/site-packages/statsmodels/regression/linear_model.py:1860: RuntimeWarning: divide by zero encountered in double_scalars\n",
      "  return np.sqrt(eigvals[0]/eigvals[-1])\n"
     ]
    },
    {
     "data": {
      "text/html": [
       "<table class=\"simpletable\">\n",
       "<caption>OLS Regression Results</caption>\n",
       "<tr>\n",
       "  <th>Dep. Variable:</th>       <td>room_price</td>    <th>  R-squared:         </th> <td>   0.385</td>\n",
       "</tr>\n",
       "<tr>\n",
       "  <th>Model:</th>                   <td>OLS</td>       <th>  Adj. R-squared:    </th> <td>   0.330</td>\n",
       "</tr>\n",
       "<tr>\n",
       "  <th>Method:</th>             <td>Least Squares</td>  <th>  F-statistic:       </th> <td>   7.053</td>\n",
       "</tr>\n",
       "<tr>\n",
       "  <th>Date:</th>             <td>Sat, 06 Mar 2021</td> <th>  Prob (F-statistic):</th> <td>1.86e-14</td>\n",
       "</tr>\n",
       "<tr>\n",
       "  <th>Time:</th>                 <td>12:58:01</td>     <th>  Log-Likelihood:    </th> <td> -1864.6</td>\n",
       "</tr>\n",
       "<tr>\n",
       "  <th>No. Observations:</th>      <td>   234</td>      <th>  AIC:               </th> <td>   3769.</td>\n",
       "</tr>\n",
       "<tr>\n",
       "  <th>Df Residuals:</th>          <td>   214</td>      <th>  BIC:               </th> <td>   3838.</td>\n",
       "</tr>\n",
       "<tr>\n",
       "  <th>Df Model:</th>              <td>    19</td>      <th>                     </th>     <td> </td>   \n",
       "</tr>\n",
       "<tr>\n",
       "  <th>Covariance Type:</th>      <td>nonrobust</td>    <th>                     </th>     <td> </td>   \n",
       "</tr>\n",
       "</table>\n",
       "<table class=\"simpletable\">\n",
       "<tr>\n",
       "         <td></td>            <th>coef</th>     <th>std err</th>      <th>t</th>      <th>P>|t|</th>  <th>[0.025</th>    <th>0.975]</th>  \n",
       "</tr>\n",
       "<tr>\n",
       "  <th>const</th>           <td>  940.6670</td> <td>  403.693</td> <td>    2.330</td> <td> 0.021</td> <td>  144.943</td> <td> 1736.391</td>\n",
       "</tr>\n",
       "<tr>\n",
       "  <th>image_count</th>     <td>    3.6919</td> <td>    3.939</td> <td>    0.937</td> <td> 0.350</td> <td>   -4.072</td> <td>   11.455</td>\n",
       "</tr>\n",
       "<tr>\n",
       "  <th>adult_occupancy</th> <td>  -56.0928</td> <td>   78.646</td> <td>   -0.713</td> <td> 0.476</td> <td> -211.113</td> <td>   98.927</td>\n",
       "</tr>\n",
       "<tr>\n",
       "  <th>child_occupancy</th> <td>   -1.3125</td> <td>   95.173</td> <td>   -0.014</td> <td> 0.989</td> <td> -188.909</td> <td>  186.284</td>\n",
       "</tr>\n",
       "<tr>\n",
       "  <th>num_amenities</th>   <td>   20.3071</td> <td>   26.571</td> <td>    0.764</td> <td> 0.446</td> <td>  -32.067</td> <td>   72.681</td>\n",
       "</tr>\n",
       "<tr>\n",
       "  <th>descr_len</th>       <td>    0.4495</td> <td>    0.978</td> <td>    0.459</td> <td> 0.646</td> <td>   -1.479</td> <td>    2.378</td>\n",
       "</tr>\n",
       "<tr>\n",
       "  <th>deluxe</th>          <td>  510.3983</td> <td>  119.998</td> <td>    4.253</td> <td> 0.000</td> <td>  273.869</td> <td>  746.928</td>\n",
       "</tr>\n",
       "<tr>\n",
       "  <th>num_simhotel</th>    <td>   29.4450</td> <td>   10.638</td> <td>    2.768</td> <td> 0.006</td> <td>    8.477</td> <td>   50.413</td>\n",
       "</tr>\n",
       "<tr>\n",
       "  <th>wifi</th>            <td>  524.8552</td> <td>  124.966</td> <td>    4.200</td> <td> 0.000</td> <td>  278.532</td> <td>  771.178</td>\n",
       "</tr>\n",
       "<tr>\n",
       "  <th>ac</th>              <td> -334.2704</td> <td>  121.654</td> <td>   -2.748</td> <td> 0.007</td> <td> -574.065</td> <td>  -94.476</td>\n",
       "</tr>\n",
       "<tr>\n",
       "  <th>breakfast</th>       <td>   60.3859</td> <td>  224.546</td> <td>    0.269</td> <td> 0.788</td> <td> -382.220</td> <td>  502.992</td>\n",
       "</tr>\n",
       "<tr>\n",
       "  <th>service_value</th>   <td>  343.6611</td> <td>  228.919</td> <td>    1.501</td> <td> 0.135</td> <td> -107.565</td> <td>  794.887</td>\n",
       "</tr>\n",
       "<tr>\n",
       "  <th>acceptance_rate</th> <td>    0.3902</td> <td>    3.952</td> <td>    0.099</td> <td> 0.921</td> <td>   -7.400</td> <td>    8.180</td>\n",
       "</tr>\n",
       "<tr>\n",
       "  <th>response_label</th>  <td> -482.8702</td> <td>  224.971</td> <td>   -2.146</td> <td> 0.033</td> <td> -926.314</td> <td>  -39.427</td>\n",
       "</tr>\n",
       "<tr>\n",
       "  <th>Apartment</th>       <td> 1090.4852</td> <td>  291.373</td> <td>    3.743</td> <td> 0.000</td> <td>  516.157</td> <td> 1664.814</td>\n",
       "</tr>\n",
       "<tr>\n",
       "  <th>Homestay</th>        <td> -409.9101</td> <td>  332.634</td> <td>   -1.232</td> <td> 0.219</td> <td>-1065.569</td> <td>  245.748</td>\n",
       "</tr>\n",
       "<tr>\n",
       "  <th>Hotel</th>           <td>  211.8204</td> <td>  148.366</td> <td>    1.428</td> <td> 0.155</td> <td>  -80.626</td> <td>  504.267</td>\n",
       "</tr>\n",
       "<tr>\n",
       "  <th>House</th>           <td>  -65.5355</td> <td>  184.871</td> <td>   -0.354</td> <td> 0.723</td> <td> -429.937</td> <td>  298.865</td>\n",
       "</tr>\n",
       "<tr>\n",
       "  <th>Lodge</th>           <td> -485.2499</td> <td>  386.194</td> <td>   -1.256</td> <td> 0.210</td> <td>-1246.481</td> <td>  275.981</td>\n",
       "</tr>\n",
       "<tr>\n",
       "  <th>Resort</th>          <td>  702.0840</td> <td>  306.774</td> <td>    2.289</td> <td> 0.023</td> <td>   97.398</td> <td> 1306.770</td>\n",
       "</tr>\n",
       "<tr>\n",
       "  <th>Spa</th>             <td>         0</td> <td>        0</td> <td>      nan</td> <td>   nan</td> <td>        0</td> <td>        0</td>\n",
       "</tr>\n",
       "<tr>\n",
       "  <th>Villa</th>           <td> -103.0270</td> <td>  500.691</td> <td>   -0.206</td> <td> 0.837</td> <td>-1089.944</td> <td>  883.890</td>\n",
       "</tr>\n",
       "</table>\n",
       "<table class=\"simpletable\">\n",
       "<tr>\n",
       "  <th>Omnibus:</th>       <td>11.194</td> <th>  Durbin-Watson:     </th> <td>   2.076</td>\n",
       "</tr>\n",
       "<tr>\n",
       "  <th>Prob(Omnibus):</th> <td> 0.004</td> <th>  Jarque-Bera (JB):  </th> <td>  11.787</td>\n",
       "</tr>\n",
       "<tr>\n",
       "  <th>Skew:</th>          <td> 0.549</td> <th>  Prob(JB):          </th> <td> 0.00276</td>\n",
       "</tr>\n",
       "<tr>\n",
       "  <th>Kurtosis:</th>      <td> 3.041</td> <th>  Cond. No.          </th> <td>     inf</td>\n",
       "</tr>\n",
       "</table><br/><br/>Notes:<br/>[1] Standard Errors assume that the covariance matrix of the errors is correctly specified.<br/>[2] The smallest eigenvalue is      0. This might indicate that there are<br/>strong multicollinearity problems or that the design matrix is singular."
      ],
      "text/plain": [
       "<class 'statsmodels.iolib.summary.Summary'>\n",
       "\"\"\"\n",
       "                            OLS Regression Results                            \n",
       "==============================================================================\n",
       "Dep. Variable:             room_price   R-squared:                       0.385\n",
       "Model:                            OLS   Adj. R-squared:                  0.330\n",
       "Method:                 Least Squares   F-statistic:                     7.053\n",
       "Date:                Sat, 06 Mar 2021   Prob (F-statistic):           1.86e-14\n",
       "Time:                        12:58:01   Log-Likelihood:                -1864.6\n",
       "No. Observations:                 234   AIC:                             3769.\n",
       "Df Residuals:                     214   BIC:                             3838.\n",
       "Df Model:                          19                                         \n",
       "Covariance Type:            nonrobust                                         \n",
       "===================================================================================\n",
       "                      coef    std err          t      P>|t|      [0.025      0.975]\n",
       "-----------------------------------------------------------------------------------\n",
       "const             940.6670    403.693      2.330      0.021     144.943    1736.391\n",
       "image_count         3.6919      3.939      0.937      0.350      -4.072      11.455\n",
       "adult_occupancy   -56.0928     78.646     -0.713      0.476    -211.113      98.927\n",
       "child_occupancy    -1.3125     95.173     -0.014      0.989    -188.909     186.284\n",
       "num_amenities      20.3071     26.571      0.764      0.446     -32.067      72.681\n",
       "descr_len           0.4495      0.978      0.459      0.646      -1.479       2.378\n",
       "deluxe            510.3983    119.998      4.253      0.000     273.869     746.928\n",
       "num_simhotel       29.4450     10.638      2.768      0.006       8.477      50.413\n",
       "wifi              524.8552    124.966      4.200      0.000     278.532     771.178\n",
       "ac               -334.2704    121.654     -2.748      0.007    -574.065     -94.476\n",
       "breakfast          60.3859    224.546      0.269      0.788    -382.220     502.992\n",
       "service_value     343.6611    228.919      1.501      0.135    -107.565     794.887\n",
       "acceptance_rate     0.3902      3.952      0.099      0.921      -7.400       8.180\n",
       "response_label   -482.8702    224.971     -2.146      0.033    -926.314     -39.427\n",
       "Apartment        1090.4852    291.373      3.743      0.000     516.157    1664.814\n",
       "Homestay         -409.9101    332.634     -1.232      0.219   -1065.569     245.748\n",
       "Hotel             211.8204    148.366      1.428      0.155     -80.626     504.267\n",
       "House             -65.5355    184.871     -0.354      0.723    -429.937     298.865\n",
       "Lodge            -485.2499    386.194     -1.256      0.210   -1246.481     275.981\n",
       "Resort            702.0840    306.774      2.289      0.023      97.398    1306.770\n",
       "Spa                      0          0        nan        nan           0           0\n",
       "Villa            -103.0270    500.691     -0.206      0.837   -1089.944     883.890\n",
       "==============================================================================\n",
       "Omnibus:                       11.194   Durbin-Watson:                   2.076\n",
       "Prob(Omnibus):                  0.004   Jarque-Bera (JB):               11.787\n",
       "Skew:                           0.549   Prob(JB):                      0.00276\n",
       "Kurtosis:                       3.041   Cond. No.                          inf\n",
       "==============================================================================\n",
       "\n",
       "Notes:\n",
       "[1] Standard Errors assume that the covariance matrix of the errors is correctly specified.\n",
       "[2] The smallest eigenvalue is      0. This might indicate that there are\n",
       "strong multicollinearity problems or that the design matrix is singular.\n",
       "\"\"\""
      ]
     },
     "execution_count": 187,
     "metadata": {},
     "output_type": "execute_result"
    }
   ],
   "source": [
    "# X = zone3.iloc[:,2:]\n",
    "# X = sm.add_constant(X)\n",
    "# y = zone3.iloc[:,1]\n",
    "# X_train,X_test,y_train,y_test = train_test_split(X,y,test_size=0.3)\n",
    "\n",
    "# lr_model = sm.OLS(y_train, X_train).fit()\n",
    "# lr_model.summary()"
   ]
  },
  {
   "cell_type": "markdown",
   "metadata": {},
   "source": [
    "* The prediction results per zone do not significantly. This indicates that the low performance for linear regression prediction may be because the lack of substantial features related to room price such as the room area, and the decoration of rooms. "
   ]
  },
  {
   "cell_type": "code",
   "execution_count": 309,
   "metadata": {},
   "outputs": [
    {
     "data": {
      "text/plain": [
       "RandomForestRegressor(n_estimators=1000)"
      ]
     },
     "execution_count": 309,
     "metadata": {},
     "output_type": "execute_result"
    }
   ],
   "source": [
    "from sklearn.ensemble import RandomForestRegressor\n",
    "X = preprocessing.scale(train_data.iloc[:,2:])\n",
    "y = train_data.iloc[:,1]\n",
    "X_train,X_test,y_train,y_test = train_test_split(X,y,test_size=0.3)\n",
    "\n",
    "rr = RandomForestRegressor(n_estimators = 1000)\n",
    "rr.fit(X_train, y_train.values.ravel())\n",
    " \n"
   ]
  },
  {
   "cell_type": "code",
   "execution_count": 314,
   "metadata": {},
   "outputs": [
    {
     "data": {
      "text/plain": [
       "691428.0745319917"
      ]
     },
     "execution_count": 314,
     "metadata": {},
     "output_type": "execute_result"
    }
   ],
   "source": [
    "\n",
    "y_true = y_test # Y_true = Y (original values) \n",
    "y_pred = predictions = rr.predict(X_test) # Y_pred = Y' \n",
    "rr_testMSE = mean_squared_error(y_true,y_pred) \n",
    "rr_testMSE"
   ]
  },
  {
   "cell_type": "code",
   "execution_count": 316,
   "metadata": {},
   "outputs": [
    {
     "data": {
      "text/plain": [
       "0.23662194564090278"
      ]
     },
     "execution_count": 316,
     "metadata": {},
     "output_type": "execute_result"
    }
   ],
   "source": [
    "# calculate r2\n",
    "from sklearn.metrics import r2_score\n",
    "rr_r2 = r2_score(y_true, y_pred)\n",
    "rr_r2"
   ]
  },
  {
   "cell_type": "code",
   "execution_count": null,
   "metadata": {},
   "outputs": [],
   "source": []
  }
 ],
 "metadata": {
  "kernelspec": {
   "display_name": "Python 3",
   "language": "python",
   "name": "python3"
  },
  "language_info": {
   "codemirror_mode": {
    "name": "ipython",
    "version": 3
   },
   "file_extension": ".py",
   "mimetype": "text/x-python",
   "name": "python",
   "nbconvert_exporter": "python",
   "pygments_lexer": "ipython3",
   "version": "3.7.4"
  }
 },
 "nbformat": 4,
 "nbformat_minor": 4
}
