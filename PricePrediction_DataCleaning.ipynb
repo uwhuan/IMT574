{
 "cells": [
  {
   "cell_type": "code",
   "execution_count": 51,
   "metadata": {},
   "outputs": [],
   "source": [
    "import pandas as pd \n",
    "import matplotlib.pyplot as plt\n",
    "from sklearn.cluster import KMeans\n",
    "from sklearn.preprocessing import StandardScaler\n",
    "import seaborn as sns\n",
    "from sklearn.model_selection import train_test_split\n",
    "from sklearn import preprocessing\n",
    "import statsmodels.api as sm"
   ]
  },
  {
   "cell_type": "markdown",
   "metadata": {},
   "source": [
    "# Problem: Stayzilla Listing Room Price Prediction"
   ]
  },
  {
   "cell_type": "code",
   "execution_count": 354,
   "metadata": {},
   "outputs": [],
   "source": [
    "# load the data \n",
    "data = pd.read_csv('stayzilla_com-travel_sample.csv') # original sample data with more columns\n",
    "\n",
    "data1 = pd.read_csv('stayzilla_rough_cleaned.csv') # rough cleaned data "
   ]
  },
  {
   "cell_type": "markdown",
   "metadata": {},
   "source": [
    "# Data Processing "
   ]
  },
  {
   "cell_type": "code",
   "execution_count": 305,
   "metadata": {
    "scrolled": true
   },
   "outputs": [
    {
     "data": {
      "text/html": [
       "<div>\n",
       "<style scoped>\n",
       "    .dataframe tbody tr th:only-of-type {\n",
       "        vertical-align: middle;\n",
       "    }\n",
       "\n",
       "    .dataframe tbody tr th {\n",
       "        vertical-align: top;\n",
       "    }\n",
       "\n",
       "    .dataframe thead th {\n",
       "        text-align: right;\n",
       "    }\n",
       "</style>\n",
       "<table border=\"1\" class=\"dataframe\">\n",
       "  <thead>\n",
       "    <tr style=\"text-align: right;\">\n",
       "      <th></th>\n",
       "      <th>additional_info</th>\n",
       "      <th>amenities</th>\n",
       "      <th>check_in_date</th>\n",
       "      <th>check_out_date</th>\n",
       "      <th>city</th>\n",
       "      <th>country</th>\n",
       "      <th>crawl_date</th>\n",
       "      <th>description</th>\n",
       "      <th>highlight_value</th>\n",
       "      <th>hotel_star_rating</th>\n",
       "      <th>...</th>\n",
       "      <th>query_time_stamp</th>\n",
       "      <th>room_price</th>\n",
       "      <th>room_types</th>\n",
       "      <th>search_term</th>\n",
       "      <th>service_value</th>\n",
       "      <th>similar_hotel</th>\n",
       "      <th>sitename</th>\n",
       "      <th>things_to_do</th>\n",
       "      <th>things_to_note</th>\n",
       "      <th>uniq_id</th>\n",
       "    </tr>\n",
       "  </thead>\n",
       "  <tbody>\n",
       "    <tr>\n",
       "      <th>0</th>\n",
       "      <td>Acceptance Rate:100 percent|Response Time:&lt; 6 hours</td>\n",
       "      <td>Newspaper</td>\n",
       "      <td>04-08-2016</td>\n",
       "      <td>05-08-2016</td>\n",
       "      <td>Kalimpong</td>\n",
       "      <td>India</td>\n",
       "      <td>2016-07-20</td>\n",
       "      <td>Sangsey Valley Resort is Located at the wonderful location of upper delo icchey dara gaon .Delo Hill is an extended nature park with very well mai...</td>\n",
       "      <td>NaN</td>\n",
       "      <td>NaN</td>\n",
       "      <td>...</td>\n",
       "      <td>2016-07-20 10:59:55 +0000</td>\n",
       "      <td>3167per night incl. tax</td>\n",
       "      <td>3 Bedded Room</td>\n",
       "      <td>NaN</td>\n",
       "      <td>Not Verified</td>\n",
       "      <td>NaN</td>\n",
       "      <td>www.stayzilla.com</td>\n",
       "      <td>NaN</td>\n",
       "      <td>All taxes.|Complimentary Breakfast, Lunch and Dinner.</td>\n",
       "      <td>52a63c632d90923f7f0c394a79dce191</td>\n",
       "    </tr>\n",
       "    <tr>\n",
       "      <th>1</th>\n",
       "      <td>Acceptance Rate:100 percent|Response Time:&lt; 6 hours</td>\n",
       "      <td>Parking|AC</td>\n",
       "      <td>04-08-2016</td>\n",
       "      <td>05-08-2016</td>\n",
       "      <td>Kanpur</td>\n",
       "      <td>India</td>\n",
       "      <td>2016-07-20</td>\n",
       "      <td>What should you know? Enjoy unmatched service at affordable prices at Amantran Hotel. Laundry, doctor-on-call, car parking, and a travel desk for ...</td>\n",
       "      <td>NaN</td>\n",
       "      <td>NaN</td>\n",
       "      <td>...</td>\n",
       "      <td>2016-07-20 10:59:55 +0000</td>\n",
       "      <td>815per night incl. tax</td>\n",
       "      <td>Double Non-A/C Rooms</td>\n",
       "      <td>NaN</td>\n",
       "      <td>Not Verified</td>\n",
       "      <td>Hotel Mangalam|Hotel Maha Roopa Palace</td>\n",
       "      <td>www.stayzilla.com</td>\n",
       "      <td>NaN</td>\n",
       "      <td>Kindly Note:|This Tariff is not applicable for long weekends, Government Holidays and festival period.</td>\n",
       "      <td>49ad3256fc231a4c9fdb6f6f2cc00d16</td>\n",
       "    </tr>\n",
       "    <tr>\n",
       "      <th>2</th>\n",
       "      <td>Acceptance Rate:100 percent|Response Time:&lt; 6 hours</td>\n",
       "      <td>Pickup &amp; Drop|Parking|AC</td>\n",
       "      <td>04-08-2016</td>\n",
       "      <td>05-08-2016</td>\n",
       "      <td>Jodhpur</td>\n",
       "      <td>India</td>\n",
       "      <td>2016-07-20</td>\n",
       "      <td>What should you know? A budget hotel, this accommodation facility is located in the heart of Jodhpur City and is easily accessible from all major ...</td>\n",
       "      <td>NaN</td>\n",
       "      <td>NaN</td>\n",
       "      <td>...</td>\n",
       "      <td>2016-07-20 10:59:55 +0000</td>\n",
       "      <td>1624per night incl. tax</td>\n",
       "      <td>Deluxe AC Double</td>\n",
       "      <td>NaN</td>\n",
       "      <td>Not Verified</td>\n",
       "      <td>Gouri Heritage Haveli|The Regent Hotel|Vista Rooms at Khaas Bagh|Hotel Guru International</td>\n",
       "      <td>www.stayzilla.com</td>\n",
       "      <td>NaN</td>\n",
       "      <td>All taxes.|Complimentary Tea.</td>\n",
       "      <td>8b5952e578717e20b311846f7aab031f</td>\n",
       "    </tr>\n",
       "    <tr>\n",
       "      <th>3</th>\n",
       "      <td>Acceptance Rate:100 percent|Response Time:&lt; 6 hours</td>\n",
       "      <td>WiFi|Newspaper|Pickup &amp; Drop|Gym|Parking|AC</td>\n",
       "      <td>04-08-2016</td>\n",
       "      <td>05-08-2016</td>\n",
       "      <td>Jalpaiguri</td>\n",
       "      <td>India</td>\n",
       "      <td>2016-07-20</td>\n",
       "      <td>What should you know? The Riverwood Forest Retreats is part of the Dooars in North Bengal and set amidst the mountains of the foothills of the Him...</td>\n",
       "      <td>NaN</td>\n",
       "      <td>NaN</td>\n",
       "      <td>...</td>\n",
       "      <td>2016-07-20 10:59:55 +0000</td>\n",
       "      <td>3509per night incl. tax</td>\n",
       "      <td>Premium Single A/c</td>\n",
       "      <td>NaN</td>\n",
       "      <td>Not Verified</td>\n",
       "      <td>NaN</td>\n",
       "      <td>www.stayzilla.com</td>\n",
       "      <td>NaN</td>\n",
       "      <td>All taxes|Complimentary Breakfast|Kindly Note:|Extra Bed will be provided at additional charges that has to be paid to the hotel management at the...</td>\n",
       "      <td>032d715cabef6d4633e753de416929a8</td>\n",
       "    </tr>\n",
       "    <tr>\n",
       "      <th>4</th>\n",
       "      <td>Acceptance Rate:100 percent|Response Time:&lt; 6 hours</td>\n",
       "      <td>Newspaper|AC</td>\n",
       "      <td>04-08-2016</td>\n",
       "      <td>05-08-2016</td>\n",
       "      <td>Kanpur</td>\n",
       "      <td>India</td>\n",
       "      <td>2016-07-20</td>\n",
       "      <td>What should you know? Located at a walking distance from the South X Mall, Hotel Vijay Inter Continental provides a wide range of services to its ...</td>\n",
       "      <td>NaN</td>\n",
       "      <td>NaN</td>\n",
       "      <td>...</td>\n",
       "      <td>2016-07-20 10:59:55 +0000</td>\n",
       "      <td>5802per night incl. tax</td>\n",
       "      <td>Deluxe AC Double</td>\n",
       "      <td>NaN</td>\n",
       "      <td>Not Verified</td>\n",
       "      <td>Hotel Royal Cliff</td>\n",
       "      <td>www.stayzilla.com</td>\n",
       "      <td>NaN</td>\n",
       "      <td>Complimentary Breakfast.|Complimentary WiFi.|Complimentary Tea/Coffee maker in the room.|Service charge 10%|Kindly Note:|This Tariff is not applic...</td>\n",
       "      <td>ed546591dba770faae0ec3edadb0fcde</td>\n",
       "    </tr>\n",
       "  </tbody>\n",
       "</table>\n",
       "<p>5 rows × 33 columns</p>\n",
       "</div>"
      ],
      "text/plain": [
       "                                       additional_info  \\\n",
       "0  Acceptance Rate:100 percent|Response Time:< 6 hours   \n",
       "1  Acceptance Rate:100 percent|Response Time:< 6 hours   \n",
       "2  Acceptance Rate:100 percent|Response Time:< 6 hours   \n",
       "3  Acceptance Rate:100 percent|Response Time:< 6 hours   \n",
       "4  Acceptance Rate:100 percent|Response Time:< 6 hours   \n",
       "\n",
       "                                     amenities check_in_date check_out_date  \\\n",
       "0                                    Newspaper    04-08-2016     05-08-2016   \n",
       "1                                   Parking|AC    04-08-2016     05-08-2016   \n",
       "2                     Pickup & Drop|Parking|AC    04-08-2016     05-08-2016   \n",
       "3  WiFi|Newspaper|Pickup & Drop|Gym|Parking|AC    04-08-2016     05-08-2016   \n",
       "4                                 Newspaper|AC    04-08-2016     05-08-2016   \n",
       "\n",
       "         city country  crawl_date  \\\n",
       "0   Kalimpong   India  2016-07-20   \n",
       "1      Kanpur   India  2016-07-20   \n",
       "2     Jodhpur   India  2016-07-20   \n",
       "3  Jalpaiguri   India  2016-07-20   \n",
       "4      Kanpur   India  2016-07-20   \n",
       "\n",
       "                                                                                                                                             description  \\\n",
       "0  Sangsey Valley Resort is Located at the wonderful location of upper delo icchey dara gaon .Delo Hill is an extended nature park with very well mai...   \n",
       "1  What should you know? Enjoy unmatched service at affordable prices at Amantran Hotel. Laundry, doctor-on-call, car parking, and a travel desk for ...   \n",
       "2  What should you know? A budget hotel, this accommodation facility is located in the heart of Jodhpur City and is easily accessible from all major ...   \n",
       "3  What should you know? The Riverwood Forest Retreats is part of the Dooars in North Bengal and set amidst the mountains of the foothills of the Him...   \n",
       "4  What should you know? Located at a walking distance from the South X Mall, Hotel Vijay Inter Continental provides a wide range of services to its ...   \n",
       "\n",
       "  highlight_value  hotel_star_rating  ...           query_time_stamp  \\\n",
       "0             NaN                NaN  ...  2016-07-20 10:59:55 +0000   \n",
       "1             NaN                NaN  ...  2016-07-20 10:59:55 +0000   \n",
       "2             NaN                NaN  ...  2016-07-20 10:59:55 +0000   \n",
       "3             NaN                NaN  ...  2016-07-20 10:59:55 +0000   \n",
       "4             NaN                NaN  ...  2016-07-20 10:59:55 +0000   \n",
       "\n",
       "                room_price            room_types search_term  service_value  \\\n",
       "0  3167per night incl. tax         3 Bedded Room         NaN   Not Verified   \n",
       "1   815per night incl. tax  Double Non-A/C Rooms         NaN   Not Verified   \n",
       "2  1624per night incl. tax      Deluxe AC Double         NaN   Not Verified   \n",
       "3  3509per night incl. tax    Premium Single A/c         NaN   Not Verified   \n",
       "4  5802per night incl. tax      Deluxe AC Double         NaN   Not Verified   \n",
       "\n",
       "                                                                               similar_hotel  \\\n",
       "0                                                                                        NaN   \n",
       "1                                                     Hotel Mangalam|Hotel Maha Roopa Palace   \n",
       "2  Gouri Heritage Haveli|The Regent Hotel|Vista Rooms at Khaas Bagh|Hotel Guru International   \n",
       "3                                                                                        NaN   \n",
       "4                                                                          Hotel Royal Cliff   \n",
       "\n",
       "            sitename things_to_do  \\\n",
       "0  www.stayzilla.com          NaN   \n",
       "1  www.stayzilla.com          NaN   \n",
       "2  www.stayzilla.com          NaN   \n",
       "3  www.stayzilla.com          NaN   \n",
       "4  www.stayzilla.com          NaN   \n",
       "\n",
       "                                                                                                                                          things_to_note  \\\n",
       "0                                                                                                  All taxes.|Complimentary Breakfast, Lunch and Dinner.   \n",
       "1                                                 Kindly Note:|This Tariff is not applicable for long weekends, Government Holidays and festival period.   \n",
       "2                                                                                                                          All taxes.|Complimentary Tea.   \n",
       "3  All taxes|Complimentary Breakfast|Kindly Note:|Extra Bed will be provided at additional charges that has to be paid to the hotel management at the...   \n",
       "4  Complimentary Breakfast.|Complimentary WiFi.|Complimentary Tea/Coffee maker in the room.|Service charge 10%|Kindly Note:|This Tariff is not applic...   \n",
       "\n",
       "                            uniq_id  \n",
       "0  52a63c632d90923f7f0c394a79dce191  \n",
       "1  49ad3256fc231a4c9fdb6f6f2cc00d16  \n",
       "2  8b5952e578717e20b311846f7aab031f  \n",
       "3  032d715cabef6d4633e753de416929a8  \n",
       "4  ed546591dba770faae0ec3edadb0fcde  \n",
       "\n",
       "[5 rows x 33 columns]"
      ]
     },
     "execution_count": 305,
     "metadata": {},
     "output_type": "execute_result"
    }
   ],
   "source": [
    "# inspect the data\n",
    "data.shape\n",
    "data.head()"
   ]
  },
  {
   "cell_type": "code",
   "execution_count": 306,
   "metadata": {
    "scrolled": true
   },
   "outputs": [
    {
     "data": {
      "text/html": [
       "<div>\n",
       "<style scoped>\n",
       "    .dataframe tbody tr th:only-of-type {\n",
       "        vertical-align: middle;\n",
       "    }\n",
       "\n",
       "    .dataframe tbody tr th {\n",
       "        vertical-align: top;\n",
       "    }\n",
       "\n",
       "    .dataframe thead th {\n",
       "        text-align: right;\n",
       "    }\n",
       "</style>\n",
       "<table border=\"1\" class=\"dataframe\">\n",
       "  <thead>\n",
       "    <tr style=\"text-align: right;\">\n",
       "      <th></th>\n",
       "      <th>additional_info</th>\n",
       "      <th>amenities</th>\n",
       "      <th>check_in_date</th>\n",
       "      <th>check_out_date</th>\n",
       "      <th>city</th>\n",
       "      <th>country</th>\n",
       "      <th>crawl_date</th>\n",
       "      <th>description</th>\n",
       "      <th>highlight_value</th>\n",
       "      <th>hotel_star_rating</th>\n",
       "      <th>...</th>\n",
       "      <th>query_time_stamp</th>\n",
       "      <th>room_price</th>\n",
       "      <th>room_types</th>\n",
       "      <th>search_term</th>\n",
       "      <th>service_value</th>\n",
       "      <th>similar_hotel</th>\n",
       "      <th>sitename</th>\n",
       "      <th>things_to_do</th>\n",
       "      <th>things_to_note</th>\n",
       "      <th>uniq_id</th>\n",
       "    </tr>\n",
       "  </thead>\n",
       "  <tbody>\n",
       "    <tr>\n",
       "      <th>1202</th>\n",
       "      <td>~ All Taxes.~ Complimentary Bed Tea.~ Complimentary WiFi.</td>\n",
       "      <td>Restaurent | Business Center | Wifi | Swimming Pool | Credit Card | Laundry | Gym | Free Newspaper | Car Parking</td>\n",
       "      <td>06/01/2016</td>\n",
       "      <td>09/01/2016</td>\n",
       "      <td>Mandi</td>\n",
       "      <td>NaN</td>\n",
       "      <td>NaN</td>\n",
       "      <td>NaN</td>\n",
       "      <td>What should you know?\\n Midway resort, as the name suggests, is situated in Mandi Valley that falls between Chandigarh-Manali and Shimla-Manali Hi...</td>\n",
       "      <td>0.0</td>\n",
       "      <td>...</td>\n",
       "      <td>2015-12-30 15:21:16 +0000</td>\n",
       "      <td>NaN</td>\n",
       "      <td>Deluxe Room Non Ac | Deluxe Room Ac | Super Deluxe Room Ac | Family Suite Ac | Extra Bed</td>\n",
       "      <td>Mandi</td>\n",
       "      <td>Laundry | Free Newspaper | Parking</td>\n",
       "      <td>NaN</td>\n",
       "      <td>stayzilla</td>\n",
       "      <td>Restaurant | Swimming Pool | Health Club</td>\n",
       "      <td>NaN</td>\n",
       "      <td>8cdac0cb8c7c71a1731370750b5448f0</td>\n",
       "    </tr>\n",
       "    <tr>\n",
       "      <th>1203</th>\n",
       "      <td>~ All Taxes</td>\n",
       "      <td>Wifi | Laundry | Car Parking</td>\n",
       "      <td>06/01/2016</td>\n",
       "      <td>09/01/2016</td>\n",
       "      <td>Bhilwara</td>\n",
       "      <td>NaN</td>\n",
       "      <td>NaN</td>\n",
       "      <td>NaN</td>\n",
       "      <td>What should you know?\\n A budget hotel that offers two categories of rooms namely deluxe and luxury, Hotel City Plaza provides basic amenities to ...</td>\n",
       "      <td>0.0</td>\n",
       "      <td>...</td>\n",
       "      <td>2015-12-30 15:21:16 +0000</td>\n",
       "      <td>NaN</td>\n",
       "      <td>Deluxe Double | Luxury Double | Extra Bed</td>\n",
       "      <td>Bhilwara</td>\n",
       "      <td>Laundry | Parking | 24 hour check in | 24 hour check out</td>\n",
       "      <td>NaN</td>\n",
       "      <td>stayzilla</td>\n",
       "      <td>NaN</td>\n",
       "      <td>NaN</td>\n",
       "      <td>d091b4973071cbc2559c0db555db80f3</td>\n",
       "    </tr>\n",
       "    <tr>\n",
       "      <th>1204</th>\n",
       "      <td>Kindly Note ~ Hotel doesn't have Restaurants in the premises.</td>\n",
       "      <td>Laundry | Car Parking</td>\n",
       "      <td>06/01/2016</td>\n",
       "      <td>09/01/2016</td>\n",
       "      <td>Gandhinagar</td>\n",
       "      <td>NaN</td>\n",
       "      <td>NaN</td>\n",
       "      <td>NaN</td>\n",
       "      <td>What should you know?\\n Hotel Shreeji boasts of 11 spacious and well-appointed rooms which are air-conditioned. The hotel provides Airport and Rai...</td>\n",
       "      <td>0.0</td>\n",
       "      <td>...</td>\n",
       "      <td>2015-12-30 15:21:16 +0000</td>\n",
       "      <td>NaN</td>\n",
       "      <td>Double Non A/c Room | Double A/c Room | Extra Bed</td>\n",
       "      <td>Gandhinagar</td>\n",
       "      <td>Laundry | Parking</td>\n",
       "      <td>NaN</td>\n",
       "      <td>stayzilla</td>\n",
       "      <td>NaN</td>\n",
       "      <td>NaN</td>\n",
       "      <td>9fb6e2266ea09509d668195b1250eed1</td>\n",
       "    </tr>\n",
       "    <tr>\n",
       "      <th>1205</th>\n",
       "      <td>~ All taxes.~ Complimentary WiFi. And Bed Tea; Coffee And News Paper.~ Complimentary Pickup And Drop From Bus Stand.</td>\n",
       "      <td>Wifi | Credit Card | Laundry | Free Newspaper | Car Parking</td>\n",
       "      <td>06/01/2016</td>\n",
       "      <td>09/01/2016</td>\n",
       "      <td>Uttarkashi</td>\n",
       "      <td>NaN</td>\n",
       "      <td>NaN</td>\n",
       "      <td>NaN</td>\n",
       "      <td>NaN</td>\n",
       "      <td>0.0</td>\n",
       "      <td>...</td>\n",
       "      <td>2015-12-30 15:21:16 +0000</td>\n",
       "      <td>NaN</td>\n",
       "      <td>Double Non A/c Room | Deluxe Non A/c Double | Deluxe A/c Double | Extra Bed</td>\n",
       "      <td>Uttarkashi</td>\n",
       "      <td>Laundry | Free Newspaper | Parking | 24 hour check in | 24 hour check out</td>\n",
       "      <td>NaN</td>\n",
       "      <td>stayzilla</td>\n",
       "      <td>NaN</td>\n",
       "      <td>NaN</td>\n",
       "      <td>6376a5202298fb78e0f9954a85b8a45c</td>\n",
       "    </tr>\n",
       "    <tr>\n",
       "      <th>1206</th>\n",
       "      <td>NaN</td>\n",
       "      <td>Bar/Pub | Wifi | Laundry | Free Newspaper</td>\n",
       "      <td>06/01/2016</td>\n",
       "      <td>09/01/2016</td>\n",
       "      <td>Goa</td>\n",
       "      <td>NaN</td>\n",
       "      <td>NaN</td>\n",
       "      <td>NaN</td>\n",
       "      <td>NaN</td>\n",
       "      <td>0.0</td>\n",
       "      <td>...</td>\n",
       "      <td>2015-12-30 15:21:16 +0000</td>\n",
       "      <td>NaN</td>\n",
       "      <td>Duplex Upstairs Hut Double | Duplex Downstairs Hut Double | Extra Bed</td>\n",
       "      <td>Goa Velha</td>\n",
       "      <td>Laundry | Free Newspaper</td>\n",
       "      <td>NaN</td>\n",
       "      <td>stayzilla</td>\n",
       "      <td>Bar</td>\n",
       "      <td>NaN</td>\n",
       "      <td>8d1913cb412923244fb6c5c333a3d8d1</td>\n",
       "    </tr>\n",
       "  </tbody>\n",
       "</table>\n",
       "<p>5 rows × 33 columns</p>\n",
       "</div>"
      ],
      "text/plain": [
       "                                                                                                           additional_info  \\\n",
       "1202                                                             ~ All Taxes.~ Complimentary Bed Tea.~ Complimentary WiFi.   \n",
       "1203                                                                                                           ~ All Taxes   \n",
       "1204                                                         Kindly Note ~ Hotel doesn't have Restaurants in the premises.   \n",
       "1205  ~ All taxes.~ Complimentary WiFi. And Bed Tea; Coffee And News Paper.~ Complimentary Pickup And Drop From Bus Stand.   \n",
       "1206                                                                                                                   NaN   \n",
       "\n",
       "                                                                                                             amenities  \\\n",
       "1202  Restaurent | Business Center | Wifi | Swimming Pool | Credit Card | Laundry | Gym | Free Newspaper | Car Parking   \n",
       "1203                                                                                      Wifi | Laundry | Car Parking   \n",
       "1204                                                                                             Laundry | Car Parking   \n",
       "1205                                                       Wifi | Credit Card | Laundry | Free Newspaper | Car Parking   \n",
       "1206                                                                         Bar/Pub | Wifi | Laundry | Free Newspaper   \n",
       "\n",
       "     check_in_date check_out_date         city country crawl_date description  \\\n",
       "1202    06/01/2016     09/01/2016        Mandi     NaN        NaN         NaN   \n",
       "1203    06/01/2016     09/01/2016     Bhilwara     NaN        NaN         NaN   \n",
       "1204    06/01/2016     09/01/2016  Gandhinagar     NaN        NaN         NaN   \n",
       "1205    06/01/2016     09/01/2016   Uttarkashi     NaN        NaN         NaN   \n",
       "1206    06/01/2016     09/01/2016          Goa     NaN        NaN         NaN   \n",
       "\n",
       "                                                                                                                                            highlight_value  \\\n",
       "1202  What should you know?\\n Midway resort, as the name suggests, is situated in Mandi Valley that falls between Chandigarh-Manali and Shimla-Manali Hi...   \n",
       "1203  What should you know?\\n A budget hotel that offers two categories of rooms namely deluxe and luxury, Hotel City Plaza provides basic amenities to ...   \n",
       "1204  What should you know?\\n Hotel Shreeji boasts of 11 spacious and well-appointed rooms which are air-conditioned. The hotel provides Airport and Rai...   \n",
       "1205                                                                                                                                                    NaN   \n",
       "1206                                                                                                                                                    NaN   \n",
       "\n",
       "      hotel_star_rating  ...           query_time_stamp room_price  \\\n",
       "1202                0.0  ...  2015-12-30 15:21:16 +0000        NaN   \n",
       "1203                0.0  ...  2015-12-30 15:21:16 +0000        NaN   \n",
       "1204                0.0  ...  2015-12-30 15:21:16 +0000        NaN   \n",
       "1205                0.0  ...  2015-12-30 15:21:16 +0000        NaN   \n",
       "1206                0.0  ...  2015-12-30 15:21:16 +0000        NaN   \n",
       "\n",
       "                                                                                    room_types  \\\n",
       "1202  Deluxe Room Non Ac | Deluxe Room Ac | Super Deluxe Room Ac | Family Suite Ac | Extra Bed   \n",
       "1203                                                 Deluxe Double | Luxury Double | Extra Bed   \n",
       "1204                                         Double Non A/c Room | Double A/c Room | Extra Bed   \n",
       "1205               Double Non A/c Room | Deluxe Non A/c Double | Deluxe A/c Double | Extra Bed   \n",
       "1206                     Duplex Upstairs Hut Double | Duplex Downstairs Hut Double | Extra Bed   \n",
       "\n",
       "      search_term  \\\n",
       "1202        Mandi   \n",
       "1203     Bhilwara   \n",
       "1204  Gandhinagar   \n",
       "1205   Uttarkashi   \n",
       "1206    Goa Velha   \n",
       "\n",
       "                                                                  service_value  \\\n",
       "1202                                         Laundry | Free Newspaper | Parking   \n",
       "1203                   Laundry | Parking | 24 hour check in | 24 hour check out   \n",
       "1204                                                          Laundry | Parking   \n",
       "1205  Laundry | Free Newspaper | Parking | 24 hour check in | 24 hour check out   \n",
       "1206                                                   Laundry | Free Newspaper   \n",
       "\n",
       "      similar_hotel   sitename                              things_to_do  \\\n",
       "1202            NaN  stayzilla  Restaurant | Swimming Pool | Health Club   \n",
       "1203            NaN  stayzilla                                       NaN   \n",
       "1204            NaN  stayzilla                                       NaN   \n",
       "1205            NaN  stayzilla                                       NaN   \n",
       "1206            NaN  stayzilla                                       Bar   \n",
       "\n",
       "     things_to_note                           uniq_id  \n",
       "1202            NaN  8cdac0cb8c7c71a1731370750b5448f0  \n",
       "1203            NaN  d091b4973071cbc2559c0db555db80f3  \n",
       "1204            NaN  9fb6e2266ea09509d668195b1250eed1  \n",
       "1205            NaN  6376a5202298fb78e0f9954a85b8a45c  \n",
       "1206            NaN  8d1913cb412923244fb6c5c333a3d8d1  \n",
       "\n",
       "[5 rows x 33 columns]"
      ]
     },
     "execution_count": 306,
     "metadata": {},
     "output_type": "execute_result"
    }
   ],
   "source": [
    "data.tail()"
   ]
  },
  {
   "cell_type": "code",
   "execution_count": 307,
   "metadata": {
    "collapsed": true
   },
   "outputs": [
    {
     "name": "stdout",
     "output_type": "stream",
     "text": [
      "<class 'pandas.core.frame.DataFrame'>\n",
      "RangeIndex: 1207 entries, 0 to 1206\n",
      "Data columns (total 33 columns):\n",
      " #   Column             Non-Null Count  Dtype  \n",
      "---  ------             --------------  -----  \n",
      " 0   additional_info    1203 non-null   object \n",
      " 1   amenities          1154 non-null   object \n",
      " 2   check_in_date      1207 non-null   object \n",
      " 3   check_out_date     1207 non-null   object \n",
      " 4   city               1207 non-null   object \n",
      " 5   country            1139 non-null   object \n",
      " 6   crawl_date         1139 non-null   object \n",
      " 7   description        919 non-null    object \n",
      " 8   highlight_value    52 non-null     object \n",
      " 9   hotel_star_rating  68 non-null     float64\n",
      " 10  image_count        985 non-null    float64\n",
      " 11  image_urls         947 non-null    object \n",
      " 12  internet           68 non-null     object \n",
      " 13  landmark           68 non-null     object \n",
      " 14  latitude           1207 non-null   float64\n",
      " 15  longitude          1207 non-null   float64\n",
      " 16  occupancy          1139 non-null   object \n",
      " 17  pageurl            1207 non-null   object \n",
      " 18  property_address   1207 non-null   object \n",
      " 19  property_id        1207 non-null   int64  \n",
      " 20  property_name      1207 non-null   object \n",
      " 21  property_type      1207 non-null   object \n",
      " 22  qts                1139 non-null   object \n",
      " 23  query_time_stamp   1207 non-null   object \n",
      " 24  room_price         1139 non-null   object \n",
      " 25  room_types         1207 non-null   object \n",
      " 26  search_term        68 non-null     object \n",
      " 27  service_value      1206 non-null   object \n",
      " 28  similar_hotel      825 non-null    object \n",
      " 29  sitename           1207 non-null   object \n",
      " 30  things_to_do       40 non-null     object \n",
      " 31  things_to_note     977 non-null    object \n",
      " 32  uniq_id            1207 non-null   object \n",
      "dtypes: float64(4), int64(1), object(28)\n",
      "memory usage: 311.3+ KB\n"
     ]
    }
   ],
   "source": [
    "data.info()"
   ]
  },
  {
   "cell_type": "code",
   "execution_count": 308,
   "metadata": {
    "scrolled": true
   },
   "outputs": [
    {
     "data": {
      "text/plain": [
       "additional_info         4\n",
       "amenities              53\n",
       "check_in_date           0\n",
       "check_out_date          0\n",
       "city                    0\n",
       "country                68\n",
       "crawl_date             68\n",
       "description           288\n",
       "highlight_value      1155\n",
       "hotel_star_rating    1139\n",
       "image_count           222\n",
       "image_urls            260\n",
       "internet             1139\n",
       "landmark             1139\n",
       "latitude                0\n",
       "longitude               0\n",
       "occupancy              68\n",
       "pageurl                 0\n",
       "property_address        0\n",
       "property_id             0\n",
       "property_name           0\n",
       "property_type           0\n",
       "qts                    68\n",
       "query_time_stamp        0\n",
       "room_price             68\n",
       "room_types              0\n",
       "search_term          1139\n",
       "service_value           1\n",
       "similar_hotel         382\n",
       "sitename                0\n",
       "things_to_do         1167\n",
       "things_to_note        230\n",
       "uniq_id                 0\n",
       "dtype: int64"
      ]
     },
     "execution_count": 308,
     "metadata": {},
     "output_type": "execute_result"
    }
   ],
   "source": [
    "# check missing values\n",
    "data.isnull().sum()"
   ]
  },
  {
   "cell_type": "markdown",
   "metadata": {},
   "source": [
    "For the purpose of modeling, we will use the features that could affect the property price to a certain degree and are not sustaintially missing. We will not use features that are not obviously relevant to price prediction such as  `property_name`, nor features that has many missing values. <br>"
   ]
  },
  {
   "cell_type": "code",
   "execution_count": 500,
   "metadata": {},
   "outputs": [],
   "source": [
    "# extract possible features  \n",
    "features = ['additional_info', 'city', 'amenities', 'description' , 'image_count', 'latitude', 'longitude', 'occupancy','property_id',\n",
    "           'property_type','room_price',  'room_types', 'service_value', 'similar_hotel', 'things_to_do']\n",
    "data0 = data[data.check_in_date == '04-08-2016'][['additional_info', 'city', 'amenities', 'description' , 'image_count', 'latitude', 'longitude', 'occupancy','property_id',\n",
    "           'property_type','room_price',  'room_types', 'service_value', 'similar_hotel', 'things_to_do']]\n",
    "\n",
    "# remove duplicated property id\n",
    "data0.drop_duplicates(subset=['property_id'], inplace=True)\n",
    "data1.drop_duplicates(subset=['property_id'], inplace=True)\n"
   ]
  },
  {
   "cell_type": "markdown",
   "metadata": {},
   "source": [
    "The sample dataset has 36 columns in total. After inspecting each column, we found the data in some columns is not equally available between two different check-in dates. We will use the data with check-in data on 04-08-2016 because it has a larger portion in total rows than the other check-in date. <br>\n"
   ]
  },
  {
   "cell_type": "code",
   "execution_count": 501,
   "metadata": {},
   "outputs": [
    {
     "data": {
      "text/plain": [
       "(1139, 15)"
      ]
     },
     "execution_count": 501,
     "metadata": {},
     "output_type": "execute_result"
    }
   ],
   "source": [
    "data0.shape"
   ]
  },
  {
   "cell_type": "markdown",
   "metadata": {},
   "source": [
    "# Feature engineering\n"
   ]
  },
  {
   "cell_type": "markdown",
   "metadata": {},
   "source": [
    "### Extract numerical values from categorical variables"
   ]
  },
  {
   "cell_type": "code",
   "execution_count": 502,
   "metadata": {},
   "outputs": [],
   "source": [
    "# three columns (i.e. amenities, room_type, things_to_note) may contain 'AC'/'WIFI' information\n",
    "# to determine if a property has wifi or AC, we compare all three columns to extract such information. \n",
    "combo = data0[['amenities', 'room_types', 'things_to_do']].fillna('')\n",
    "data0['combined'] = combo['amenities'] + ' ' + combo['room_types'] + ' ' + combo['things_to_do'] \n",
    "\n",
    "# add 'wifi' column if a property has wifi\n",
    "data0['wifi'] = data0.combined.apply(lambda x: 1 if 'wifi' in x.lower() else 0)\n",
    "\n",
    "# add 'ac' column if a property has ac\n",
    "data0['ac'] = data0.combined.apply(lambda x: 1 if 'ac' in x.lower() else 0)\n",
    "\n",
    "# add 'breakfast' column if a property has free breakfast\n",
    "data0['breakfast'] = data0.combined.apply(lambda x: 1 if 'breakfast' in x.lower() else 0)"
   ]
  },
  {
   "cell_type": "code",
   "execution_count": 503,
   "metadata": {},
   "outputs": [],
   "source": [
    "#  'num_amenities': transform 'amenities' into a numerical variable\n",
    "import re\n",
    "data0['num_amenities'] = data0['amenities'].apply(lambda x: [] if pd.isnull(x) else re.split(r'[/|&\\s]\\s*', x))\n",
    "data0['num_amenities'] = data0['num_amenities'].apply(lambda x: list(filter(None, x)))\n",
    "data0['num_amenities'] = data0['num_amenities'].apply(len)"
   ]
  },
  {
   "cell_type": "code",
   "execution_count": 504,
   "metadata": {},
   "outputs": [],
   "source": [
    "# 'num_descrption': count the number of words in a description, 0 if NaN \n",
    "data0['descr_len']= data0.description.apply(lambda x: 0 if pd.isnull(x) else len(x.split()))"
   ]
  },
  {
   "cell_type": "code",
   "execution_count": 505,
   "metadata": {},
   "outputs": [],
   "source": [
    "# convert 'room_type' to a binary variable 'deluxe': 1 if it contains the word 'deluxe' or ''Superior', else 0 \n",
    "data0.room_types = data0.room_types.apply(lambda x: x.lower())\n",
    "data0['deluxe'] = data0.room_types.apply(lambda x: 1 if ('deluxe' in x) or ('superior' in x) else 0)"
   ]
  },
  {
   "cell_type": "code",
   "execution_count": 506,
   "metadata": {},
   "outputs": [],
   "source": [
    "# 'num_similar_hotels': transform 'similar hotel' into numerical valye \n",
    "data0['num_simhotel'] = data0['similar_hotel'].apply(lambda x: [] if pd.isnull(x) else re.split(r'[/|&\\s]\\s*', x))\n",
    "data0['num_simhotel'] = data0['num_simhotel'].apply(lambda x: list(filter(None, x)))\n",
    "data0['num_simhotel'] = data0['num_simhotel'].apply(len)"
   ]
  },
  {
   "cell_type": "code",
   "execution_count": 507,
   "metadata": {},
   "outputs": [],
   "source": [
    "# 'service value': encode it to 1 if verified,  0 if not or NA\n",
    "data0['service_value'] = data0['service_value'].apply(lambda x: 1 if x == 'Verified' else 0)"
   ]
  },
  {
   "cell_type": "code",
   "execution_count": 544,
   "metadata": {},
   "outputs": [],
   "source": [
    "# split 'additional_info' to two columns: 'acceptance_rate' and 'response_time'\n",
    "infodf = data0.additional_info.str.split('|',1, expand=True)"
   ]
  },
  {
   "cell_type": "code",
   "execution_count": 509,
   "metadata": {},
   "outputs": [
    {
     "data": {
      "text/plain": [
       "array(['Acceptance Rate:100 percent', 'Acceptance Rate:60 percent',\n",
       "       'Response Time:22 minutes', 'Response Time:< 6 hours',\n",
       "       'Response Time:25 minutes', 'Acceptance Rate:0 percent',\n",
       "       'Response Time:7 minutes', 'Response Time:51 minutes',\n",
       "       'Response Time:1 minute', 'Acceptance Rate:50 percent',\n",
       "       'Response Time:14 minutes', 'Acceptance Rate:75 percent',\n",
       "       'Acceptance Rate:67 percent', 'Response Time:19 minutes',\n",
       "       'Response Time:36 minutes', 'Acceptance Rate:25 percent',\n",
       "       'Response Time:17 minutes', 'Response Time:34 minutes'],\n",
       "      dtype=object)"
      ]
     },
     "execution_count": 509,
     "metadata": {},
     "output_type": "execute_result"
    }
   ],
   "source": [
    "infodf.iloc[:,-2].unique()"
   ]
  },
  {
   "cell_type": "code",
   "execution_count": 545,
   "metadata": {
    "collapsed": true
   },
   "outputs": [
    {
     "data": {
      "text/plain": [
       "array(['Response Time:< 6 hours', 'Response Time:> 24 hours',\n",
       "       'Response Time:22 minutes', 'Response Time:25 minutes',\n",
       "       'Response Time:16 hours', 'Response Time:23 hours',\n",
       "       'Response Time:30 minutes', 'Response Time:21 hours',\n",
       "       'Response Time:7 minutes', 'Response Time:10 minutes',\n",
       "       'Response Time:26 minutes', 'Response Time:21 minutes',\n",
       "       'Response Time:18 hours', 'Response Time:46 minutes',\n",
       "       'Response Time:51 minutes', 'Response Time:1 minute',\n",
       "       'Response Time:11 hours', 'Response Time:14 minutes',\n",
       "       'Response Time:39 minutes', 'Response Time:10 hours',\n",
       "       'Response Time:6 hours', 'Response Time:13 hours',\n",
       "       'Response Time:9 minutes', 'Response Time:15 hours',\n",
       "       'Response Time:7 hours', 'Response Time:20 hours',\n",
       "       'Response Time:42 minutes', 'Response Time:19 minutes',\n",
       "       'Response Time:36 minutes', 'Response Time:47 minutes',\n",
       "       'Response Time:18 minutes', 'Response Time:12 hours',\n",
       "       'Response Time:19 hours', 'Response Time:32 minutes',\n",
       "       'Response Time:27 minutes', 'Response Time:17 minutes',\n",
       "       'Response Time:24 hours', 'Response Time:34 minutes',\n",
       "       'Response Time:57 minutes', 'Response Time:9 hours'], dtype=object)"
      ]
     },
     "execution_count": 545,
     "metadata": {},
     "output_type": "execute_result"
    }
   ],
   "source": [
    "# extract'acceptance rate' and 'response time'\n",
    "# 1. swap inconsistent acceptance and response time in the two columns\n",
    "for i in range(len(infodf)):\n",
    "    if 'Response' in infodf.iloc[i,-2]:\n",
    "        infodf.iloc[i,[-2,-1]] = infodf.iloc[i,[-1, -2]]\n",
    "infodf = infodf.rename(columns={0: \"acceptance_rate\", 1: \"response_time\"})\n",
    "infodf.iloc[:,-1].unique()"
   ]
  },
  {
   "cell_type": "code",
   "execution_count": 517,
   "metadata": {
    "collapsed": true
   },
   "outputs": [
    {
     "data": {
      "text/plain": [
       "array(['Acceptance Rate:100 percent', 'Acceptance Rate:60 percent',\n",
       "       'Acceptance Rate:57 percent', 'Acceptance Rate:0 percent',\n",
       "       'Acceptance Rate:50 percent', 'Acceptance Rate:56 percent',\n",
       "       'Acceptance Rate:33 percent', 'Acceptance Rate:67 percent',\n",
       "       'Acceptance Rate:75 percent', 'Acceptance Rate:25 percent',\n",
       "       'Acceptance Rate:78 percent'], dtype=object)"
      ]
     },
     "execution_count": 517,
     "metadata": {},
     "output_type": "execute_result"
    }
   ],
   "source": [
    "infodf.acceptance_rate.unique()"
   ]
  },
  {
   "cell_type": "code",
   "execution_count": 549,
   "metadata": {},
   "outputs": [],
   "source": [
    "infodf.acceptance_rate = infodf.acceptance_rate.apply(lambda x: int(re.findall(r'\\d+', x)[0]))\n",
    "infodf.response_time = infodf.response_time.apply(lambda x: int(re.findall(r'\\d+', x)[0]))"
   ]
  },
  {
   "cell_type": "code",
   "execution_count": 552,
   "metadata": {},
   "outputs": [],
   "source": [
    "# 2. group 'response time' into three categories: <= 6hr(0), 6-24 hr(1), >24 hr (2)\n",
    "infodf['response_label']= infodf.response_time.apply(lambda x: 0 if x <= 6 else(2 if x>24 else 1))"
   ]
  },
  {
   "cell_type": "markdown",
   "metadata": {},
   "source": [
    "### Encode categorical variable"
   ]
  },
  {
   "cell_type": "code",
   "execution_count": 418,
   "metadata": {},
   "outputs": [],
   "source": [
    "# encode 'property_type' \n",
    "from sklearn.preprocessing import OneHotEncoder\n",
    "encoder = OneHotEncoder()\n",
    "results = encoder.fit_transform(data0[['property_type']])\n",
    "property_type = pd.DataFrame(results.toarray(), columns=encoder.categories_)"
   ]
  },
  {
   "cell_type": "markdown",
   "metadata": {},
   "source": [
    "### Transform geolocation information to zones"
   ]
  },
  {
   "cell_type": "code",
   "execution_count": 558,
   "metadata": {
    "scrolled": true
   },
   "outputs": [
    {
     "name": "stdout",
     "output_type": "stream",
     "text": [
      "[2 0 3 ... 0 0 0]\n",
      "[[26.1236228  81.55766353]\n",
      " [13.14838039 77.46999232]\n",
      " [25.16267444 87.2750455 ]\n",
      " [28.39978587 75.58300457]]\n"
     ]
    },
    {
     "data": {
      "image/png": "[encoded data removed]",
      "text/plain": [
       "<Figure size 432x288 with 1 Axes>"
      ]
     },
     "metadata": {
      "needs_background": "light"
     },
     "output_type": "display_data"
    },
    {
     "data": {
      "image/png": "[encoded data removed]",
      "text/plain": [
       "<Figure size 432x288 with 1 Axes>"
      ]
     },
     "metadata": {
      "needs_background": "light"
     },
     "output_type": "display_data"
    }
   ],
   "source": [
    "# use KNN to cluster longtitude and latitude: by looking at the scatter plot, we think 4 clusters would be a good threshold  \n",
    "data0.plot.scatter(x='latitude', y='longitude')\n",
    "\n",
    "# K-means clustering\n",
    "X = data0[['latitude', 'longitude']]\n",
    "kmeans = KMeans(n_clusters=4)\n",
    "y_kmeans = kmeans.fit_predict(X) \n",
    "print(y_kmeans) \n",
    "centroids = kmeans.cluster_centers_\n",
    "print(centroids)\n",
    "plt.figure(figsize=(6,4))\n",
    "plt.scatter(X['latitude'], X['longitude'], c=y_kmeans, cmap='rainbow')\n",
    "plt.scatter(centroids[:,0], centroids[:,1], c='black', s=100)\n",
    "plt.show()\n",
    "\n",
    "# add labels back the data\n",
    "data0['zones'] = y_kmeans"
   ]
  },
  {
   "cell_type": "markdown",
   "metadata": {},
   "source": [
    "### Finalize selected features"
   ]
  },
  {
   "cell_type": "code",
   "execution_count": 559,
   "metadata": {},
   "outputs": [],
   "source": [
    "# select relevant features \n",
    "dfa = data1[['description', 'city', 'image_count', 'room_price', 'adult_occupancy', 'child_occupancy']]\n",
    "dfb = data0[['property_id', 'num_amenities', 'zones', 'descr_len','deluxe','num_simhotel', 'wifi','ac','breakfast', 'service_value']]\n",
    "dfc = infodf[['acceptance_rate', 'response_label']]\n",
    "property_type.columns = ['Apartment', 'Homestay', 'Hotel','House','Lodge', 'Resort', 'Spa', 'Villa' ]\n",
    "clean_data = pd.concat([dfa,dfb,dfc, property_type], axis=1)\n"
   ]
  },
  {
   "cell_type": "markdown",
   "metadata": {},
   "source": [
    "# Data cleaning"
   ]
  },
  {
   "cell_type": "code",
   "execution_count": 2,
   "metadata": {
    "scrolled": true
   },
   "outputs": [
    {
     "data": {
      "text/html": [
       "<div>\n",
       "<style scoped>\n",
       "    .dataframe tbody tr th:only-of-type {\n",
       "        vertical-align: middle;\n",
       "    }\n",
       "\n",
       "    .dataframe tbody tr th {\n",
       "        vertical-align: top;\n",
       "    }\n",
       "\n",
       "    .dataframe thead th {\n",
       "        text-align: right;\n",
       "    }\n",
       "</style>\n",
       "<table border=\"1\" class=\"dataframe\">\n",
       "  <thead>\n",
       "    <tr style=\"text-align: right;\">\n",
       "      <th></th>\n",
       "      <th>Unnamed: 0</th>\n",
       "      <th>description</th>\n",
       "      <th>city</th>\n",
       "      <th>image_count</th>\n",
       "      <th>room_price</th>\n",
       "      <th>adult_occupancy</th>\n",
       "      <th>child_occupancy</th>\n",
       "      <th>property_id</th>\n",
       "      <th>num_amenities</th>\n",
       "      <th>zones</th>\n",
       "      <th>...</th>\n",
       "      <th>acceptance_rate</th>\n",
       "      <th>response_label</th>\n",
       "      <th>Apartment</th>\n",
       "      <th>Homestay</th>\n",
       "      <th>Hotel</th>\n",
       "      <th>House</th>\n",
       "      <th>Lodge</th>\n",
       "      <th>Resort</th>\n",
       "      <th>Spa</th>\n",
       "      <th>Villa</th>\n",
       "    </tr>\n",
       "  </thead>\n",
       "  <tbody>\n",
       "    <tr>\n",
       "      <th>0</th>\n",
       "      <td>0</td>\n",
       "      <td>Sangsey Valley Resort is Located at the wonder...</td>\n",
       "      <td>Kalimpong</td>\n",
       "      <td>3.0</td>\n",
       "      <td>3167.0</td>\n",
       "      <td>3.0</td>\n",
       "      <td>2.0</td>\n",
       "      <td>67368.0</td>\n",
       "      <td>1.0</td>\n",
       "      <td>2.0</td>\n",
       "      <td>...</td>\n",
       "      <td>100.0</td>\n",
       "      <td>0.0</td>\n",
       "      <td>0.0</td>\n",
       "      <td>0.0</td>\n",
       "      <td>0.0</td>\n",
       "      <td>0.0</td>\n",
       "      <td>0.0</td>\n",
       "      <td>1.0</td>\n",
       "      <td>0.0</td>\n",
       "      <td>0.0</td>\n",
       "    </tr>\n",
       "    <tr>\n",
       "      <th>1</th>\n",
       "      <td>1</td>\n",
       "      <td>What should you know? Enjoy unmatched service ...</td>\n",
       "      <td>Kanpur</td>\n",
       "      <td>0.0</td>\n",
       "      <td>815.0</td>\n",
       "      <td>2.0</td>\n",
       "      <td>2.0</td>\n",
       "      <td>28733.0</td>\n",
       "      <td>2.0</td>\n",
       "      <td>0.0</td>\n",
       "      <td>...</td>\n",
       "      <td>100.0</td>\n",
       "      <td>0.0</td>\n",
       "      <td>0.0</td>\n",
       "      <td>0.0</td>\n",
       "      <td>1.0</td>\n",
       "      <td>0.0</td>\n",
       "      <td>0.0</td>\n",
       "      <td>0.0</td>\n",
       "      <td>0.0</td>\n",
       "      <td>0.0</td>\n",
       "    </tr>\n",
       "    <tr>\n",
       "      <th>2</th>\n",
       "      <td>2</td>\n",
       "      <td>What should you know? A budget hotel, this acc...</td>\n",
       "      <td>Jodhpur</td>\n",
       "      <td>18.0</td>\n",
       "      <td>1624.0</td>\n",
       "      <td>2.0</td>\n",
       "      <td>2.0</td>\n",
       "      <td>53742.0</td>\n",
       "      <td>4.0</td>\n",
       "      <td>3.0</td>\n",
       "      <td>...</td>\n",
       "      <td>100.0</td>\n",
       "      <td>0.0</td>\n",
       "      <td>0.0</td>\n",
       "      <td>0.0</td>\n",
       "      <td>1.0</td>\n",
       "      <td>0.0</td>\n",
       "      <td>0.0</td>\n",
       "      <td>0.0</td>\n",
       "      <td>0.0</td>\n",
       "      <td>0.0</td>\n",
       "    </tr>\n",
       "    <tr>\n",
       "      <th>3</th>\n",
       "      <td>3</td>\n",
       "      <td>What should you know? The Riverwood Forest Ret...</td>\n",
       "      <td>Jalpaiguri</td>\n",
       "      <td>9.0</td>\n",
       "      <td>3509.0</td>\n",
       "      <td>1.0</td>\n",
       "      <td>2.0</td>\n",
       "      <td>15468.0</td>\n",
       "      <td>7.0</td>\n",
       "      <td>2.0</td>\n",
       "      <td>...</td>\n",
       "      <td>100.0</td>\n",
       "      <td>0.0</td>\n",
       "      <td>0.0</td>\n",
       "      <td>0.0</td>\n",
       "      <td>1.0</td>\n",
       "      <td>0.0</td>\n",
       "      <td>0.0</td>\n",
       "      <td>0.0</td>\n",
       "      <td>0.0</td>\n",
       "      <td>0.0</td>\n",
       "    </tr>\n",
       "    <tr>\n",
       "      <th>4</th>\n",
       "      <td>4</td>\n",
       "      <td>What should you know? Located at a walking dis...</td>\n",
       "      <td>Kanpur</td>\n",
       "      <td>5.0</td>\n",
       "      <td>5802.0</td>\n",
       "      <td>2.0</td>\n",
       "      <td>2.0</td>\n",
       "      <td>47032.0</td>\n",
       "      <td>2.0</td>\n",
       "      <td>0.0</td>\n",
       "      <td>...</td>\n",
       "      <td>100.0</td>\n",
       "      <td>0.0</td>\n",
       "      <td>0.0</td>\n",
       "      <td>0.0</td>\n",
       "      <td>1.0</td>\n",
       "      <td>0.0</td>\n",
       "      <td>0.0</td>\n",
       "      <td>0.0</td>\n",
       "      <td>0.0</td>\n",
       "      <td>0.0</td>\n",
       "    </tr>\n",
       "  </tbody>\n",
       "</table>\n",
       "<p>5 rows × 27 columns</p>\n",
       "</div>"
      ],
      "text/plain": [
       "   Unnamed: 0                                        description        city  \\\n",
       "0           0  Sangsey Valley Resort is Located at the wonder...   Kalimpong   \n",
       "1           1  What should you know? Enjoy unmatched service ...      Kanpur   \n",
       "2           2  What should you know? A budget hotel, this acc...     Jodhpur   \n",
       "3           3  What should you know? The Riverwood Forest Ret...  Jalpaiguri   \n",
       "4           4  What should you know? Located at a walking dis...      Kanpur   \n",
       "\n",
       "   image_count  room_price  adult_occupancy  child_occupancy  property_id  \\\n",
       "0          3.0      3167.0              3.0              2.0      67368.0   \n",
       "1          0.0       815.0              2.0              2.0      28733.0   \n",
       "2         18.0      1624.0              2.0              2.0      53742.0   \n",
       "3          9.0      3509.0              1.0              2.0      15468.0   \n",
       "4          5.0      5802.0              2.0              2.0      47032.0   \n",
       "\n",
       "   num_amenities  zones  ...  acceptance_rate  response_label  Apartment  \\\n",
       "0            1.0    2.0  ...            100.0             0.0        0.0   \n",
       "1            2.0    0.0  ...            100.0             0.0        0.0   \n",
       "2            4.0    3.0  ...            100.0             0.0        0.0   \n",
       "3            7.0    2.0  ...            100.0             0.0        0.0   \n",
       "4            2.0    0.0  ...            100.0             0.0        0.0   \n",
       "\n",
       "   Homestay  Hotel  House  Lodge  Resort  Spa  Villa  \n",
       "0       0.0    0.0    0.0    0.0     1.0  0.0    0.0  \n",
       "1       0.0    1.0    0.0    0.0     0.0  0.0    0.0  \n",
       "2       0.0    1.0    0.0    0.0     0.0  0.0    0.0  \n",
       "3       0.0    1.0    0.0    0.0     0.0  0.0    0.0  \n",
       "4       0.0    1.0    0.0    0.0     0.0  0.0    0.0  \n",
       "\n",
       "[5 rows x 27 columns]"
      ]
     },
     "execution_count": 2,
     "metadata": {},
     "output_type": "execute_result"
    }
   ],
   "source": [
    "clean_data = pd.read_csv('stayzillaCleanFeatures.csv')\n",
    "clean_data.head()\n",
    "#clean_data.to_csv('stayzillaCleanFeatures.csv')"
   ]
  },
  {
   "cell_type": "code",
   "execution_count": 3,
   "metadata": {
    "scrolled": true
   },
   "outputs": [
    {
     "name": "stdout",
     "output_type": "stream",
     "text": [
      "<class 'pandas.core.frame.DataFrame'>\n",
      "RangeIndex: 1203 entries, 0 to 1202\n",
      "Data columns (total 27 columns):\n",
      " #   Column           Non-Null Count  Dtype  \n",
      "---  ------           --------------  -----  \n",
      " 0   Unnamed: 0       1203 non-null   int64  \n",
      " 1   description      919 non-null    object \n",
      " 2   city             1203 non-null   object \n",
      " 3   image_count      981 non-null    float64\n",
      " 4   room_price       1139 non-null   float64\n",
      " 5   adult_occupancy  1139 non-null   float64\n",
      " 6   child_occupancy  1139 non-null   float64\n",
      " 7   property_id      1139 non-null   float64\n",
      " 8   num_amenities    1139 non-null   float64\n",
      " 9   zones            1139 non-null   float64\n",
      " 10  descr_len        1139 non-null   float64\n",
      " 11  deluxe           1139 non-null   float64\n",
      " 12  num_simhotel     1139 non-null   float64\n",
      " 13  wifi             1139 non-null   float64\n",
      " 14  ac               1139 non-null   float64\n",
      " 15  breakfast        1139 non-null   float64\n",
      " 16  service_value    1139 non-null   float64\n",
      " 17  acceptance_rate  1139 non-null   float64\n",
      " 18  response_label   1139 non-null   float64\n",
      " 19  Apartment        1139 non-null   float64\n",
      " 20  Homestay         1139 non-null   float64\n",
      " 21  Hotel            1139 non-null   float64\n",
      " 22  House            1139 non-null   float64\n",
      " 23  Lodge            1139 non-null   float64\n",
      " 24  Resort           1139 non-null   float64\n",
      " 25  Spa              1139 non-null   float64\n",
      " 26  Villa            1139 non-null   float64\n",
      "dtypes: float64(24), int64(1), object(2)\n",
      "memory usage: 253.9+ KB\n"
     ]
    }
   ],
   "source": [
    "clean_data.info()"
   ]
  },
  {
   "cell_type": "code",
   "execution_count": 4,
   "metadata": {},
   "outputs": [],
   "source": [
    "# check missing values\n",
    "clean_data.isnull().sum()\n",
    "\n",
    "# remove missing values in target variable 'room_price'\n",
    "clean_data = clean_data.dropna(subset=['room_price'])\n",
    "\n",
    "# impute missing value in image_count as 0 \n",
    "clean_data.image_count = clean_data.image_count.fillna(0)"
   ]
  },
  {
   "cell_type": "code",
   "execution_count": 5,
   "metadata": {
    "scrolled": true
   },
   "outputs": [
    {
     "name": "stdout",
     "output_type": "stream",
     "text": [
      "missing value percentage: 0.19315188762071994\n"
     ]
    }
   ],
   "source": [
    "clean_data.isnull().sum()\n",
    "print('missing value percentage:', clean_data.description.isnull().sum()/clean_data.shape[0])"
   ]
  },
  {
   "cell_type": "markdown",
   "metadata": {},
   "source": [
    "* After imputation, the only missing values are texts in 'description' column. We will leave this for now as we would not feed this feature to the regression model. "
   ]
  },
  {
   "cell_type": "markdown",
   "metadata": {},
   "source": [
    "# Transh\n",
    "### Process text data \n",
    "* To take description text content into account, one possible feature would be the sentiment score for each description. It may be interesting to see if sentiment of a property description has effect on the price prediction "
   ]
  },
  {
   "cell_type": "code",
   "execution_count": 154,
   "metadata": {},
   "outputs": [
    {
     "data": {
      "text/plain": [
       "0.6619718309859155"
      ]
     },
     "execution_count": 154,
     "metadata": {},
     "output_type": "execute_result"
    }
   ],
   "source": [
    "test = clean_data.dropna()\n",
    "test.shape[0]/clean_data.shape[0]"
   ]
  },
  {
   "cell_type": "code",
   "execution_count": null,
   "metadata": {},
   "outputs": [],
   "source": [
    "textdata = clean_data[['description', 'property_id']] \n",
    "textdata['description'] = \n"
   ]
  },
  {
   "cell_type": "code",
   "execution_count": 155,
   "metadata": {
    "collapsed": true
   },
   "outputs": [
    {
     "data": {
      "text/html": [
       "<div>\n",
       "<style scoped>\n",
       "    .dataframe tbody tr th:only-of-type {\n",
       "        vertical-align: middle;\n",
       "    }\n",
       "\n",
       "    .dataframe tbody tr th {\n",
       "        vertical-align: top;\n",
       "    }\n",
       "\n",
       "    .dataframe thead th {\n",
       "        text-align: right;\n",
       "    }\n",
       "</style>\n",
       "<table border=\"1\" class=\"dataframe\">\n",
       "  <thead>\n",
       "    <tr style=\"text-align: right;\">\n",
       "      <th></th>\n",
       "      <th>description</th>\n",
       "      <th>property_id</th>\n",
       "    </tr>\n",
       "  </thead>\n",
       "  <tbody>\n",
       "    <tr>\n",
       "      <th>0</th>\n",
       "      <td>Sangsey Valley Resort is Located at the wonderful location of upper delo icchey dara gaon .Delo Hill is an extended nature park with very well mai...</td>\n",
       "      <td>67368.0</td>\n",
       "    </tr>\n",
       "    <tr>\n",
       "      <th>1</th>\n",
       "      <td>What should you know? Enjoy unmatched service at affordable prices at Amantran Hotel. Laundry, doctor-on-call, car parking, and a travel desk for ...</td>\n",
       "      <td>28733.0</td>\n",
       "    </tr>\n",
       "    <tr>\n",
       "      <th>2</th>\n",
       "      <td>What should you know? A budget hotel, this accommodation facility is located in the heart of Jodhpur City and is easily accessible from all major ...</td>\n",
       "      <td>53742.0</td>\n",
       "    </tr>\n",
       "    <tr>\n",
       "      <th>3</th>\n",
       "      <td>What should you know? The Riverwood Forest Retreats is part of the Dooars in North Bengal and set amidst the mountains of the foothills of the Him...</td>\n",
       "      <td>15468.0</td>\n",
       "    </tr>\n",
       "    <tr>\n",
       "      <th>4</th>\n",
       "      <td>What should you know? Located at a walking distance from the South X Mall, Hotel Vijay Inter Continental provides a wide range of services to its ...</td>\n",
       "      <td>47032.0</td>\n",
       "    </tr>\n",
       "    <tr>\n",
       "      <th>...</th>\n",
       "      <td>...</td>\n",
       "      <td>...</td>\n",
       "    </tr>\n",
       "    <tr>\n",
       "      <th>1134</th>\n",
       "      <td>What should you know? Hotel Sky High is part of a budget group of hotels that offer stylish interiors and modern facilities. Amenities include spa...</td>\n",
       "      <td>31659.0</td>\n",
       "    </tr>\n",
       "    <tr>\n",
       "      <th>1135</th>\n",
       "      <td>What should you know? Saubhagya Inn is situated on Station Road. This 3 star hotel provides facilities like 24-hour front desk, travel counter, ba...</td>\n",
       "      <td>25517.0</td>\n",
       "    </tr>\n",
       "    <tr>\n",
       "      <th>1136</th>\n",
       "      <td>What should you know? Located at a walkable distance from the Manak Nagar Railway station, Hotel Mohan has a total of 68 AC rooms that are categor...</td>\n",
       "      <td>789.0</td>\n",
       "    </tr>\n",
       "    <tr>\n",
       "      <th>1137</th>\n",
       "      <td>What should you know? Situated 13 km away from the Chaudhary Charan Singh International Airport, Hotel Manglam offers rooms at reasonable rates. G...</td>\n",
       "      <td>13628.0</td>\n",
       "    </tr>\n",
       "    <tr>\n",
       "      <th>1138</th>\n",
       "      <td>What should you know? Hotel Anant attempts to give you a perfect getaway from the busy world. This lodge boasts of 31 AC and non-AC rooms that com...</td>\n",
       "      <td>31401.0</td>\n",
       "    </tr>\n",
       "  </tbody>\n",
       "</table>\n",
       "<p>919 rows × 2 columns</p>\n",
       "</div>"
      ],
      "text/plain": [
       "                                                                                                                                                description  \\\n",
       "0     Sangsey Valley Resort is Located at the wonderful location of upper delo icchey dara gaon .Delo Hill is an extended nature park with very well mai...   \n",
       "1     What should you know? Enjoy unmatched service at affordable prices at Amantran Hotel. Laundry, doctor-on-call, car parking, and a travel desk for ...   \n",
       "2     What should you know? A budget hotel, this accommodation facility is located in the heart of Jodhpur City and is easily accessible from all major ...   \n",
       "3     What should you know? The Riverwood Forest Retreats is part of the Dooars in North Bengal and set amidst the mountains of the foothills of the Him...   \n",
       "4     What should you know? Located at a walking distance from the South X Mall, Hotel Vijay Inter Continental provides a wide range of services to its ...   \n",
       "...                                                                                                                                                     ...   \n",
       "1134  What should you know? Hotel Sky High is part of a budget group of hotels that offer stylish interiors and modern facilities. Amenities include spa...   \n",
       "1135  What should you know? Saubhagya Inn is situated on Station Road. This 3 star hotel provides facilities like 24-hour front desk, travel counter, ba...   \n",
       "1136  What should you know? Located at a walkable distance from the Manak Nagar Railway station, Hotel Mohan has a total of 68 AC rooms that are categor...   \n",
       "1137  What should you know? Situated 13 km away from the Chaudhary Charan Singh International Airport, Hotel Manglam offers rooms at reasonable rates. G...   \n",
       "1138  What should you know? Hotel Anant attempts to give you a perfect getaway from the busy world. This lodge boasts of 31 AC and non-AC rooms that com...   \n",
       "\n",
       "      property_id  \n",
       "0         67368.0  \n",
       "1         28733.0  \n",
       "2         53742.0  \n",
       "3         15468.0  \n",
       "4         47032.0  \n",
       "...           ...  \n",
       "1134      31659.0  \n",
       "1135      25517.0  \n",
       "1136        789.0  \n",
       "1137      13628.0  \n",
       "1138      31401.0  \n",
       "\n",
       "[919 rows x 2 columns]"
      ]
     },
     "execution_count": 155,
     "metadata": {},
     "output_type": "execute_result"
    }
   ],
   "source": [
    "pd.set_option('max_colwidth',150)\n",
    "import re, string\n",
    "\n",
    "textdata = clean_data[['description', 'property_id']].dropna()\n",
    "\n",
    "def clean_text(text):\n",
    "    '''Make text lowercase, remove text in square brackets, remove punctuation and remove words containing numbers.'''\n",
    "    text = text.lower() # make all text to lowercase\n",
    "    text = re.sub('\\[.*?\\]', '', text) # getting rid of data in brackets.  \n",
    "    text = re.sub('[%s]' % re.escape(string.punctuation), '', text) #get rid of punctuation marks\n",
    "    text = re.sub('\\w*\\d\\w*', '', text) #\\d all digits, \\w alphanumeric. Get rid of words containing numbers\n",
    "    text = re.sub('[‘’“”…]', '', text)\n",
    "    text = re.sub('\\n', '', text)\n",
    "    return text\n",
    "\n",
    "text_clean = pd.DataFrame(textdata.description.apply(lambda x: clean_text(x)))\n"
   ]
  },
  {
   "cell_type": "code",
   "execution_count": 364,
   "metadata": {},
   "outputs": [
    {
     "data": {
      "text/plain": [
       "0.0"
      ]
     },
     "execution_count": 364,
     "metadata": {},
     "output_type": "execute_result"
    }
   ],
   "source": [
    "t=''\n",
    "TextBlob(t).subjectivity"
   ]
  },
  {
   "cell_type": "code",
   "execution_count": 166,
   "metadata": {
    "collapsed": true
   },
   "outputs": [
    {
     "data": {
      "text/html": [
       "<div>\n",
       "<style scoped>\n",
       "    .dataframe tbody tr th:only-of-type {\n",
       "        vertical-align: middle;\n",
       "    }\n",
       "\n",
       "    .dataframe tbody tr th {\n",
       "        vertical-align: top;\n",
       "    }\n",
       "\n",
       "    .dataframe thead th {\n",
       "        text-align: right;\n",
       "    }\n",
       "</style>\n",
       "<table border=\"1\" class=\"dataframe\">\n",
       "  <thead>\n",
       "    <tr style=\"text-align: right;\">\n",
       "      <th></th>\n",
       "      <th>description</th>\n",
       "      <th>property_id</th>\n",
       "      <th>desc_polarity</th>\n",
       "      <th>desc_subjectivity</th>\n",
       "    </tr>\n",
       "  </thead>\n",
       "  <tbody>\n",
       "    <tr>\n",
       "      <th>0</th>\n",
       "      <td>Sangsey Valley Resort is Located at the wonderful location of upper delo icchey dara gaon .Delo Hill is an extended nature park with very well mai...</td>\n",
       "      <td>67368.0</td>\n",
       "      <td>0.377778</td>\n",
       "      <td>0.633333</td>\n",
       "    </tr>\n",
       "    <tr>\n",
       "      <th>1</th>\n",
       "      <td>What should you know? Enjoy unmatched service at affordable prices at Amantran Hotel. Laundry, doctor-on-call, car parking, and a travel desk for ...</td>\n",
       "      <td>28733.0</td>\n",
       "      <td>0.240000</td>\n",
       "      <td>0.580000</td>\n",
       "    </tr>\n",
       "    <tr>\n",
       "      <th>2</th>\n",
       "      <td>What should you know? A budget hotel, this accommodation facility is located in the heart of Jodhpur City and is easily accessible from all major ...</td>\n",
       "      <td>53742.0</td>\n",
       "      <td>0.221845</td>\n",
       "      <td>0.370714</td>\n",
       "    </tr>\n",
       "    <tr>\n",
       "      <th>3</th>\n",
       "      <td>What should you know? The Riverwood Forest Retreats is part of the Dooars in North Bengal and set amidst the mountains of the foothills of the Him...</td>\n",
       "      <td>15468.0</td>\n",
       "      <td>0.366667</td>\n",
       "      <td>0.388889</td>\n",
       "    </tr>\n",
       "    <tr>\n",
       "      <th>4</th>\n",
       "      <td>What should you know? Located at a walking distance from the South X Mall, Hotel Vijay Inter Continental provides a wide range of services to its ...</td>\n",
       "      <td>47032.0</td>\n",
       "      <td>0.083333</td>\n",
       "      <td>0.508333</td>\n",
       "    </tr>\n",
       "    <tr>\n",
       "      <th>...</th>\n",
       "      <td>...</td>\n",
       "      <td>...</td>\n",
       "      <td>...</td>\n",
       "      <td>...</td>\n",
       "    </tr>\n",
       "    <tr>\n",
       "      <th>1134</th>\n",
       "      <td>What should you know? Hotel Sky High is part of a budget group of hotels that offer stylish interiors and modern facilities. Amenities include spa...</td>\n",
       "      <td>31659.0</td>\n",
       "      <td>0.187965</td>\n",
       "      <td>0.447749</td>\n",
       "    </tr>\n",
       "    <tr>\n",
       "      <th>1135</th>\n",
       "      <td>What should you know? Saubhagya Inn is situated on Station Road. This 3 star hotel provides facilities like 24-hour front desk, travel counter, ba...</td>\n",
       "      <td>25517.0</td>\n",
       "      <td>0.190625</td>\n",
       "      <td>0.621875</td>\n",
       "    </tr>\n",
       "    <tr>\n",
       "      <th>1136</th>\n",
       "      <td>What should you know? Located at a walkable distance from the Manak Nagar Railway station, Hotel Mohan has a total of 68 AC rooms that are categor...</td>\n",
       "      <td>789.0</td>\n",
       "      <td>0.065278</td>\n",
       "      <td>0.497222</td>\n",
       "    </tr>\n",
       "    <tr>\n",
       "      <th>1137</th>\n",
       "      <td>What should you know? Situated 13 km away from the Chaudhary Charan Singh International Airport, Hotel Manglam offers rooms at reasonable rates. G...</td>\n",
       "      <td>13628.0</td>\n",
       "      <td>0.175000</td>\n",
       "      <td>0.262500</td>\n",
       "    </tr>\n",
       "    <tr>\n",
       "      <th>1138</th>\n",
       "      <td>What should you know? Hotel Anant attempts to give you a perfect getaway from the busy world. This lodge boasts of 31 AC and non-AC rooms that com...</td>\n",
       "      <td>31401.0</td>\n",
       "      <td>0.407143</td>\n",
       "      <td>0.592857</td>\n",
       "    </tr>\n",
       "  </tbody>\n",
       "</table>\n",
       "<p>919 rows × 4 columns</p>\n",
       "</div>"
      ],
      "text/plain": [
       "                                                                                                                                                description  \\\n",
       "0     Sangsey Valley Resort is Located at the wonderful location of upper delo icchey dara gaon .Delo Hill is an extended nature park with very well mai...   \n",
       "1     What should you know? Enjoy unmatched service at affordable prices at Amantran Hotel. Laundry, doctor-on-call, car parking, and a travel desk for ...   \n",
       "2     What should you know? A budget hotel, this accommodation facility is located in the heart of Jodhpur City and is easily accessible from all major ...   \n",
       "3     What should you know? The Riverwood Forest Retreats is part of the Dooars in North Bengal and set amidst the mountains of the foothills of the Him...   \n",
       "4     What should you know? Located at a walking distance from the South X Mall, Hotel Vijay Inter Continental provides a wide range of services to its ...   \n",
       "...                                                                                                                                                     ...   \n",
       "1134  What should you know? Hotel Sky High is part of a budget group of hotels that offer stylish interiors and modern facilities. Amenities include spa...   \n",
       "1135  What should you know? Saubhagya Inn is situated on Station Road. This 3 star hotel provides facilities like 24-hour front desk, travel counter, ba...   \n",
       "1136  What should you know? Located at a walkable distance from the Manak Nagar Railway station, Hotel Mohan has a total of 68 AC rooms that are categor...   \n",
       "1137  What should you know? Situated 13 km away from the Chaudhary Charan Singh International Airport, Hotel Manglam offers rooms at reasonable rates. G...   \n",
       "1138  What should you know? Hotel Anant attempts to give you a perfect getaway from the busy world. This lodge boasts of 31 AC and non-AC rooms that com...   \n",
       "\n",
       "      property_id  desc_polarity  desc_subjectivity  \n",
       "0         67368.0       0.377778           0.633333  \n",
       "1         28733.0       0.240000           0.580000  \n",
       "2         53742.0       0.221845           0.370714  \n",
       "3         15468.0       0.366667           0.388889  \n",
       "4         47032.0       0.083333           0.508333  \n",
       "...           ...            ...                ...  \n",
       "1134      31659.0       0.187965           0.447749  \n",
       "1135      25517.0       0.190625           0.621875  \n",
       "1136        789.0       0.065278           0.497222  \n",
       "1137      13628.0       0.175000           0.262500  \n",
       "1138      31401.0       0.407143           0.592857  \n",
       "\n",
       "[919 rows x 4 columns]"
      ]
     },
     "execution_count": 166,
     "metadata": {},
     "output_type": "execute_result"
    }
   ],
   "source": [
    "# get polarity score and subjectivity score using TextBlob\n",
    "from textblob import TextBlob \n",
    "\n",
    "textdata['desc_polarity'] = text_clean.description.apply(lambda x: TextBlob(x).polarity)\n",
    "textdata['desc_subjectivity'] = text_clean.description.apply(lambda x: TextBlob(x).subjectivity)\n",
    "\n",
    "# attach the scores to original cleaned data set "
   ]
  }
 ],
 "metadata": {
  "kernelspec": {
   "display_name": "Python 3",
   "language": "python",
   "name": "python3"
  },
  "language_info": {
   "codemirror_mode": {
    "name": "ipython",
    "version": 3
   },
   "file_extension": ".py",
   "mimetype": "text/x-python",
   "name": "python",
   "nbconvert_exporter": "python",
   "pygments_lexer": "ipython3",
   "version": "3.7.4"
  }
 },
 "nbformat": 4,
 "nbformat_minor": 4
}
