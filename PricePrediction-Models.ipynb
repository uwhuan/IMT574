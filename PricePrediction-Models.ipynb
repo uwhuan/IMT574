{
 "cells": [
  {
   "cell_type": "code",
   "execution_count": 100,
   "metadata": {},
   "outputs": [],
   "source": [
    "import pandas as pd \n",
    "import matplotlib.pyplot as plt\n",
    "from sklearn.cluster import KMeans\n",
    "from sklearn.preprocessing import StandardScaler\n",
    "import seaborn as sns\n",
    "from sklearn.model_selection import train_test_split\n",
    "from sklearn import preprocessing\n",
    "import statsmodels.api as sm\n",
    "import keras\n",
    "from keras.models import Sequential\n",
    "from keras.layers import Dense\n",
    "import numpy as np\n",
    "from sklearn.metrics import accuracy_score,confusion_matrix,classification_report\n",
    "from keras.wrappers.scikit_learn import KerasClassifier\n",
    "from sklearn.model_selection import cross_val_score\n",
    "from sklearn.model_selection import KFold\n"
   ]
  },
  {
   "cell_type": "markdown",
   "metadata": {},
   "source": [
    "# Problem: Stayzilla Listing Room Price Prediction"
   ]
  },
  {
   "cell_type": "markdown",
   "metadata": {},
   "source": [
    "# 1. Visual EDA"
   ]
  },
  {
   "cell_type": "code",
   "execution_count": 13,
   "metadata": {},
   "outputs": [],
   "source": [
    "# price_data = clean_data\n",
    "# price_data.to_csv('priceData.csv')\n",
    "price_data = pd.read_csv(\"priceData.csv\")\n",
    "price_data = price_data.iloc[:,2:].drop(columns=['property_id'])"
   ]
  },
  {
   "cell_type": "code",
   "execution_count": 101,
   "metadata": {},
   "outputs": [
    {
     "data": {
      "text/html": [
       "<div>\n",
       "<style scoped>\n",
       "    .dataframe tbody tr th:only-of-type {\n",
       "        vertical-align: middle;\n",
       "    }\n",
       "\n",
       "    .dataframe tbody tr th {\n",
       "        vertical-align: top;\n",
       "    }\n",
       "\n",
       "    .dataframe thead th {\n",
       "        text-align: right;\n",
       "    }\n",
       "</style>\n",
       "<table border=\"1\" class=\"dataframe\">\n",
       "  <thead>\n",
       "    <tr style=\"text-align: right;\">\n",
       "      <th></th>\n",
       "      <th>room_price</th>\n",
       "      <th>image_count</th>\n",
       "      <th>adult_occupancy</th>\n",
       "      <th>child_occupancy</th>\n",
       "      <th>num_amenities</th>\n",
       "      <th>zones</th>\n",
       "      <th>descr_len</th>\n",
       "      <th>deluxe</th>\n",
       "      <th>num_simhotel</th>\n",
       "      <th>wifi</th>\n",
       "      <th>...</th>\n",
       "      <th>acceptance_rate</th>\n",
       "      <th>response_label</th>\n",
       "      <th>Apartment</th>\n",
       "      <th>Homestay</th>\n",
       "      <th>Hotel</th>\n",
       "      <th>House</th>\n",
       "      <th>Lodge</th>\n",
       "      <th>Resort</th>\n",
       "      <th>Spa</th>\n",
       "      <th>Villa</th>\n",
       "    </tr>\n",
       "  </thead>\n",
       "  <tbody>\n",
       "    <tr>\n",
       "      <th>0</th>\n",
       "      <td>3167.0</td>\n",
       "      <td>3.0</td>\n",
       "      <td>3.0</td>\n",
       "      <td>2.0</td>\n",
       "      <td>1.0</td>\n",
       "      <td>2.0</td>\n",
       "      <td>125.0</td>\n",
       "      <td>0.0</td>\n",
       "      <td>0.0</td>\n",
       "      <td>0.0</td>\n",
       "      <td>...</td>\n",
       "      <td>100.0</td>\n",
       "      <td>0.0</td>\n",
       "      <td>0.0</td>\n",
       "      <td>0.0</td>\n",
       "      <td>0.0</td>\n",
       "      <td>0.0</td>\n",
       "      <td>0.0</td>\n",
       "      <td>1.0</td>\n",
       "      <td>0.0</td>\n",
       "      <td>0.0</td>\n",
       "    </tr>\n",
       "    <tr>\n",
       "      <th>1</th>\n",
       "      <td>815.0</td>\n",
       "      <td>0.0</td>\n",
       "      <td>2.0</td>\n",
       "      <td>2.0</td>\n",
       "      <td>2.0</td>\n",
       "      <td>0.0</td>\n",
       "      <td>103.0</td>\n",
       "      <td>0.0</td>\n",
       "      <td>6.0</td>\n",
       "      <td>0.0</td>\n",
       "      <td>...</td>\n",
       "      <td>100.0</td>\n",
       "      <td>0.0</td>\n",
       "      <td>0.0</td>\n",
       "      <td>0.0</td>\n",
       "      <td>1.0</td>\n",
       "      <td>0.0</td>\n",
       "      <td>0.0</td>\n",
       "      <td>0.0</td>\n",
       "      <td>0.0</td>\n",
       "      <td>0.0</td>\n",
       "    </tr>\n",
       "    <tr>\n",
       "      <th>2</th>\n",
       "      <td>1624.0</td>\n",
       "      <td>18.0</td>\n",
       "      <td>2.0</td>\n",
       "      <td>2.0</td>\n",
       "      <td>4.0</td>\n",
       "      <td>3.0</td>\n",
       "      <td>106.0</td>\n",
       "      <td>1.0</td>\n",
       "      <td>14.0</td>\n",
       "      <td>0.0</td>\n",
       "      <td>...</td>\n",
       "      <td>100.0</td>\n",
       "      <td>0.0</td>\n",
       "      <td>0.0</td>\n",
       "      <td>0.0</td>\n",
       "      <td>1.0</td>\n",
       "      <td>0.0</td>\n",
       "      <td>0.0</td>\n",
       "      <td>0.0</td>\n",
       "      <td>0.0</td>\n",
       "      <td>0.0</td>\n",
       "    </tr>\n",
       "    <tr>\n",
       "      <th>3</th>\n",
       "      <td>3509.0</td>\n",
       "      <td>9.0</td>\n",
       "      <td>1.0</td>\n",
       "      <td>2.0</td>\n",
       "      <td>7.0</td>\n",
       "      <td>2.0</td>\n",
       "      <td>126.0</td>\n",
       "      <td>0.0</td>\n",
       "      <td>0.0</td>\n",
       "      <td>1.0</td>\n",
       "      <td>...</td>\n",
       "      <td>100.0</td>\n",
       "      <td>0.0</td>\n",
       "      <td>0.0</td>\n",
       "      <td>0.0</td>\n",
       "      <td>1.0</td>\n",
       "      <td>0.0</td>\n",
       "      <td>0.0</td>\n",
       "      <td>0.0</td>\n",
       "      <td>0.0</td>\n",
       "      <td>0.0</td>\n",
       "    </tr>\n",
       "    <tr>\n",
       "      <th>4</th>\n",
       "      <td>5802.0</td>\n",
       "      <td>5.0</td>\n",
       "      <td>2.0</td>\n",
       "      <td>2.0</td>\n",
       "      <td>2.0</td>\n",
       "      <td>0.0</td>\n",
       "      <td>126.0</td>\n",
       "      <td>1.0</td>\n",
       "      <td>3.0</td>\n",
       "      <td>0.0</td>\n",
       "      <td>...</td>\n",
       "      <td>100.0</td>\n",
       "      <td>0.0</td>\n",
       "      <td>0.0</td>\n",
       "      <td>0.0</td>\n",
       "      <td>1.0</td>\n",
       "      <td>0.0</td>\n",
       "      <td>0.0</td>\n",
       "      <td>0.0</td>\n",
       "      <td>0.0</td>\n",
       "      <td>0.0</td>\n",
       "    </tr>\n",
       "    <tr>\n",
       "      <th>...</th>\n",
       "      <td>...</td>\n",
       "      <td>...</td>\n",
       "      <td>...</td>\n",
       "      <td>...</td>\n",
       "      <td>...</td>\n",
       "      <td>...</td>\n",
       "      <td>...</td>\n",
       "      <td>...</td>\n",
       "      <td>...</td>\n",
       "      <td>...</td>\n",
       "      <td>...</td>\n",
       "      <td>...</td>\n",
       "      <td>...</td>\n",
       "      <td>...</td>\n",
       "      <td>...</td>\n",
       "      <td>...</td>\n",
       "      <td>...</td>\n",
       "      <td>...</td>\n",
       "      <td>...</td>\n",
       "      <td>...</td>\n",
       "      <td>...</td>\n",
       "    </tr>\n",
       "    <tr>\n",
       "      <th>1134</th>\n",
       "      <td>1736.0</td>\n",
       "      <td>5.0</td>\n",
       "      <td>1.0</td>\n",
       "      <td>2.0</td>\n",
       "      <td>4.0</td>\n",
       "      <td>0.0</td>\n",
       "      <td>98.0</td>\n",
       "      <td>0.0</td>\n",
       "      <td>10.0</td>\n",
       "      <td>1.0</td>\n",
       "      <td>...</td>\n",
       "      <td>100.0</td>\n",
       "      <td>0.0</td>\n",
       "      <td>0.0</td>\n",
       "      <td>0.0</td>\n",
       "      <td>1.0</td>\n",
       "      <td>0.0</td>\n",
       "      <td>0.0</td>\n",
       "      <td>0.0</td>\n",
       "      <td>0.0</td>\n",
       "      <td>0.0</td>\n",
       "    </tr>\n",
       "    <tr>\n",
       "      <th>1135</th>\n",
       "      <td>2595.0</td>\n",
       "      <td>15.0</td>\n",
       "      <td>1.0</td>\n",
       "      <td>2.0</td>\n",
       "      <td>1.0</td>\n",
       "      <td>0.0</td>\n",
       "      <td>147.0</td>\n",
       "      <td>0.0</td>\n",
       "      <td>14.0</td>\n",
       "      <td>1.0</td>\n",
       "      <td>...</td>\n",
       "      <td>100.0</td>\n",
       "      <td>0.0</td>\n",
       "      <td>0.0</td>\n",
       "      <td>0.0</td>\n",
       "      <td>1.0</td>\n",
       "      <td>0.0</td>\n",
       "      <td>0.0</td>\n",
       "      <td>0.0</td>\n",
       "      <td>0.0</td>\n",
       "      <td>0.0</td>\n",
       "    </tr>\n",
       "    <tr>\n",
       "      <th>1136</th>\n",
       "      <td>2267.0</td>\n",
       "      <td>13.0</td>\n",
       "      <td>1.0</td>\n",
       "      <td>2.0</td>\n",
       "      <td>1.0</td>\n",
       "      <td>0.0</td>\n",
       "      <td>119.0</td>\n",
       "      <td>1.0</td>\n",
       "      <td>12.0</td>\n",
       "      <td>0.0</td>\n",
       "      <td>...</td>\n",
       "      <td>100.0</td>\n",
       "      <td>0.0</td>\n",
       "      <td>0.0</td>\n",
       "      <td>0.0</td>\n",
       "      <td>1.0</td>\n",
       "      <td>0.0</td>\n",
       "      <td>0.0</td>\n",
       "      <td>0.0</td>\n",
       "      <td>0.0</td>\n",
       "      <td>0.0</td>\n",
       "    </tr>\n",
       "    <tr>\n",
       "      <th>1137</th>\n",
       "      <td>2446.0</td>\n",
       "      <td>16.0</td>\n",
       "      <td>1.0</td>\n",
       "      <td>2.0</td>\n",
       "      <td>1.0</td>\n",
       "      <td>0.0</td>\n",
       "      <td>98.0</td>\n",
       "      <td>0.0</td>\n",
       "      <td>3.0</td>\n",
       "      <td>0.0</td>\n",
       "      <td>...</td>\n",
       "      <td>100.0</td>\n",
       "      <td>0.0</td>\n",
       "      <td>0.0</td>\n",
       "      <td>0.0</td>\n",
       "      <td>1.0</td>\n",
       "      <td>0.0</td>\n",
       "      <td>0.0</td>\n",
       "      <td>0.0</td>\n",
       "      <td>0.0</td>\n",
       "      <td>0.0</td>\n",
       "    </tr>\n",
       "    <tr>\n",
       "      <th>1138</th>\n",
       "      <td>463.0</td>\n",
       "      <td>10.0</td>\n",
       "      <td>1.0</td>\n",
       "      <td>2.0</td>\n",
       "      <td>2.0</td>\n",
       "      <td>0.0</td>\n",
       "      <td>130.0</td>\n",
       "      <td>0.0</td>\n",
       "      <td>10.0</td>\n",
       "      <td>0.0</td>\n",
       "      <td>...</td>\n",
       "      <td>100.0</td>\n",
       "      <td>0.0</td>\n",
       "      <td>0.0</td>\n",
       "      <td>0.0</td>\n",
       "      <td>1.0</td>\n",
       "      <td>0.0</td>\n",
       "      <td>0.0</td>\n",
       "      <td>0.0</td>\n",
       "      <td>0.0</td>\n",
       "      <td>0.0</td>\n",
       "    </tr>\n",
       "  </tbody>\n",
       "</table>\n",
       "<p>1139 rows × 23 columns</p>\n",
       "</div>"
      ],
      "text/plain": [
       "      room_price  image_count  adult_occupancy  child_occupancy  \\\n",
       "0         3167.0          3.0              3.0              2.0   \n",
       "1          815.0          0.0              2.0              2.0   \n",
       "2         1624.0         18.0              2.0              2.0   \n",
       "3         3509.0          9.0              1.0              2.0   \n",
       "4         5802.0          5.0              2.0              2.0   \n",
       "...          ...          ...              ...              ...   \n",
       "1134      1736.0          5.0              1.0              2.0   \n",
       "1135      2595.0         15.0              1.0              2.0   \n",
       "1136      2267.0         13.0              1.0              2.0   \n",
       "1137      2446.0         16.0              1.0              2.0   \n",
       "1138       463.0         10.0              1.0              2.0   \n",
       "\n",
       "      num_amenities  zones  descr_len  deluxe  num_simhotel  wifi  ...  \\\n",
       "0               1.0    2.0      125.0     0.0           0.0   0.0  ...   \n",
       "1               2.0    0.0      103.0     0.0           6.0   0.0  ...   \n",
       "2               4.0    3.0      106.0     1.0          14.0   0.0  ...   \n",
       "3               7.0    2.0      126.0     0.0           0.0   1.0  ...   \n",
       "4               2.0    0.0      126.0     1.0           3.0   0.0  ...   \n",
       "...             ...    ...        ...     ...           ...   ...  ...   \n",
       "1134            4.0    0.0       98.0     0.0          10.0   1.0  ...   \n",
       "1135            1.0    0.0      147.0     0.0          14.0   1.0  ...   \n",
       "1136            1.0    0.0      119.0     1.0          12.0   0.0  ...   \n",
       "1137            1.0    0.0       98.0     0.0           3.0   0.0  ...   \n",
       "1138            2.0    0.0      130.0     0.0          10.0   0.0  ...   \n",
       "\n",
       "      acceptance_rate  response_label  Apartment  Homestay  Hotel  House  \\\n",
       "0               100.0             0.0        0.0       0.0    0.0    0.0   \n",
       "1               100.0             0.0        0.0       0.0    1.0    0.0   \n",
       "2               100.0             0.0        0.0       0.0    1.0    0.0   \n",
       "3               100.0             0.0        0.0       0.0    1.0    0.0   \n",
       "4               100.0             0.0        0.0       0.0    1.0    0.0   \n",
       "...               ...             ...        ...       ...    ...    ...   \n",
       "1134            100.0             0.0        0.0       0.0    1.0    0.0   \n",
       "1135            100.0             0.0        0.0       0.0    1.0    0.0   \n",
       "1136            100.0             0.0        0.0       0.0    1.0    0.0   \n",
       "1137            100.0             0.0        0.0       0.0    1.0    0.0   \n",
       "1138            100.0             0.0        0.0       0.0    1.0    0.0   \n",
       "\n",
       "      Lodge  Resort  Spa  Villa  \n",
       "0       0.0     1.0  0.0    0.0  \n",
       "1       0.0     0.0  0.0    0.0  \n",
       "2       0.0     0.0  0.0    0.0  \n",
       "3       0.0     0.0  0.0    0.0  \n",
       "4       0.0     0.0  0.0    0.0  \n",
       "...     ...     ...  ...    ...  \n",
       "1134    0.0     0.0  0.0    0.0  \n",
       "1135    0.0     0.0  0.0    0.0  \n",
       "1136    0.0     0.0  0.0    0.0  \n",
       "1137    0.0     0.0  0.0    0.0  \n",
       "1138    0.0     0.0  0.0    0.0  \n",
       "\n",
       "[1139 rows x 23 columns]"
      ]
     },
     "execution_count": 101,
     "metadata": {},
     "output_type": "execute_result"
    }
   ],
   "source": [
    "price_data"
   ]
  },
  {
   "cell_type": "code",
   "execution_count": 7,
   "metadata": {},
   "outputs": [
    {
     "data": {
      "text/plain": [
       "(4532.537313432836, -159.46268656716438)"
      ]
     },
     "execution_count": 7,
     "metadata": {},
     "output_type": "execute_result"
    }
   ],
   "source": [
    "from scipy.stats import iqr\n",
    "1.5*iqr(price_data.room_price) + price_data.room_price.mean(),  price_data.room_price.mean() - 1.5*iqr(price_data.room_price) "
   ]
  },
  {
   "cell_type": "code",
   "execution_count": 102,
   "metadata": {},
   "outputs": [
    {
     "data": {
      "text/plain": [
       "<matplotlib.axes._subplots.AxesSubplot at 0x7fae1ba14b90>"
      ]
     },
     "execution_count": 102,
     "metadata": {},
     "output_type": "execute_result"
    },
    {
     "data": {
      "image/png": "[encoded data removed]",
      "text/plain": [
       "<Figure size 720x432 with 1 Axes>"
      ]
     },
     "metadata": {
      "needs_background": "light"
     },
     "output_type": "display_data"
    }
   ],
   "source": [
    "# check the room price outliner \n",
    "sns.boxplot(x=\"zones\", y=\"room_price\", data=price_data)"
   ]
  },
  {
   "cell_type": "code",
   "execution_count": 103,
   "metadata": {},
   "outputs": [
    {
     "data": {
      "text/plain": [
       "<matplotlib.axes._subplots.AxesSubplot at 0x7fae199c5910>"
      ]
     },
     "execution_count": 103,
     "metadata": {},
     "output_type": "execute_result"
    },
    {
     "data": {
      "image/png": "[encoded data removed]",
      "text/plain": [
       "<Figure size 720x432 with 1 Axes>"
      ]
     },
     "metadata": {
      "needs_background": "light"
     },
     "output_type": "display_data"
    }
   ],
   "source": [
    "# remove price higher than $20000 or less than $10\n",
    "# clean_data = clean_data[(clean_data.room_price < 20000) & (clean_data.room_price > 10)]\n",
    "# further remove outlier: price higher than $4000 or less than $10\n",
    "# train_data = price_data[(price_data.room_price < 4536) & (price_data.room_price > 0)]\n",
    "train_data = price_data[(price_data.room_price < 4536) & (price_data.room_price > 0)]\n",
    "\n",
    "sns.boxplot(x=\"zones\", y=\"room_price\", data=train_data)"
   ]
  },
  {
   "cell_type": "code",
   "execution_count": 104,
   "metadata": {
    "scrolled": true
   },
   "outputs": [
    {
     "data": {
      "text/plain": [
       "array([[<matplotlib.axes._subplots.AxesSubplot object at 0x7fae01643110>,\n",
       "        <matplotlib.axes._subplots.AxesSubplot object at 0x7fae01759410>,\n",
       "        <matplotlib.axes._subplots.AxesSubplot object at 0x7fae0178ca50>,\n",
       "        <matplotlib.axes._subplots.AxesSubplot object at 0x7fae017c0fd0>,\n",
       "        <matplotlib.axes._subplots.AxesSubplot object at 0x7fae017fe690>],\n",
       "       [<matplotlib.axes._subplots.AxesSubplot object at 0x7fae0182ed10>,\n",
       "        <matplotlib.axes._subplots.AxesSubplot object at 0x7fae01870450>,\n",
       "        <matplotlib.axes._subplots.AxesSubplot object at 0x7fae018a7a10>,\n",
       "        <matplotlib.axes._subplots.AxesSubplot object at 0x7fae018a7a50>,\n",
       "        <matplotlib.axes._subplots.AxesSubplot object at 0x7fae018e8210>],\n",
       "       [<matplotlib.axes._subplots.AxesSubplot object at 0x7fae01948b90>,\n",
       "        <matplotlib.axes._subplots.AxesSubplot object at 0x7fae01992610>,\n",
       "        <matplotlib.axes._subplots.AxesSubplot object at 0x7fae019c7b90>,\n",
       "        <matplotlib.axes._subplots.AxesSubplot object at 0x7fae01a0b150>,\n",
       "        <matplotlib.axes._subplots.AxesSubplot object at 0x7fae01a406d0>],\n",
       "       [<matplotlib.axes._subplots.AxesSubplot object at 0x7fae01a76c50>,\n",
       "        <matplotlib.axes._subplots.AxesSubplot object at 0x7fae01ab8210>,\n",
       "        <matplotlib.axes._subplots.AxesSubplot object at 0x7fae01aef790>,\n",
       "        <matplotlib.axes._subplots.AxesSubplot object at 0x7fae01b23d10>,\n",
       "        <matplotlib.axes._subplots.AxesSubplot object at 0x7fae01b652d0>],\n",
       "       [<matplotlib.axes._subplots.AxesSubplot object at 0x7fae01b9d850>,\n",
       "        <matplotlib.axes._subplots.AxesSubplot object at 0x7fae01bd1dd0>,\n",
       "        <matplotlib.axes._subplots.AxesSubplot object at 0x7fae01c13390>,\n",
       "        <matplotlib.axes._subplots.AxesSubplot object at 0x7fae01c4a910>,\n",
       "        <matplotlib.axes._subplots.AxesSubplot object at 0x7fae01c7fe90>]],\n",
       "      dtype=object)"
      ]
     },
     "execution_count": 104,
     "metadata": {},
     "output_type": "execute_result"
    },
    {
     "data": {
      "image/png": "[encoded data removed]",
      "text/plain": [
       "<Figure size 1152x864 with 25 Axes>"
      ]
     },
     "metadata": {
      "needs_background": "light"
     },
     "output_type": "display_data"
    }
   ],
   "source": [
    "train_data.iloc[:,2:].hist(figsize=(16,12))"
   ]
  },
  {
   "cell_type": "code",
   "execution_count": 18,
   "metadata": {
    "scrolled": true
   },
   "outputs": [
    {
     "data": {
      "image/png": "[encoded data removed]",
      "text/plain": [
       "<Figure size 864x648 with 2 Axes>"
      ]
     },
     "metadata": {
      "needs_background": "light"
     },
     "output_type": "display_data"
    }
   ],
   "source": [
    "# check the correlation \n",
    "corrmat = train_data.iloc[:, 1:-8].corr()\n",
    "f, ax = plt.subplots(figsize=(12, 9))\n",
    "sns.heatmap(corrmat, vmax=.8, square=True, cmap=\"YlGnBu\");"
   ]
  },
  {
   "cell_type": "markdown",
   "metadata": {},
   "source": [
    "# 2. Prediction"
   ]
  },
  {
   "cell_type": "markdown",
   "metadata": {},
   "source": [
    "## 2.1 Linear regression using Gradien descent  "
   ]
  },
  {
   "cell_type": "code",
   "execution_count": 131,
   "metadata": {},
   "outputs": [],
   "source": [
    "# fit all features \n",
    "import numpy as np\n",
    "X = preprocessing.scale(train_data.iloc[:,1:])\n",
    "X = sm.add_constant(X)\n",
    "y = train_data.iloc[:,0]\n",
    "y = y.to_numpy()\n",
    "y = np.expand_dims(y, axis=1)\n",
    "X_train,X_test,y_train,y_test = train_test_split(X,y,test_size=0.3)\n"
   ]
  },
  {
   "cell_type": "code",
   "execution_count": 132,
   "metadata": {},
   "outputs": [
    {
     "name": "stdout",
     "output_type": "stream",
     "text": [
      "The cost is increasing. Try reducing alpha.\n",
      "Completed in 162 iterations.\n"
     ]
    }
   ],
   "source": [
    "# define a gradient descent function \n",
    "def grad_descent(X, y, alpha, epsilon):\n",
    "    iteration = [0]\n",
    "    i = 0\n",
    "    theta = np.ones(shape=(X.shape[1], 1))\n",
    "    \n",
    "    # X = X + np.array([1,0])\n",
    "    \n",
    "    cost = [np.transpose(X @ theta - y) @ (X @ theta - y)]\n",
    "    delta = 1\n",
    "    while (delta>epsilon):\n",
    "        \n",
    "        theta = theta - alpha*((np.transpose(X)) @ (X @ theta - y))\n",
    "        cost_val = (np.transpose(X @ theta - y)) @ (X @ theta - y)\n",
    "        cost.append(cost_val)\n",
    "        delta = abs(cost[i+1]-cost[i])\n",
    "        if ((cost[i+1]-cost[i]) > 0):\n",
    "            print(\"The cost is increasing. Try reducing alpha.\")\n",
    "            break\n",
    "        iteration.append(i)\n",
    "        i += 1\n",
    "        \n",
    "    print(\"Completed in %d iterations.\" %(i))\n",
    "    return theta, cost \n",
    "\n",
    "\n",
    "# get the theta\n",
    "\n",
    "theta1, cost_hist1 = grad_descent(X = X_train, y=y_train, alpha=0.0005, epsilon = 10**-10)\n",
    "#theta = result[0]\n",
    "#print(theta)"
   ]
  },
  {
   "cell_type": "code",
   "execution_count": 133,
   "metadata": {},
   "outputs": [
    {
     "data": {
      "text/plain": [
       "Text(0.5, 1.0, 'Convergence of gradient descent')"
      ]
     },
     "execution_count": 133,
     "metadata": {},
     "output_type": "execute_result"
    },
    {
     "data": {
      "image/png": "[encoded data removed]",
      "text/plain": [
       "<Figure size 720x432 with 1 Axes>"
      ]
     },
     "metadata": {
      "needs_background": "light"
     },
     "output_type": "display_data"
    }
   ],
   "source": [
    "import matplotlib.pyplot as plt\n",
    "plt.plot(range(1, len(cost_hist1)), [cost_hist1[i][0][0] for i in range(1, len(cost_hist1))], color ='blue')\n",
    "plt.rcParams[\"figure.figsize\"] = (10,6)\n",
    "plt.grid()\n",
    "plt.xlabel(\"Number of iterations\")\n",
    "plt.ylabel(\"cost \")\n",
    "plt.title(\"Convergence of gradient descent\")"
   ]
  },
  {
   "cell_type": "code",
   "execution_count": 134,
   "metadata": {},
   "outputs": [],
   "source": [
    "# test model \n",
    "y_hat = X_test.dot(theta1)"
   ]
  },
  {
   "cell_type": "code",
   "execution_count": 135,
   "metadata": {},
   "outputs": [
    {
     "data": {
      "image/png": "[encoded data removed]",
      "text/plain": [
       "<Figure size 720x432 with 1 Axes>"
      ]
     },
     "metadata": {
      "needs_background": "light"
     },
     "output_type": "display_data"
    }
   ],
   "source": [
    "# plot to see the prediction results \n",
    "plt.figure()\n",
    "plt.scatter(x=list(range(0, len(y_hat))),y= y_hat, color='red', alpha=0.5, label='y_hat')         \n",
    "plt.scatter(x=list(range(0, len(y_test))), y=y_test, color='blue', alpha=0.5, label='y_test')\n",
    "plt.xlabel(\"Nth test data\")\n",
    "plt.ylabel('Room price')\n",
    "plt.title(\"Predicted values v.s. Test values\")\n",
    "plt.legend()\n",
    "plt.show()"
   ]
  },
  {
   "cell_type": "code",
   "execution_count": 136,
   "metadata": {},
   "outputs": [
    {
     "name": "stdout",
     "output_type": "stream",
     "text": [
      "GD test MSE: 774490.4931630456\n",
      "GD train MSE: 643890.5797246874\n"
     ]
    }
   ],
   "source": [
    "# evaluate MSE\n",
    "from sklearn.metrics import mean_squared_error \n",
    "y_true_GD = y_test # Y_true = Y (original values) \n",
    "y_pred_GD = y_hat # Y_pred = Y' \n",
    "# Calculation of Mean Squared Error (MSE) \n",
    "GD_testMSE = mean_squared_error(y_true_GD,y_pred_GD) \n",
    "print('GD test MSE:', GD_testMSE)\n",
    "\n",
    "y_true_train_GD = y_train  \n",
    "y_pred_train_GD = X_train.dot(theta1)  \n",
    "# Calculation of Mean Squared Error (MSE) \n",
    "GD_trainMSE = mean_squared_error(y_true_train_GD,y_pred_train_GD) \n",
    "print('GD train MSE:', GD_trainMSE)"
   ]
  },
  {
   "cell_type": "code",
   "execution_count": 137,
   "metadata": {},
   "outputs": [
    {
     "data": {
      "text/plain": [
       "0.2284730205918145"
      ]
     },
     "execution_count": 137,
     "metadata": {},
     "output_type": "execute_result"
    }
   ],
   "source": [
    "from sklearn.metrics import r2_score\n",
    "gd_r2 = r2_score(y_true_GD,y_pred_GD)\n",
    "gd_r2"
   ]
  },
  {
   "cell_type": "markdown",
   "metadata": {},
   "source": [
    "## 2.2 Linear regression "
   ]
  },
  {
   "cell_type": "code",
   "execution_count": 138,
   "metadata": {
    "collapsed": true
   },
   "outputs": [
    {
     "data": {
      "text/html": [
       "<table class=\"simpletable\">\n",
       "<caption>OLS Regression Results</caption>\n",
       "<tr>\n",
       "  <th>Dep. Variable:</th>       <td>room_price</td>    <th>  R-squared:         </th> <td>   0.319</td> \n",
       "</tr>\n",
       "<tr>\n",
       "  <th>Model:</th>                   <td>OLS</td>       <th>  Adj. R-squared:    </th> <td>   0.299</td> \n",
       "</tr>\n",
       "<tr>\n",
       "  <th>Method:</th>             <td>Least Squares</td>  <th>  F-statistic:       </th> <td>   15.79</td> \n",
       "</tr>\n",
       "<tr>\n",
       "  <th>Date:</th>             <td>Tue, 09 Mar 2021</td> <th>  Prob (F-statistic):</th> <td>3.04e-46</td> \n",
       "</tr>\n",
       "<tr>\n",
       "  <th>Time:</th>                 <td>17:15:15</td>     <th>  Log-Likelihood:    </th> <td> -5905.6</td> \n",
       "</tr>\n",
       "<tr>\n",
       "  <th>No. Observations:</th>      <td>   730</td>      <th>  AIC:               </th> <td>1.186e+04</td>\n",
       "</tr>\n",
       "<tr>\n",
       "  <th>Df Residuals:</th>          <td>   708</td>      <th>  BIC:               </th> <td>1.196e+04</td>\n",
       "</tr>\n",
       "<tr>\n",
       "  <th>Df Model:</th>              <td>    21</td>      <th>                     </th>     <td> </td>    \n",
       "</tr>\n",
       "<tr>\n",
       "  <th>Covariance Type:</th>      <td>nonrobust</td>    <th>                     </th>     <td> </td>    \n",
       "</tr>\n",
       "</table>\n",
       "<table class=\"simpletable\">\n",
       "<tr>\n",
       "         <td></td>            <th>coef</th>     <th>std err</th>      <th>t</th>      <th>P>|t|</th>  <th>[0.025</th>    <th>0.975]</th>  \n",
       "</tr>\n",
       "<tr>\n",
       "  <th>const</th>           <td>  847.5374</td> <td>  208.491</td> <td>    4.065</td> <td> 0.000</td> <td>  438.203</td> <td> 1256.872</td>\n",
       "</tr>\n",
       "<tr>\n",
       "  <th>image_count</th>     <td>    0.7671</td> <td>    2.060</td> <td>    0.372</td> <td> 0.710</td> <td>   -3.276</td> <td>    4.811</td>\n",
       "</tr>\n",
       "<tr>\n",
       "  <th>adult_occupancy</th> <td>   16.1402</td> <td>   23.414</td> <td>    0.689</td> <td> 0.491</td> <td>  -29.828</td> <td>   62.109</td>\n",
       "</tr>\n",
       "<tr>\n",
       "  <th>child_occupancy</th> <td>   59.2868</td> <td>   62.921</td> <td>    0.942</td> <td> 0.346</td> <td>  -64.248</td> <td>  182.821</td>\n",
       "</tr>\n",
       "<tr>\n",
       "  <th>num_amenities</th>   <td>   23.0272</td> <td>   17.551</td> <td>    1.312</td> <td> 0.190</td> <td>  -11.432</td> <td>   57.486</td>\n",
       "</tr>\n",
       "<tr>\n",
       "  <th>zones</th>           <td>   52.8358</td> <td>   25.167</td> <td>    2.099</td> <td> 0.036</td> <td>    3.425</td> <td>  102.246</td>\n",
       "</tr>\n",
       "<tr>\n",
       "  <th>descr_len</th>       <td>    2.5444</td> <td>    0.535</td> <td>    4.760</td> <td> 0.000</td> <td>    1.495</td> <td>    3.594</td>\n",
       "</tr>\n",
       "<tr>\n",
       "  <th>deluxe</th>          <td>  616.9758</td> <td>   74.385</td> <td>    8.294</td> <td> 0.000</td> <td>  470.934</td> <td>  763.017</td>\n",
       "</tr>\n",
       "<tr>\n",
       "  <th>num_simhotel</th>    <td>    8.4364</td> <td>    6.550</td> <td>    1.288</td> <td> 0.198</td> <td>   -4.423</td> <td>   21.296</td>\n",
       "</tr>\n",
       "<tr>\n",
       "  <th>wifi</th>            <td>  332.8403</td> <td>   79.167</td> <td>    4.204</td> <td> 0.000</td> <td>  177.410</td> <td>  488.271</td>\n",
       "</tr>\n",
       "<tr>\n",
       "  <th>ac</th>              <td> -353.4059</td> <td>   80.830</td> <td>   -4.372</td> <td> 0.000</td> <td> -512.100</td> <td> -194.711</td>\n",
       "</tr>\n",
       "<tr>\n",
       "  <th>breakfast</th>       <td>  104.9166</td> <td>  139.632</td> <td>    0.751</td> <td> 0.453</td> <td> -169.226</td> <td>  379.059</td>\n",
       "</tr>\n",
       "<tr>\n",
       "  <th>service_value</th>   <td>  176.6199</td> <td>  126.664</td> <td>    1.394</td> <td> 0.164</td> <td>  -72.063</td> <td>  425.303</td>\n",
       "</tr>\n",
       "<tr>\n",
       "  <th>acceptance_rate</th> <td>    1.5877</td> <td>    1.723</td> <td>    0.921</td> <td> 0.357</td> <td>   -1.795</td> <td>    4.971</td>\n",
       "</tr>\n",
       "<tr>\n",
       "  <th>response_label</th>  <td> -234.3542</td> <td>   84.519</td> <td>   -2.773</td> <td> 0.006</td> <td> -400.291</td> <td>  -68.417</td>\n",
       "</tr>\n",
       "<tr>\n",
       "  <th>Apartment</th>       <td> 1396.6140</td> <td>  285.305</td> <td>    4.895</td> <td> 0.000</td> <td>  836.469</td> <td> 1956.759</td>\n",
       "</tr>\n",
       "<tr>\n",
       "  <th>Homestay</th>        <td> -352.7220</td> <td>  156.646</td> <td>   -2.252</td> <td> 0.025</td> <td> -660.269</td> <td>  -45.175</td>\n",
       "</tr>\n",
       "<tr>\n",
       "  <th>Hotel</th>           <td>   57.2214</td> <td>   96.685</td> <td>    0.592</td> <td> 0.554</td> <td> -132.603</td> <td>  247.046</td>\n",
       "</tr>\n",
       "<tr>\n",
       "  <th>House</th>           <td> -472.1653</td> <td>  117.136</td> <td>   -4.031</td> <td> 0.000</td> <td> -702.140</td> <td> -242.191</td>\n",
       "</tr>\n",
       "<tr>\n",
       "  <th>Lodge</th>           <td> -441.4107</td> <td>  183.599</td> <td>   -2.404</td> <td> 0.016</td> <td> -801.875</td> <td>  -80.947</td>\n",
       "</tr>\n",
       "<tr>\n",
       "  <th>Resort</th>          <td>  726.7577</td> <td>  159.396</td> <td>    4.559</td> <td> 0.000</td> <td>  413.813</td> <td> 1039.703</td>\n",
       "</tr>\n",
       "<tr>\n",
       "  <th>Spa</th>             <td>  -97.6017</td> <td>  511.541</td> <td>   -0.191</td> <td> 0.849</td> <td>-1101.921</td> <td>  906.718</td>\n",
       "</tr>\n",
       "<tr>\n",
       "  <th>Villa</th>           <td>   30.8440</td> <td>  269.815</td> <td>    0.114</td> <td> 0.909</td> <td> -498.889</td> <td>  560.577</td>\n",
       "</tr>\n",
       "</table>\n",
       "<table class=\"simpletable\">\n",
       "<tr>\n",
       "  <th>Omnibus:</th>       <td>67.870</td> <th>  Durbin-Watson:     </th> <td>   2.005</td>\n",
       "</tr>\n",
       "<tr>\n",
       "  <th>Prob(Omnibus):</th> <td> 0.000</td> <th>  Jarque-Bera (JB):  </th> <td>  85.128</td>\n",
       "</tr>\n",
       "<tr>\n",
       "  <th>Skew:</th>          <td> 0.786</td> <th>  Prob(JB):          </th> <td>3.27e-19</td>\n",
       "</tr>\n",
       "<tr>\n",
       "  <th>Kurtosis:</th>      <td> 3.572</td> <th>  Cond. No.          </th> <td>9.01e+17</td>\n",
       "</tr>\n",
       "</table><br/><br/>Notes:<br/>[1] Standard Errors assume that the covariance matrix of the errors is correctly specified.<br/>[2] The smallest eigenvalue is 1.6e-29. This might indicate that there are<br/>strong multicollinearity problems or that the design matrix is singular."
      ],
      "text/plain": [
       "<class 'statsmodels.iolib.summary.Summary'>\n",
       "\"\"\"\n",
       "                            OLS Regression Results                            \n",
       "==============================================================================\n",
       "Dep. Variable:             room_price   R-squared:                       0.319\n",
       "Model:                            OLS   Adj. R-squared:                  0.299\n",
       "Method:                 Least Squares   F-statistic:                     15.79\n",
       "Date:                Tue, 09 Mar 2021   Prob (F-statistic):           3.04e-46\n",
       "Time:                        17:15:15   Log-Likelihood:                -5905.6\n",
       "No. Observations:                 730   AIC:                         1.186e+04\n",
       "Df Residuals:                     708   BIC:                         1.196e+04\n",
       "Df Model:                          21                                         \n",
       "Covariance Type:            nonrobust                                         \n",
       "===================================================================================\n",
       "                      coef    std err          t      P>|t|      [0.025      0.975]\n",
       "-----------------------------------------------------------------------------------\n",
       "const             847.5374    208.491      4.065      0.000     438.203    1256.872\n",
       "image_count         0.7671      2.060      0.372      0.710      -3.276       4.811\n",
       "adult_occupancy    16.1402     23.414      0.689      0.491     -29.828      62.109\n",
       "child_occupancy    59.2868     62.921      0.942      0.346     -64.248     182.821\n",
       "num_amenities      23.0272     17.551      1.312      0.190     -11.432      57.486\n",
       "zones              52.8358     25.167      2.099      0.036       3.425     102.246\n",
       "descr_len           2.5444      0.535      4.760      0.000       1.495       3.594\n",
       "deluxe            616.9758     74.385      8.294      0.000     470.934     763.017\n",
       "num_simhotel        8.4364      6.550      1.288      0.198      -4.423      21.296\n",
       "wifi              332.8403     79.167      4.204      0.000     177.410     488.271\n",
       "ac               -353.4059     80.830     -4.372      0.000    -512.100    -194.711\n",
       "breakfast         104.9166    139.632      0.751      0.453    -169.226     379.059\n",
       "service_value     176.6199    126.664      1.394      0.164     -72.063     425.303\n",
       "acceptance_rate     1.5877      1.723      0.921      0.357      -1.795       4.971\n",
       "response_label   -234.3542     84.519     -2.773      0.006    -400.291     -68.417\n",
       "Apartment        1396.6140    285.305      4.895      0.000     836.469    1956.759\n",
       "Homestay         -352.7220    156.646     -2.252      0.025    -660.269     -45.175\n",
       "Hotel              57.2214     96.685      0.592      0.554    -132.603     247.046\n",
       "House            -472.1653    117.136     -4.031      0.000    -702.140    -242.191\n",
       "Lodge            -441.4107    183.599     -2.404      0.016    -801.875     -80.947\n",
       "Resort            726.7577    159.396      4.559      0.000     413.813    1039.703\n",
       "Spa               -97.6017    511.541     -0.191      0.849   -1101.921     906.718\n",
       "Villa              30.8440    269.815      0.114      0.909    -498.889     560.577\n",
       "==============================================================================\n",
       "Omnibus:                       67.870   Durbin-Watson:                   2.005\n",
       "Prob(Omnibus):                  0.000   Jarque-Bera (JB):               85.128\n",
       "Skew:                           0.786   Prob(JB):                     3.27e-19\n",
       "Kurtosis:                       3.572   Cond. No.                     9.01e+17\n",
       "==============================================================================\n",
       "\n",
       "Notes:\n",
       "[1] Standard Errors assume that the covariance matrix of the errors is correctly specified.\n",
       "[2] The smallest eigenvalue is 1.6e-29. This might indicate that there are\n",
       "strong multicollinearity problems or that the design matrix is singular.\n",
       "\"\"\""
      ]
     },
     "execution_count": 138,
     "metadata": {},
     "output_type": "execute_result"
    }
   ],
   "source": [
    "# fit all features \n",
    "X = train_data.iloc[:,1:]\n",
    "X = sm.add_constant(X)\n",
    "y = train_data.iloc[:,0]\n",
    "X_train,X_test,y_train,y_test = train_test_split(X,y,test_size=0.3)\n",
    "\n",
    "lr_model = sm.OLS(y_train, X_train).fit()"
   ]
  },
  {
   "cell_type": "code",
   "execution_count": 114,
   "metadata": {
    "collapsed": true
   },
   "outputs": [
    {
     "name": "stdout",
     "output_type": "stream",
     "text": [
      "Feature: 0, Score: 0.00000\n",
      "Feature: 1, Score: 2.77512\n",
      "Feature: 2, Score: 11.70867\n",
      "Feature: 3, Score: 89.69888\n",
      "Feature: 4, Score: -5.85537\n",
      "Feature: 5, Score: 36.75187\n",
      "Feature: 6, Score: 2.71201\n",
      "Feature: 7, Score: 562.74291\n",
      "Feature: 8, Score: 4.56506\n",
      "Feature: 9, Score: 375.73751\n",
      "Feature: 10, Score: -280.14921\n",
      "Feature: 11, Score: 360.12982\n",
      "Feature: 12, Score: 174.07887\n",
      "Feature: 13, Score: 2.60212\n",
      "Feature: 14, Score: -259.82389\n",
      "Feature: 15, Score: 1280.79550\n",
      "Feature: 16, Score: -388.90856\n",
      "Feature: 17, Score: 55.87086\n",
      "Feature: 18, Score: -480.47559\n",
      "Feature: 19, Score: -575.11400\n",
      "Feature: 20, Score: 350.76873\n",
      "Feature: 21, Score: -155.79826\n",
      "Feature: 22, Score: -87.13868\n"
     ]
    },
    {
     "data": {
      "image/png": "[encoded data removed]",
      "text/plain": [
       "<Figure size 720x432 with 1 Axes>"
      ]
     },
     "metadata": {
      "needs_background": "light"
     },
     "output_type": "display_data"
    }
   ],
   "source": [
    "# linear regression feature importance\n",
    "from sklearn.datasets import make_regression\n",
    "from sklearn.linear_model import LinearRegression\n",
    "from matplotlib import pyplot\n",
    "# define dataset\n",
    "# define the model\n",
    "model = LinearRegression()\n",
    "# fit the model\n",
    "model.fit(X_train, y_train)\n",
    "# get importance\n",
    "importance = model.coef_\n",
    "# summarize feature importance\n",
    "for i,v in enumerate(importance):\n",
    "    print('Feature: %0d, Score: %.5f' % (i,v))\n",
    "# plot feature importance\n",
    "pyplot.bar([x for x in range(len(importance))], importance)\n",
    "pyplot.show()"
   ]
  },
  {
   "cell_type": "code",
   "execution_count": 115,
   "metadata": {
    "scrolled": true
   },
   "outputs": [],
   "source": [
    "# # after checking, remove some non-essential features \n",
    "# X = train_data.iloc[:,np.r_[2:16,18:20]]\n",
    "# X = sm.add_constant(X)\n",
    "# y = train_data.iloc[:,1]\n",
    "# X_train,X_test,y_train,y_test = train_test_split(X,y,test_size=0.3)\n",
    "\n",
    "# lr_model = sm.OLS(y_train, X_train).fit()\n",
    "# lr_model.summary()\n"
   ]
  },
  {
   "cell_type": "markdown",
   "metadata": {},
   "source": [
    "* We first fit all relevant features to the linear regression model using statsmodel. The adjusted R2 only achieves 0.272. We then removed some non-essential features (eg. 'Spa', 'Villa', very few rows have 1 values), the R2 does not increase (0.218). \n",
    "* We then perform a Stepwise selection in R and it returns a model with 13 features, but the adjusted R2 is only 0.1746, less than models with more features. \n",
    "* For linear regression model, we will stick with all features."
   ]
  },
  {
   "cell_type": "code",
   "execution_count": 139,
   "metadata": {},
   "outputs": [
    {
     "name": "stdout",
     "output_type": "stream",
     "text": [
      "796295.0129231175 622661.496609513\n"
     ]
    },
    {
     "data": {
      "text/plain": [
       "0.1941859575771584"
      ]
     },
     "execution_count": 139,
     "metadata": {},
     "output_type": "execute_result"
    }
   ],
   "source": [
    "# compute test MSE \n",
    "y_true_lr = y_test # Y_true = Y (original values) \n",
    "y_pred_lr = lr_model.predict(X_test) # Y_pred = Y' \n",
    "lr_testMSE = mean_squared_error(y_true_lr,y_pred_lr) \n",
    "\n",
    "# training mse\n",
    "y_true_train_lr = y_train  \n",
    "y_pred_train_lr = lr_model.predict(X_train) \n",
    "lr_trainMSE = mean_squared_error(y_true_train_lr,y_pred_train_lr) \n",
    "print(lr_testMSE, lr_trainMSE)\n",
    "\n",
    "# r2\n",
    "lr_r2 = r2_score(y_true_lr, y_pred_lr)\n",
    "lr_r2\n"
   ]
  },
  {
   "cell_type": "markdown",
   "metadata": {},
   "source": [
    "* ### Additional try#1: predict in per zone"
   ]
  },
  {
   "cell_type": "code",
   "execution_count": 184,
   "metadata": {},
   "outputs": [],
   "source": [
    "zone0 = train_data[train_data.zones==0].drop(columns='zones')\n",
    "zone1 = train_data[train_data.zones==1].drop(columns='zones')\n",
    "zone2 = train_data[train_data.zones==2].drop(columns='zones')\n",
    "zone3 = train_data[train_data.zones==3].drop(columns='zones')"
   ]
  },
  {
   "cell_type": "code",
   "execution_count": 187,
   "metadata": {
    "collapsed": true
   },
   "outputs": [
    {
     "name": "stderr",
     "output_type": "stream",
     "text": [
      "/Users/yajiezhu/opt/anaconda3/lib/python3.7/site-packages/statsmodels/regression/linear_model.py:1860: RuntimeWarning: divide by zero encountered in double_scalars\n",
      "  return np.sqrt(eigvals[0]/eigvals[-1])\n"
     ]
    },
    {
     "data": {
      "text/html": [
       "<table class=\"simpletable\">\n",
       "<caption>OLS Regression Results</caption>\n",
       "<tr>\n",
       "  <th>Dep. Variable:</th>       <td>room_price</td>    <th>  R-squared:         </th> <td>   0.385</td>\n",
       "</tr>\n",
       "<tr>\n",
       "  <th>Model:</th>                   <td>OLS</td>       <th>  Adj. R-squared:    </th> <td>   0.330</td>\n",
       "</tr>\n",
       "<tr>\n",
       "  <th>Method:</th>             <td>Least Squares</td>  <th>  F-statistic:       </th> <td>   7.053</td>\n",
       "</tr>\n",
       "<tr>\n",
       "  <th>Date:</th>             <td>Sat, 06 Mar 2021</td> <th>  Prob (F-statistic):</th> <td>1.86e-14</td>\n",
       "</tr>\n",
       "<tr>\n",
       "  <th>Time:</th>                 <td>12:58:01</td>     <th>  Log-Likelihood:    </th> <td> -1864.6</td>\n",
       "</tr>\n",
       "<tr>\n",
       "  <th>No. Observations:</th>      <td>   234</td>      <th>  AIC:               </th> <td>   3769.</td>\n",
       "</tr>\n",
       "<tr>\n",
       "  <th>Df Residuals:</th>          <td>   214</td>      <th>  BIC:               </th> <td>   3838.</td>\n",
       "</tr>\n",
       "<tr>\n",
       "  <th>Df Model:</th>              <td>    19</td>      <th>                     </th>     <td> </td>   \n",
       "</tr>\n",
       "<tr>\n",
       "  <th>Covariance Type:</th>      <td>nonrobust</td>    <th>                     </th>     <td> </td>   \n",
       "</tr>\n",
       "</table>\n",
       "<table class=\"simpletable\">\n",
       "<tr>\n",
       "         <td></td>            <th>coef</th>     <th>std err</th>      <th>t</th>      <th>P>|t|</th>  <th>[0.025</th>    <th>0.975]</th>  \n",
       "</tr>\n",
       "<tr>\n",
       "  <th>const</th>           <td>  940.6670</td> <td>  403.693</td> <td>    2.330</td> <td> 0.021</td> <td>  144.943</td> <td> 1736.391</td>\n",
       "</tr>\n",
       "<tr>\n",
       "  <th>image_count</th>     <td>    3.6919</td> <td>    3.939</td> <td>    0.937</td> <td> 0.350</td> <td>   -4.072</td> <td>   11.455</td>\n",
       "</tr>\n",
       "<tr>\n",
       "  <th>adult_occupancy</th> <td>  -56.0928</td> <td>   78.646</td> <td>   -0.713</td> <td> 0.476</td> <td> -211.113</td> <td>   98.927</td>\n",
       "</tr>\n",
       "<tr>\n",
       "  <th>child_occupancy</th> <td>   -1.3125</td> <td>   95.173</td> <td>   -0.014</td> <td> 0.989</td> <td> -188.909</td> <td>  186.284</td>\n",
       "</tr>\n",
       "<tr>\n",
       "  <th>num_amenities</th>   <td>   20.3071</td> <td>   26.571</td> <td>    0.764</td> <td> 0.446</td> <td>  -32.067</td> <td>   72.681</td>\n",
       "</tr>\n",
       "<tr>\n",
       "  <th>descr_len</th>       <td>    0.4495</td> <td>    0.978</td> <td>    0.459</td> <td> 0.646</td> <td>   -1.479</td> <td>    2.378</td>\n",
       "</tr>\n",
       "<tr>\n",
       "  <th>deluxe</th>          <td>  510.3983</td> <td>  119.998</td> <td>    4.253</td> <td> 0.000</td> <td>  273.869</td> <td>  746.928</td>\n",
       "</tr>\n",
       "<tr>\n",
       "  <th>num_simhotel</th>    <td>   29.4450</td> <td>   10.638</td> <td>    2.768</td> <td> 0.006</td> <td>    8.477</td> <td>   50.413</td>\n",
       "</tr>\n",
       "<tr>\n",
       "  <th>wifi</th>            <td>  524.8552</td> <td>  124.966</td> <td>    4.200</td> <td> 0.000</td> <td>  278.532</td> <td>  771.178</td>\n",
       "</tr>\n",
       "<tr>\n",
       "  <th>ac</th>              <td> -334.2704</td> <td>  121.654</td> <td>   -2.748</td> <td> 0.007</td> <td> -574.065</td> <td>  -94.476</td>\n",
       "</tr>\n",
       "<tr>\n",
       "  <th>breakfast</th>       <td>   60.3859</td> <td>  224.546</td> <td>    0.269</td> <td> 0.788</td> <td> -382.220</td> <td>  502.992</td>\n",
       "</tr>\n",
       "<tr>\n",
       "  <th>service_value</th>   <td>  343.6611</td> <td>  228.919</td> <td>    1.501</td> <td> 0.135</td> <td> -107.565</td> <td>  794.887</td>\n",
       "</tr>\n",
       "<tr>\n",
       "  <th>acceptance_rate</th> <td>    0.3902</td> <td>    3.952</td> <td>    0.099</td> <td> 0.921</td> <td>   -7.400</td> <td>    8.180</td>\n",
       "</tr>\n",
       "<tr>\n",
       "  <th>response_label</th>  <td> -482.8702</td> <td>  224.971</td> <td>   -2.146</td> <td> 0.033</td> <td> -926.314</td> <td>  -39.427</td>\n",
       "</tr>\n",
       "<tr>\n",
       "  <th>Apartment</th>       <td> 1090.4852</td> <td>  291.373</td> <td>    3.743</td> <td> 0.000</td> <td>  516.157</td> <td> 1664.814</td>\n",
       "</tr>\n",
       "<tr>\n",
       "  <th>Homestay</th>        <td> -409.9101</td> <td>  332.634</td> <td>   -1.232</td> <td> 0.219</td> <td>-1065.569</td> <td>  245.748</td>\n",
       "</tr>\n",
       "<tr>\n",
       "  <th>Hotel</th>           <td>  211.8204</td> <td>  148.366</td> <td>    1.428</td> <td> 0.155</td> <td>  -80.626</td> <td>  504.267</td>\n",
       "</tr>\n",
       "<tr>\n",
       "  <th>House</th>           <td>  -65.5355</td> <td>  184.871</td> <td>   -0.354</td> <td> 0.723</td> <td> -429.937</td> <td>  298.865</td>\n",
       "</tr>\n",
       "<tr>\n",
       "  <th>Lodge</th>           <td> -485.2499</td> <td>  386.194</td> <td>   -1.256</td> <td> 0.210</td> <td>-1246.481</td> <td>  275.981</td>\n",
       "</tr>\n",
       "<tr>\n",
       "  <th>Resort</th>          <td>  702.0840</td> <td>  306.774</td> <td>    2.289</td> <td> 0.023</td> <td>   97.398</td> <td> 1306.770</td>\n",
       "</tr>\n",
       "<tr>\n",
       "  <th>Spa</th>             <td>         0</td> <td>        0</td> <td>      nan</td> <td>   nan</td> <td>        0</td> <td>        0</td>\n",
       "</tr>\n",
       "<tr>\n",
       "  <th>Villa</th>           <td> -103.0270</td> <td>  500.691</td> <td>   -0.206</td> <td> 0.837</td> <td>-1089.944</td> <td>  883.890</td>\n",
       "</tr>\n",
       "</table>\n",
       "<table class=\"simpletable\">\n",
       "<tr>\n",
       "  <th>Omnibus:</th>       <td>11.194</td> <th>  Durbin-Watson:     </th> <td>   2.076</td>\n",
       "</tr>\n",
       "<tr>\n",
       "  <th>Prob(Omnibus):</th> <td> 0.004</td> <th>  Jarque-Bera (JB):  </th> <td>  11.787</td>\n",
       "</tr>\n",
       "<tr>\n",
       "  <th>Skew:</th>          <td> 0.549</td> <th>  Prob(JB):          </th> <td> 0.00276</td>\n",
       "</tr>\n",
       "<tr>\n",
       "  <th>Kurtosis:</th>      <td> 3.041</td> <th>  Cond. No.          </th> <td>     inf</td>\n",
       "</tr>\n",
       "</table><br/><br/>Notes:<br/>[1] Standard Errors assume that the covariance matrix of the errors is correctly specified.<br/>[2] The smallest eigenvalue is      0. This might indicate that there are<br/>strong multicollinearity problems or that the design matrix is singular."
      ],
      "text/plain": [
       "<class 'statsmodels.iolib.summary.Summary'>\n",
       "\"\"\"\n",
       "                            OLS Regression Results                            \n",
       "==============================================================================\n",
       "Dep. Variable:             room_price   R-squared:                       0.385\n",
       "Model:                            OLS   Adj. R-squared:                  0.330\n",
       "Method:                 Least Squares   F-statistic:                     7.053\n",
       "Date:                Sat, 06 Mar 2021   Prob (F-statistic):           1.86e-14\n",
       "Time:                        12:58:01   Log-Likelihood:                -1864.6\n",
       "No. Observations:                 234   AIC:                             3769.\n",
       "Df Residuals:                     214   BIC:                             3838.\n",
       "Df Model:                          19                                         \n",
       "Covariance Type:            nonrobust                                         \n",
       "===================================================================================\n",
       "                      coef    std err          t      P>|t|      [0.025      0.975]\n",
       "-----------------------------------------------------------------------------------\n",
       "const             940.6670    403.693      2.330      0.021     144.943    1736.391\n",
       "image_count         3.6919      3.939      0.937      0.350      -4.072      11.455\n",
       "adult_occupancy   -56.0928     78.646     -0.713      0.476    -211.113      98.927\n",
       "child_occupancy    -1.3125     95.173     -0.014      0.989    -188.909     186.284\n",
       "num_amenities      20.3071     26.571      0.764      0.446     -32.067      72.681\n",
       "descr_len           0.4495      0.978      0.459      0.646      -1.479       2.378\n",
       "deluxe            510.3983    119.998      4.253      0.000     273.869     746.928\n",
       "num_simhotel       29.4450     10.638      2.768      0.006       8.477      50.413\n",
       "wifi              524.8552    124.966      4.200      0.000     278.532     771.178\n",
       "ac               -334.2704    121.654     -2.748      0.007    -574.065     -94.476\n",
       "breakfast          60.3859    224.546      0.269      0.788    -382.220     502.992\n",
       "service_value     343.6611    228.919      1.501      0.135    -107.565     794.887\n",
       "acceptance_rate     0.3902      3.952      0.099      0.921      -7.400       8.180\n",
       "response_label   -482.8702    224.971     -2.146      0.033    -926.314     -39.427\n",
       "Apartment        1090.4852    291.373      3.743      0.000     516.157    1664.814\n",
       "Homestay         -409.9101    332.634     -1.232      0.219   -1065.569     245.748\n",
       "Hotel             211.8204    148.366      1.428      0.155     -80.626     504.267\n",
       "House             -65.5355    184.871     -0.354      0.723    -429.937     298.865\n",
       "Lodge            -485.2499    386.194     -1.256      0.210   -1246.481     275.981\n",
       "Resort            702.0840    306.774      2.289      0.023      97.398    1306.770\n",
       "Spa                      0          0        nan        nan           0           0\n",
       "Villa            -103.0270    500.691     -0.206      0.837   -1089.944     883.890\n",
       "==============================================================================\n",
       "Omnibus:                       11.194   Durbin-Watson:                   2.076\n",
       "Prob(Omnibus):                  0.004   Jarque-Bera (JB):               11.787\n",
       "Skew:                           0.549   Prob(JB):                      0.00276\n",
       "Kurtosis:                       3.041   Cond. No.                          inf\n",
       "==============================================================================\n",
       "\n",
       "Notes:\n",
       "[1] Standard Errors assume that the covariance matrix of the errors is correctly specified.\n",
       "[2] The smallest eigenvalue is      0. This might indicate that there are\n",
       "strong multicollinearity problems or that the design matrix is singular.\n",
       "\"\"\""
      ]
     },
     "execution_count": 187,
     "metadata": {},
     "output_type": "execute_result"
    }
   ],
   "source": [
    "# X = zone3.iloc[:,2:]\n",
    "# X = sm.add_constant(X)\n",
    "# y = zone3.iloc[:,1]\n",
    "# X_train,X_test,y_train,y_test = train_test_split(X,y,test_size=0.3)\n",
    "\n",
    "# lr_model = sm.OLS(y_train, X_train).fit()\n",
    "# lr_model.summary()"
   ]
  },
  {
   "cell_type": "markdown",
   "metadata": {},
   "source": [
    "* The prediction results per zone do not significantly. This indicates that the low performance for linear regression prediction may be because the lack of substantial features related to room price such as the room area, and the decoration of rooms. "
   ]
  },
  {
   "cell_type": "markdown",
   "metadata": {},
   "source": [
    "## 2.3 Random Forest Regression"
   ]
  },
  {
   "cell_type": "code",
   "execution_count": 140,
   "metadata": {},
   "outputs": [
    {
     "data": {
      "text/plain": [
       "RandomForestRegressor(n_estimators=1000)"
      ]
     },
     "execution_count": 140,
     "metadata": {},
     "output_type": "execute_result"
    }
   ],
   "source": [
    "from sklearn.ensemble import RandomForestRegressor\n",
    "X = preprocessing.scale(train_data.iloc[:,1:])\n",
    "y = train_data.iloc[:,0]\n",
    "X_train,X_test,y_train,y_test = train_test_split(X,y,test_size=0.3)\n",
    "\n",
    "rr = RandomForestRegressor(n_estimators = 1000)\n",
    "rr.fit(X_train, y_train.values.ravel())"
   ]
  },
  {
   "cell_type": "code",
   "execution_count": 141,
   "metadata": {},
   "outputs": [
    {
     "data": {
      "text/plain": [
       "(87812.80993750671, 764643.0317591359)"
      ]
     },
     "execution_count": 141,
     "metadata": {},
     "output_type": "execute_result"
    }
   ],
   "source": [
    "y_true_train_rr = y_train  \n",
    "y_pred_train_rr = rr.predict(X_train) \n",
    "rr_trainMSE = mean_squared_error(y_true_train_rr,y_pred_train_rr) \n",
    "\n",
    "y_true_rr = y_test # Y_true = Y (original values) \n",
    "y_pred_rr = predictions = rr.predict(X_test) # Y_pred = Y' \n",
    "rr_testMSE = mean_squared_error(y_true_rr,y_pred_rr) \n",
    "rr_trainMSE, rr_testMSE"
   ]
  },
  {
   "cell_type": "code",
   "execution_count": 142,
   "metadata": {},
   "outputs": [
    {
     "data": {
      "text/plain": [
       "0.23025769367994742"
      ]
     },
     "execution_count": 142,
     "metadata": {},
     "output_type": "execute_result"
    }
   ],
   "source": [
    "# calculate r2\n",
    "from sklearn.metrics import r2_score\n",
    "rr_r2 = r2_score(y_true_rr, y_pred_rr)\n",
    "rr_r2"
   ]
  },
  {
   "cell_type": "markdown",
   "metadata": {},
   "source": [
    "## 2.4 Neural Network"
   ]
  },
  {
   "cell_type": "code",
   "execution_count": 143,
   "metadata": {},
   "outputs": [],
   "source": [
    "# define x, y\n",
    "X = train_data.iloc[:,1:].values\n",
    "y = train_data.iloc[:,0].values\n",
    "X_train,X_test,y_train,y_test = train_test_split(X,y,test_size=0.2)\n",
    "ss = StandardScaler()\n",
    "X_train = ss.fit_transform(X_train)\n",
    "X_test = ss.fit_transform(X_test)"
   ]
  },
  {
   "cell_type": "code",
   "execution_count": 144,
   "metadata": {},
   "outputs": [
    {
     "name": "stdout",
     "output_type": "stream",
     "text": [
      "Epoch 1/10\n",
      "27/27 [==============================] - 0s 7ms/step - loss: 3444262.1161 - mse: 3444262.1161 - mae: 1567.4749 - val_loss: 3021961.5000 - val_mse: 3021961.5000 - val_mae: 1462.1315\n",
      "Epoch 2/10\n",
      "27/27 [==============================] - 0s 10ms/step - loss: 3263880.2321 - mse: 3263880.2321 - mae: 1521.9460 - val_loss: 2984469.7500 - val_mse: 2984469.7500 - val_mae: 1449.3738\n",
      "Epoch 3/10\n",
      "27/27 [==============================] - 0s 3ms/step - loss: 3074682.6161 - mse: 3074682.6161 - mae: 1486.1563 - val_loss: 2900053.7500 - val_mse: 2900053.7500 - val_mae: 1420.9293\n",
      "Epoch 4/10\n",
      "27/27 [==============================] - 0s 3ms/step - loss: 3231369.7857 - mse: 3231369.7857 - mae: 1498.7968 - val_loss: 2741462.2500 - val_mse: 2741462.2500 - val_mae: 1367.2582\n",
      "Epoch 5/10\n",
      "27/27 [==============================] - 0s 3ms/step - loss: 2810582.9732 - mse: 2810582.9732 - mae: 1394.5622 - val_loss: 2490066.2500 - val_mse: 2490066.2500 - val_mae: 1280.2321\n",
      "Epoch 6/10\n",
      "27/27 [==============================] - 0s 3ms/step - loss: 2590197.7768 - mse: 2590197.7768 - mae: 1304.5054 - val_loss: 2139225.7500 - val_mse: 2139225.7500 - val_mae: 1154.8113\n",
      "Epoch 7/10\n",
      "27/27 [==============================] - 0s 2ms/step - loss: 2288264.8973 - mse: 2288264.8973 - mae: 1201.9207 - val_loss: 1715188.6250 - val_mse: 1715188.6250 - val_mae: 988.2902\n",
      "Epoch 8/10\n",
      "27/27 [==============================] - 0s 3ms/step - loss: 1776836.5000 - mse: 1776836.5000 - mae: 1001.3030 - val_loss: 1296541.3750 - val_mse: 1296541.3750 - val_mae: 812.2088\n",
      "Epoch 9/10\n",
      "27/27 [==============================] - 0s 3ms/step - loss: 1259327.7589 - mse: 1259327.7589 - mae: 789.6967 - val_loss: 960931.0625 - val_mse: 960931.0625 - val_mae: 686.1849\n",
      "Epoch 10/10\n",
      "27/27 [==============================] - 0s 4ms/step - loss: 992145.1451 - mse: 992145.1451 - mae: 693.1546 - val_loss: 766512.7500 - val_mse: 766512.7500 - val_mae: 628.9462\n"
     ]
    },
    {
     "data": {
      "text/plain": [
       "<tensorflow.python.keras.callbacks.History at 0x7fae0c51e650>"
      ]
     },
     "execution_count": 144,
     "metadata": {},
     "output_type": "execute_result"
    }
   ],
   "source": [
    "# define NN model\n",
    "nn = Sequential()\n",
    "nn.add(Dense(21, activation='relu'))\n",
    "nn.add(Dense(500,activation='relu'))\n",
    "# nn.add(Dense(2, activation='relu')) # hidden layer 6 \n",
    "nn.add(Dense(1, activation='linear'))\n",
    "nn.compile(optimizer='adam', loss='mse', metrics=['mse','mae'])\n",
    "nn.fit(X_train,y_train, validation_data=(X_test, y_test), epochs=10)"
   ]
  },
  {
   "cell_type": "code",
   "execution_count": 145,
   "metadata": {},
   "outputs": [
    {
     "data": {
      "text/plain": [
       "(826295.1426503576, 315551.7799861846)"
      ]
     },
     "execution_count": 145,
     "metadata": {},
     "output_type": "execute_result"
    }
   ],
   "source": [
    "y_true_train = y_train  \n",
    "y_pred_train = nn.predict(X_train) \n",
    "nn_trainMSE = mean_squared_error(y_true_train,y_pred_train) \n",
    "\n",
    "y_true_nn = y_test # Y_true = Y (original values) \n",
    "y_pred_nn = predictions = rr.predict(X_test) # Y_pred = Y' \n",
    "nn_testMSE = mean_squared_error(y_true_nn,y_pred_nn) \n",
    "nn_trainMSE, nn_testMSE"
   ]
  },
  {
   "cell_type": "code",
   "execution_count": 146,
   "metadata": {},
   "outputs": [
    {
     "data": {
      "text/plain": [
       "0.6430226578800646"
      ]
     },
     "execution_count": 146,
     "metadata": {},
     "output_type": "execute_result"
    }
   ],
   "source": [
    "nn_r2 = r2_score(y_true_nn, y_pred_nn)\n",
    "nn_r2"
   ]
  },
  {
   "cell_type": "markdown",
   "metadata": {},
   "source": [
    "* Using neural network still does not yield good results. \n",
    "* We may conclude that the features in the dataset do not affect price very much. "
   ]
  },
  {
   "cell_type": "markdown",
   "metadata": {},
   "source": [
    "# 3. Wrap-up"
   ]
  },
  {
   "cell_type": "code",
   "execution_count": 149,
   "metadata": {},
   "outputs": [],
   "source": [
    "# store all model metrics \n",
    "result = {'gradienr_descent': [GD_trainMSE, GD_testMSE, gd_r2], \n",
    "         'linear_regression': [lr_trainMSE, lr_testMSE, lr_r2], \n",
    "         'random_forest':[rr_trainMSE, rr_testMSE, rr_r2], \n",
    "         'neural_network': [nn_trainMSE, nn_testMSE, nn_r2]}\n",
    "df = pd.DataFrame.from_dict(result,orient='index', columns=['training_MSE', 'test_MSE', 'test_R2'])"
   ]
  },
  {
   "cell_type": "code",
   "execution_count": 210,
   "metadata": {},
   "outputs": [
    {
     "data": {
      "text/plain": [
       "Text(0.5, 1.0, 'MSE - Four Models')"
      ]
     },
     "execution_count": 210,
     "metadata": {},
     "output_type": "execute_result"
    },
    {
     "data": {
      "image/png": "[encoded data removed]",
      "text/plain": [
       "<Figure size 720x432 with 1 Axes>"
      ]
     },
     "metadata": {
      "needs_background": "light"
     },
     "output_type": "display_data"
    }
   ],
   "source": [
    "df2 = df.transpose()\n",
    "df2.iloc[:2,:].plot(kind='bar',colormap='Set2', rot=0)\n",
    "plt.title('MSE - Four Models', fontsize=15)"
   ]
  },
  {
   "cell_type": "code",
   "execution_count": 212,
   "metadata": {},
   "outputs": [
    {
     "data": {
      "text/plain": [
       "Text(0.5, 1.0, 'R square - Four Models')"
      ]
     },
     "execution_count": 212,
     "metadata": {},
     "output_type": "execute_result"
    },
    {
     "data": {
      "image/png": "[encoded data removed]",
      "text/plain": [
       "<Figure size 720x432 with 1 Axes>"
      ]
     },
     "metadata": {
      "needs_background": "light"
     },
     "output_type": "display_data"
    }
   ],
   "source": [
    "plt.bar(x=['gradient_descent', 'linear_regression','random_forest', 'neural_network'], \n",
    "            height=df2.iloc[2,:],color=['#66c2a5', '#8da0cb', '#ffe355', '#bdbdbd'])\n",
    "plt.title('R square - Four Models',fontsize=15)"
   ]
  },
  {
   "cell_type": "markdown",
   "metadata": {},
   "source": [
    "# 4. Alternative: try Predict price range"
   ]
  },
  {
   "cell_type": "markdown",
   "metadata": {},
   "source": [
    "* I grouped the price into 6 buckets and to see if turning it into a classification problem would yield better result or not. "
   ]
  },
  {
   "cell_type": "code",
   "execution_count": 213,
   "metadata": {
    "collapsed": true
   },
   "outputs": [
    {
     "name": "stderr",
     "output_type": "stream",
     "text": [
      "/Users/yajiezhu/opt/anaconda3/lib/python3.7/site-packages/ipykernel_launcher.py:4: SettingWithCopyWarning: \n",
      "A value is trying to be set on a copy of a slice from a DataFrame.\n",
      "Try using .loc[row_indexer,col_indexer] = value instead\n",
      "\n",
      "See the caveats in the documentation: https://pandas.pydata.org/pandas-docs/stable/user_guide/indexing.html#returning-a-view-versus-a-copy\n",
      "  after removing the cwd from sys.path.\n"
     ]
    },
    {
     "data": {
      "image/png": "[encoded data removed]",
      "text/plain": [
       "<Figure size 720x432 with 1 Axes>"
      ]
     },
     "metadata": {
      "needs_background": "light"
     },
     "output_type": "display_data"
    }
   ],
   "source": [
    "# divide price into groups\n",
    "train_data.room_price.hist(bins=10)\n",
    "# split the price into 6 groups\n",
    "train_data['price_group'] = train_data.room_price.apply(lambda x: 1 if x<=500 else(2 if x <=1000 else(3 if x<=1500 else(4 if x<=2000 \n",
    "                                                                                                                        else(5 if x<=2500 \n",
    "                                                                                                                             else 6)))))\n",
    "                                                                                                    "
   ]
  },
  {
   "cell_type": "markdown",
   "metadata": {},
   "source": [
    "## 4. 1 Random forest classifier "
   ]
  },
  {
   "cell_type": "code",
   "execution_count": 67,
   "metadata": {},
   "outputs": [],
   "source": [
    "from sklearn.ensemble import RandomForestClassifier\n",
    "\n",
    "X = train_data.iloc[:,1:-1].values\n",
    "y = train_data.iloc[:,-1]\n",
    "X_train,X_test,y_train,y_test = train_test_split(X,y,test_size=0.2)\n",
    "ss = StandardScaler()\n",
    "X_train = ss.fit_transform(X_train)\n",
    "X_test = ss.fit_transform(X_test)\n",
    "\n",
    "rfc = RandomForestClassifier(n_estimators=100) # too many will waste computation power\n",
    "clf = rfc.fit(X_train, y_train.values.ravel()) # ravel will give the right format for random forest\n",
    "\n",
    "predictions = rfc.predict(X_test)"
   ]
  },
  {
   "cell_type": "code",
   "execution_count": 68,
   "metadata": {},
   "outputs": [
    {
     "name": "stdout",
     "output_type": "stream",
     "text": [
      "0.4258373205741627\n"
     ]
    }
   ],
   "source": [
    "print(accuracy_score(y_test, predictions))"
   ]
  },
  {
   "cell_type": "markdown",
   "metadata": {},
   "source": [
    "## 4.2 Neural Network classifier"
   ]
  },
  {
   "cell_type": "code",
   "execution_count": 89,
   "metadata": {},
   "outputs": [],
   "source": [
    "from sklearn.preprocessing import LabelEncoder, OneHotEncoder\n",
    "encoder = OneHotEncoder()\n",
    "group = encoder.fit_transform(train_data[['price_group']])\n",
    "ydf = pd.DataFrame(group.toarray(), columns=encoder.categories_)\n",
    "\n",
    "train_data_encoded = pd.concat([train_data.iloc[:,1:-1], ydf], axis=1)"
   ]
  },
  {
   "cell_type": "code",
   "execution_count": 91,
   "metadata": {
    "collapsed": true
   },
   "outputs": [
    {
     "data": {
      "text/html": [
       "<div>\n",
       "<style scoped>\n",
       "    .dataframe tbody tr th:only-of-type {\n",
       "        vertical-align: middle;\n",
       "    }\n",
       "\n",
       "    .dataframe tbody tr th {\n",
       "        vertical-align: top;\n",
       "    }\n",
       "\n",
       "    .dataframe thead th {\n",
       "        text-align: right;\n",
       "    }\n",
       "</style>\n",
       "<table border=\"1\" class=\"dataframe\">\n",
       "  <thead>\n",
       "    <tr style=\"text-align: right;\">\n",
       "      <th></th>\n",
       "      <th>image_count</th>\n",
       "      <th>adult_occupancy</th>\n",
       "      <th>child_occupancy</th>\n",
       "      <th>num_amenities</th>\n",
       "      <th>zones</th>\n",
       "      <th>descr_len</th>\n",
       "      <th>deluxe</th>\n",
       "      <th>num_simhotel</th>\n",
       "      <th>wifi</th>\n",
       "      <th>ac</th>\n",
       "      <th>...</th>\n",
       "      <th>service_value</th>\n",
       "      <th>acceptance_rate</th>\n",
       "      <th>response_label</th>\n",
       "      <th>Apartment</th>\n",
       "      <th>Homestay</th>\n",
       "      <th>Hotel</th>\n",
       "      <th>House</th>\n",
       "      <th>Lodge</th>\n",
       "      <th>Resort</th>\n",
       "      <th>Spa</th>\n",
       "    </tr>\n",
       "  </thead>\n",
       "  <tbody>\n",
       "    <tr>\n",
       "      <th>0</th>\n",
       "      <td>3.0</td>\n",
       "      <td>3.0</td>\n",
       "      <td>2.0</td>\n",
       "      <td>1.0</td>\n",
       "      <td>2.0</td>\n",
       "      <td>125.0</td>\n",
       "      <td>0.0</td>\n",
       "      <td>0.0</td>\n",
       "      <td>0.0</td>\n",
       "      <td>0.0</td>\n",
       "      <td>...</td>\n",
       "      <td>0.0</td>\n",
       "      <td>100.0</td>\n",
       "      <td>0.0</td>\n",
       "      <td>0.0</td>\n",
       "      <td>0.0</td>\n",
       "      <td>0.0</td>\n",
       "      <td>0.0</td>\n",
       "      <td>0.0</td>\n",
       "      <td>1.0</td>\n",
       "      <td>0.0</td>\n",
       "    </tr>\n",
       "    <tr>\n",
       "      <th>1</th>\n",
       "      <td>0.0</td>\n",
       "      <td>2.0</td>\n",
       "      <td>2.0</td>\n",
       "      <td>2.0</td>\n",
       "      <td>0.0</td>\n",
       "      <td>103.0</td>\n",
       "      <td>0.0</td>\n",
       "      <td>6.0</td>\n",
       "      <td>0.0</td>\n",
       "      <td>1.0</td>\n",
       "      <td>...</td>\n",
       "      <td>0.0</td>\n",
       "      <td>100.0</td>\n",
       "      <td>0.0</td>\n",
       "      <td>0.0</td>\n",
       "      <td>0.0</td>\n",
       "      <td>1.0</td>\n",
       "      <td>0.0</td>\n",
       "      <td>0.0</td>\n",
       "      <td>0.0</td>\n",
       "      <td>0.0</td>\n",
       "    </tr>\n",
       "    <tr>\n",
       "      <th>2</th>\n",
       "      <td>18.0</td>\n",
       "      <td>2.0</td>\n",
       "      <td>2.0</td>\n",
       "      <td>4.0</td>\n",
       "      <td>3.0</td>\n",
       "      <td>106.0</td>\n",
       "      <td>1.0</td>\n",
       "      <td>14.0</td>\n",
       "      <td>0.0</td>\n",
       "      <td>1.0</td>\n",
       "      <td>...</td>\n",
       "      <td>0.0</td>\n",
       "      <td>100.0</td>\n",
       "      <td>0.0</td>\n",
       "      <td>0.0</td>\n",
       "      <td>0.0</td>\n",
       "      <td>1.0</td>\n",
       "      <td>0.0</td>\n",
       "      <td>0.0</td>\n",
       "      <td>0.0</td>\n",
       "      <td>0.0</td>\n",
       "    </tr>\n",
       "    <tr>\n",
       "      <th>3</th>\n",
       "      <td>9.0</td>\n",
       "      <td>1.0</td>\n",
       "      <td>2.0</td>\n",
       "      <td>7.0</td>\n",
       "      <td>2.0</td>\n",
       "      <td>126.0</td>\n",
       "      <td>0.0</td>\n",
       "      <td>0.0</td>\n",
       "      <td>1.0</td>\n",
       "      <td>1.0</td>\n",
       "      <td>...</td>\n",
       "      <td>0.0</td>\n",
       "      <td>100.0</td>\n",
       "      <td>0.0</td>\n",
       "      <td>0.0</td>\n",
       "      <td>0.0</td>\n",
       "      <td>1.0</td>\n",
       "      <td>0.0</td>\n",
       "      <td>0.0</td>\n",
       "      <td>0.0</td>\n",
       "      <td>0.0</td>\n",
       "    </tr>\n",
       "    <tr>\n",
       "      <th>4</th>\n",
       "      <td>NaN</td>\n",
       "      <td>NaN</td>\n",
       "      <td>NaN</td>\n",
       "      <td>NaN</td>\n",
       "      <td>NaN</td>\n",
       "      <td>NaN</td>\n",
       "      <td>NaN</td>\n",
       "      <td>NaN</td>\n",
       "      <td>NaN</td>\n",
       "      <td>NaN</td>\n",
       "      <td>...</td>\n",
       "      <td>NaN</td>\n",
       "      <td>NaN</td>\n",
       "      <td>NaN</td>\n",
       "      <td>NaN</td>\n",
       "      <td>NaN</td>\n",
       "      <td>NaN</td>\n",
       "      <td>NaN</td>\n",
       "      <td>NaN</td>\n",
       "      <td>NaN</td>\n",
       "      <td>NaN</td>\n",
       "    </tr>\n",
       "    <tr>\n",
       "      <th>...</th>\n",
       "      <td>...</td>\n",
       "      <td>...</td>\n",
       "      <td>...</td>\n",
       "      <td>...</td>\n",
       "      <td>...</td>\n",
       "      <td>...</td>\n",
       "      <td>...</td>\n",
       "      <td>...</td>\n",
       "      <td>...</td>\n",
       "      <td>...</td>\n",
       "      <td>...</td>\n",
       "      <td>...</td>\n",
       "      <td>...</td>\n",
       "      <td>...</td>\n",
       "      <td>...</td>\n",
       "      <td>...</td>\n",
       "      <td>...</td>\n",
       "      <td>...</td>\n",
       "      <td>...</td>\n",
       "      <td>...</td>\n",
       "      <td>...</td>\n",
       "    </tr>\n",
       "    <tr>\n",
       "      <th>1134</th>\n",
       "      <td>5.0</td>\n",
       "      <td>1.0</td>\n",
       "      <td>2.0</td>\n",
       "      <td>4.0</td>\n",
       "      <td>0.0</td>\n",
       "      <td>98.0</td>\n",
       "      <td>0.0</td>\n",
       "      <td>10.0</td>\n",
       "      <td>1.0</td>\n",
       "      <td>1.0</td>\n",
       "      <td>...</td>\n",
       "      <td>0.0</td>\n",
       "      <td>100.0</td>\n",
       "      <td>0.0</td>\n",
       "      <td>0.0</td>\n",
       "      <td>0.0</td>\n",
       "      <td>1.0</td>\n",
       "      <td>0.0</td>\n",
       "      <td>0.0</td>\n",
       "      <td>0.0</td>\n",
       "      <td>0.0</td>\n",
       "    </tr>\n",
       "    <tr>\n",
       "      <th>1135</th>\n",
       "      <td>15.0</td>\n",
       "      <td>1.0</td>\n",
       "      <td>2.0</td>\n",
       "      <td>1.0</td>\n",
       "      <td>0.0</td>\n",
       "      <td>147.0</td>\n",
       "      <td>0.0</td>\n",
       "      <td>14.0</td>\n",
       "      <td>1.0</td>\n",
       "      <td>0.0</td>\n",
       "      <td>...</td>\n",
       "      <td>0.0</td>\n",
       "      <td>100.0</td>\n",
       "      <td>0.0</td>\n",
       "      <td>0.0</td>\n",
       "      <td>0.0</td>\n",
       "      <td>1.0</td>\n",
       "      <td>0.0</td>\n",
       "      <td>0.0</td>\n",
       "      <td>0.0</td>\n",
       "      <td>0.0</td>\n",
       "    </tr>\n",
       "    <tr>\n",
       "      <th>1136</th>\n",
       "      <td>13.0</td>\n",
       "      <td>1.0</td>\n",
       "      <td>2.0</td>\n",
       "      <td>1.0</td>\n",
       "      <td>0.0</td>\n",
       "      <td>119.0</td>\n",
       "      <td>1.0</td>\n",
       "      <td>12.0</td>\n",
       "      <td>0.0</td>\n",
       "      <td>0.0</td>\n",
       "      <td>...</td>\n",
       "      <td>0.0</td>\n",
       "      <td>100.0</td>\n",
       "      <td>0.0</td>\n",
       "      <td>0.0</td>\n",
       "      <td>0.0</td>\n",
       "      <td>1.0</td>\n",
       "      <td>0.0</td>\n",
       "      <td>0.0</td>\n",
       "      <td>0.0</td>\n",
       "      <td>0.0</td>\n",
       "    </tr>\n",
       "    <tr>\n",
       "      <th>1137</th>\n",
       "      <td>16.0</td>\n",
       "      <td>1.0</td>\n",
       "      <td>2.0</td>\n",
       "      <td>1.0</td>\n",
       "      <td>0.0</td>\n",
       "      <td>98.0</td>\n",
       "      <td>0.0</td>\n",
       "      <td>3.0</td>\n",
       "      <td>0.0</td>\n",
       "      <td>0.0</td>\n",
       "      <td>...</td>\n",
       "      <td>0.0</td>\n",
       "      <td>100.0</td>\n",
       "      <td>0.0</td>\n",
       "      <td>0.0</td>\n",
       "      <td>0.0</td>\n",
       "      <td>1.0</td>\n",
       "      <td>0.0</td>\n",
       "      <td>0.0</td>\n",
       "      <td>0.0</td>\n",
       "      <td>0.0</td>\n",
       "    </tr>\n",
       "    <tr>\n",
       "      <th>1138</th>\n",
       "      <td>10.0</td>\n",
       "      <td>1.0</td>\n",
       "      <td>2.0</td>\n",
       "      <td>2.0</td>\n",
       "      <td>0.0</td>\n",
       "      <td>130.0</td>\n",
       "      <td>0.0</td>\n",
       "      <td>10.0</td>\n",
       "      <td>0.0</td>\n",
       "      <td>1.0</td>\n",
       "      <td>...</td>\n",
       "      <td>0.0</td>\n",
       "      <td>100.0</td>\n",
       "      <td>0.0</td>\n",
       "      <td>0.0</td>\n",
       "      <td>0.0</td>\n",
       "      <td>1.0</td>\n",
       "      <td>0.0</td>\n",
       "      <td>0.0</td>\n",
       "      <td>0.0</td>\n",
       "      <td>0.0</td>\n",
       "    </tr>\n",
       "  </tbody>\n",
       "</table>\n",
       "<p>1132 rows × 21 columns</p>\n",
       "</div>"
      ],
      "text/plain": [
       "      image_count  adult_occupancy  child_occupancy  num_amenities  zones  \\\n",
       "0             3.0              3.0              2.0            1.0    2.0   \n",
       "1             0.0              2.0              2.0            2.0    0.0   \n",
       "2            18.0              2.0              2.0            4.0    3.0   \n",
       "3             9.0              1.0              2.0            7.0    2.0   \n",
       "4             NaN              NaN              NaN            NaN    NaN   \n",
       "...           ...              ...              ...            ...    ...   \n",
       "1134          5.0              1.0              2.0            4.0    0.0   \n",
       "1135         15.0              1.0              2.0            1.0    0.0   \n",
       "1136         13.0              1.0              2.0            1.0    0.0   \n",
       "1137         16.0              1.0              2.0            1.0    0.0   \n",
       "1138         10.0              1.0              2.0            2.0    0.0   \n",
       "\n",
       "      descr_len  deluxe  num_simhotel  wifi   ac  ...  service_value  \\\n",
       "0         125.0     0.0           0.0   0.0  0.0  ...            0.0   \n",
       "1         103.0     0.0           6.0   0.0  1.0  ...            0.0   \n",
       "2         106.0     1.0          14.0   0.0  1.0  ...            0.0   \n",
       "3         126.0     0.0           0.0   1.0  1.0  ...            0.0   \n",
       "4           NaN     NaN           NaN   NaN  NaN  ...            NaN   \n",
       "...         ...     ...           ...   ...  ...  ...            ...   \n",
       "1134       98.0     0.0          10.0   1.0  1.0  ...            0.0   \n",
       "1135      147.0     0.0          14.0   1.0  0.0  ...            0.0   \n",
       "1136      119.0     1.0          12.0   0.0  0.0  ...            0.0   \n",
       "1137       98.0     0.0           3.0   0.0  0.0  ...            0.0   \n",
       "1138      130.0     0.0          10.0   0.0  1.0  ...            0.0   \n",
       "\n",
       "      acceptance_rate  response_label  Apartment  Homestay  Hotel  House  \\\n",
       "0               100.0             0.0        0.0       0.0    0.0    0.0   \n",
       "1               100.0             0.0        0.0       0.0    1.0    0.0   \n",
       "2               100.0             0.0        0.0       0.0    1.0    0.0   \n",
       "3               100.0             0.0        0.0       0.0    1.0    0.0   \n",
       "4                 NaN             NaN        NaN       NaN    NaN    NaN   \n",
       "...               ...             ...        ...       ...    ...    ...   \n",
       "1134            100.0             0.0        0.0       0.0    1.0    0.0   \n",
       "1135            100.0             0.0        0.0       0.0    1.0    0.0   \n",
       "1136            100.0             0.0        0.0       0.0    1.0    0.0   \n",
       "1137            100.0             0.0        0.0       0.0    1.0    0.0   \n",
       "1138            100.0             0.0        0.0       0.0    1.0    0.0   \n",
       "\n",
       "      Lodge  Resort  Spa  \n",
       "0       0.0     1.0  0.0  \n",
       "1       0.0     0.0  0.0  \n",
       "2       0.0     0.0  0.0  \n",
       "3       0.0     0.0  0.0  \n",
       "4       NaN     NaN  NaN  \n",
       "...     ...     ...  ...  \n",
       "1134    0.0     0.0  0.0  \n",
       "1135    0.0     0.0  0.0  \n",
       "1136    0.0     0.0  0.0  \n",
       "1137    0.0     0.0  0.0  \n",
       "1138    0.0     0.0  0.0  \n",
       "\n",
       "[1132 rows x 21 columns]"
      ]
     },
     "execution_count": 91,
     "metadata": {},
     "output_type": "execute_result"
    }
   ],
   "source": [
    "train_data_encoded.iloc[:,0:-6]"
   ]
  },
  {
   "cell_type": "code",
   "execution_count": 99,
   "metadata": {
    "collapsed": true
   },
   "outputs": [
    {
     "name": "stdout",
     "output_type": "stream",
     "text": [
      "Epoch 1/20\n",
      "29/29 [==============================] - 0s 7ms/step - loss: nan - accuracy: 0.1808 - val_loss: nan - val_accuracy: 0.1982\n",
      "Epoch 2/20\n",
      "29/29 [==============================] - 0s 3ms/step - loss: nan - accuracy: 0.1914 - val_loss: nan - val_accuracy: 0.1982\n",
      "Epoch 3/20\n",
      "29/29 [==============================] - 0s 2ms/step - loss: nan - accuracy: 0.1678 - val_loss: nan - val_accuracy: 0.1982\n",
      "Epoch 4/20\n",
      "29/29 [==============================] - 0s 2ms/step - loss: nan - accuracy: 0.1850 - val_loss: nan - val_accuracy: 0.1982\n",
      "Epoch 5/20\n",
      "29/29 [==============================] - 0s 3ms/step - loss: nan - accuracy: 0.1911 - val_loss: nan - val_accuracy: 0.1982\n",
      "Epoch 6/20\n",
      "29/29 [==============================] - 0s 2ms/step - loss: nan - accuracy: 0.1873 - val_loss: nan - val_accuracy: 0.1982\n",
      "Epoch 7/20\n",
      "29/29 [==============================] - 0s 3ms/step - loss: nan - accuracy: 0.1640 - val_loss: nan - val_accuracy: 0.1982\n",
      "Epoch 8/20\n",
      "29/29 [==============================] - 0s 3ms/step - loss: nan - accuracy: 0.1825 - val_loss: nan - val_accuracy: 0.1982\n",
      "Epoch 9/20\n",
      "29/29 [==============================] - 0s 2ms/step - loss: nan - accuracy: 0.1802 - val_loss: nan - val_accuracy: 0.1982\n",
      "Epoch 10/20\n",
      "29/29 [==============================] - 0s 2ms/step - loss: nan - accuracy: 0.1972 - val_loss: nan - val_accuracy: 0.1982\n",
      "Epoch 11/20\n",
      "29/29 [==============================] - 0s 2ms/step - loss: nan - accuracy: 0.1800 - val_loss: nan - val_accuracy: 0.1982\n",
      "Epoch 12/20\n",
      "29/29 [==============================] - 0s 8ms/step - loss: nan - accuracy: 0.1774 - val_loss: nan - val_accuracy: 0.1982\n",
      "Epoch 13/20\n",
      "29/29 [==============================] - 0s 2ms/step - loss: nan - accuracy: 0.1721 - val_loss: nan - val_accuracy: 0.1982\n",
      "Epoch 14/20\n",
      "29/29 [==============================] - 0s 2ms/step - loss: nan - accuracy: 0.1915 - val_loss: nan - val_accuracy: 0.1982\n",
      "Epoch 15/20\n",
      "29/29 [==============================] - 0s 2ms/step - loss: nan - accuracy: 0.1892 - val_loss: nan - val_accuracy: 0.1982\n",
      "Epoch 16/20\n",
      "29/29 [==============================] - 0s 2ms/step - loss: nan - accuracy: 0.1909 - val_loss: nan - val_accuracy: 0.1982\n",
      "Epoch 17/20\n",
      "29/29 [==============================] - 0s 3ms/step - loss: nan - accuracy: 0.1994 - val_loss: nan - val_accuracy: 0.1982\n",
      "Epoch 18/20\n",
      "29/29 [==============================] - 0s 2ms/step - loss: nan - accuracy: 0.2001 - val_loss: nan - val_accuracy: 0.1982\n",
      "Epoch 19/20\n",
      "29/29 [==============================] - 0s 2ms/step - loss: nan - accuracy: 0.2006 - val_loss: nan - val_accuracy: 0.1982\n",
      "Epoch 20/20\n",
      "29/29 [==============================] - 0s 2ms/step - loss: nan - accuracy: 0.1827 - val_loss: nan - val_accuracy: 0.1982\n"
     ]
    },
    {
     "data": {
      "text/plain": [
       "<tensorflow.python.keras.callbacks.History at 0x7fae008f2cd0>"
      ]
     },
     "execution_count": 99,
     "metadata": {},
     "output_type": "execute_result"
    }
   ],
   "source": [
    "# neural network \n",
    "\n",
    "# define x, y\n",
    "X = train_data_encoded.iloc[:,0:-6].values\n",
    "y = train_data_encoded.iloc[:,-6:].values\n",
    "X_train,X_test,y_train,y_test = train_test_split(X,y,test_size=0.2)\n",
    "ss = StandardScaler()\n",
    "X_train = ss.fit_transform(X_train)\n",
    "X_test = ss.fit_transform(X_test)\n",
    "\n",
    "# define NN baseline  model\n",
    "nn = Sequential()\n",
    "nn.add(Dense(21, activation='relu'))\n",
    "nn.add(Dense(8,activation='relu'))\n",
    "nn.add(Dense(6, activation='softmax'))\n",
    "nn.compile(optimizer='adam', loss='categorical_crossentropy', metrics=['accuracy'])\n",
    "nn.fit(X_train,y_train, validation_data=(X_test, y_test), epochs=20)"
   ]
  },
  {
   "cell_type": "markdown",
   "metadata": {},
   "source": [
    "* Accuracy using NN is around 20%, much lowerer than random forest. "
   ]
  }
 ],
 "metadata": {
  "kernelspec": {
   "display_name": "Python 3",
   "language": "python",
   "name": "python3"
  },
  "language_info": {
   "codemirror_mode": {
    "name": "ipython",
    "version": 3
   },
   "file_extension": ".py",
   "mimetype": "text/x-python",
   "name": "python",
   "nbconvert_exporter": "python",
   "pygments_lexer": "ipython3",
   "version": "3.7.4"
  }
 },
 "nbformat": 4,
 "nbformat_minor": 4
}
